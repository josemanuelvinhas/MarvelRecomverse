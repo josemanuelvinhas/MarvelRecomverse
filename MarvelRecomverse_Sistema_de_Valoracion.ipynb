{
  "nbformat": 4,
  "nbformat_minor": 0,
  "metadata": {
    "colab": {
      "name": "MarvelRecomverse Sistema de Valoracion.ipynb",
      "provenance": [],
      "collapsed_sections": [],
      "include_colab_link": true
    },
    "kernelspec": {
      "name": "python3",
      "display_name": "Python 3"
    }
  },
  "cells": [
    {
      "cell_type": "markdown",
      "metadata": {
        "id": "view-in-github",
        "colab_type": "text"
      },
      "source": [
        "<a href=\"https://colab.research.google.com/github/josemanuelvinhas/MarvelRecomverse/blob/main/MarvelRecomverse_Sistema_de_Valoracion.ipynb\" target=\"_parent\"><img src=\"https://colab.research.google.com/assets/colab-badge.svg\" alt=\"Open In Colab\"/></a>"
      ]
    },
    {
      "cell_type": "markdown",
      "metadata": {
        "id": "uJUsJfX_ePVp"
      },
      "source": [
        "#**0. Sistema de Valoración**"
      ]
    },
    {
      "cell_type": "markdown",
      "metadata": {
        "id": "kjei4ELgiJ1z"
      },
      "source": [
        "Se realizaran dos prototipos del sistema de valoración:\n",
        "\n",
        "*   Valoración manual de un personaje\n",
        "*   Valoración automatizada de un personaje a través de comentarios\n",
        "\n",
        "Las valoraciones de cada usuario se almacenarán en un dataset que guardará:\n",
        "\n",
        "*   Nombre del personaje (name)\n",
        "*   Comentario (comentario)\n",
        "*   Valoracion comentario (valoracion_comentario)\n",
        "*   Valoracion directa (valoracion_directa)\n",
        "\n"
      ]
    },
    {
      "cell_type": "markdown",
      "metadata": {
        "id": "XXzc8BTxfqpy"
      },
      "source": [
        "#**1. Sistema de Valoración Manual**"
      ]
    },
    {
      "cell_type": "markdown",
      "metadata": {
        "id": "9HVZyALwgBGg"
      },
      "source": [
        "Introduce la valoracion del item:\n",
        "\n",
        "*   Neutro\n",
        "*   Like\n",
        "*   Dislike\n"
      ]
    },
    {
      "cell_type": "code",
      "metadata": {
        "id": "0z70FwPYgBs7"
      },
      "source": [
        "valoracion = \"Like\" #Introduce aquí Like, Dislike o cualquier otra cosa (Neutro)\n",
        "\n",
        "nombre_usuario = \"Pepe\" #Nombre del usuario (el archivo csv con la informacion contendrá el nombre de usuario)\n",
        "\n",
        "index = 1 #Indice sobre el personaje afectado, en este caso A.I.M"
      ],
      "execution_count": null,
      "outputs": []
    },
    {
      "cell_type": "markdown",
      "metadata": {
        "id": "oS_puA0Tg4ad"
      },
      "source": [
        "Se carga el dataset"
      ]
    },
    {
      "cell_type": "code",
      "metadata": {
        "colab": {
          "base_uri": "https://localhost:8080/",
          "height": 419
        },
        "id": "n9UelguegnIb",
        "outputId": "cd7942d4-9483-4abf-dac9-009b29970884"
      },
      "source": [
        "import pandas as pd\n",
        "\n",
        "originalData = pd.read_csv('marvel.csv')\n",
        "originalData"
      ],
      "execution_count": null,
      "outputs": [
        {
          "output_type": "execute_result",
          "data": {
            "text/html": [
              "<div>\n",
              "<style scoped>\n",
              "    .dataframe tbody tr th:only-of-type {\n",
              "        vertical-align: middle;\n",
              "    }\n",
              "\n",
              "    .dataframe tbody tr th {\n",
              "        vertical-align: top;\n",
              "    }\n",
              "\n",
              "    .dataframe thead th {\n",
              "        text-align: right;\n",
              "    }\n",
              "</style>\n",
              "<table border=\"1\" class=\"dataframe\">\n",
              "  <thead>\n",
              "    <tr style=\"text-align: right;\">\n",
              "      <th></th>\n",
              "      <th>name</th>\n",
              "      <th>description</th>\n",
              "    </tr>\n",
              "  </thead>\n",
              "  <tbody>\n",
              "    <tr>\n",
              "      <th>0</th>\n",
              "      <td>A-Bomb (HAS)</td>\n",
              "      <td>Rick Jones has been Hulk's best bud since day ...</td>\n",
              "    </tr>\n",
              "    <tr>\n",
              "      <th>1</th>\n",
              "      <td>A.I.M.</td>\n",
              "      <td>AIM is a terrorist organization bent on destro...</td>\n",
              "    </tr>\n",
              "    <tr>\n",
              "      <th>2</th>\n",
              "      <td>Abomination (Emil Blonsky)</td>\n",
              "      <td>Formerly known as Emil Blonsky, a spy of Sovie...</td>\n",
              "    </tr>\n",
              "    <tr>\n",
              "      <th>3</th>\n",
              "      <td>Adam Warlock</td>\n",
              "      <td>Adam Warlock is an artificially created human ...</td>\n",
              "    </tr>\n",
              "    <tr>\n",
              "      <th>4</th>\n",
              "      <td>Agent X (Nijo)</td>\n",
              "      <td>Originally a partner of the mind-altering assa...</td>\n",
              "    </tr>\n",
              "    <tr>\n",
              "      <th>...</th>\n",
              "      <td>...</td>\n",
              "      <td>...</td>\n",
              "    </tr>\n",
              "    <tr>\n",
              "      <th>276</th>\n",
              "      <td>Zarek</td>\n",
              "      <td>Zarek is a member of the Kree race with no sup...</td>\n",
              "    </tr>\n",
              "    <tr>\n",
              "      <th>277</th>\n",
              "      <td>Zodiak</td>\n",
              "      <td>Twelve demons merged with Norman Harrison, who...</td>\n",
              "    </tr>\n",
              "    <tr>\n",
              "      <th>278</th>\n",
              "      <td>Zombie (Simon Garth)</td>\n",
              "      <td>War hero Simon Garth was turned into a zombie ...</td>\n",
              "    </tr>\n",
              "    <tr>\n",
              "      <th>279</th>\n",
              "      <td>Zuras</td>\n",
              "      <td>Zuras was once the leader of the Eternals.</td>\n",
              "    </tr>\n",
              "    <tr>\n",
              "      <th>280</th>\n",
              "      <td>Zzzax</td>\n",
              "      <td>A chain reaction in an atomic reactor, a resul...</td>\n",
              "    </tr>\n",
              "  </tbody>\n",
              "</table>\n",
              "<p>281 rows × 2 columns</p>\n",
              "</div>"
            ],
            "text/plain": [
              "                           name                                        description\n",
              "0                  A-Bomb (HAS)  Rick Jones has been Hulk's best bud since day ...\n",
              "1                        A.I.M.  AIM is a terrorist organization bent on destro...\n",
              "2    Abomination (Emil Blonsky)  Formerly known as Emil Blonsky, a spy of Sovie...\n",
              "3                  Adam Warlock  Adam Warlock is an artificially created human ...\n",
              "4                Agent X (Nijo)  Originally a partner of the mind-altering assa...\n",
              "..                          ...                                                ...\n",
              "276                       Zarek  Zarek is a member of the Kree race with no sup...\n",
              "277                      Zodiak  Twelve demons merged with Norman Harrison, who...\n",
              "278        Zombie (Simon Garth)  War hero Simon Garth was turned into a zombie ...\n",
              "279                       Zuras         Zuras was once the leader of the Eternals.\n",
              "280                       Zzzax  A chain reaction in an atomic reactor, a resul...\n",
              "\n",
              "[281 rows x 2 columns]"
            ]
          },
          "metadata": {
            "tags": []
          },
          "execution_count": 2
        }
      ]
    },
    {
      "cell_type": "markdown",
      "metadata": {
        "id": "c08HQl05iBaE"
      },
      "source": [
        "A continuación creamos el dataset y añadimos la valoración. Recordemos que las valoraciones se tratan en el Sistema de Recomendación de la siguiente manera:\n",
        "\n",
        "  * Like (0)\n",
        "  * Dislike (1)\n",
        "  * Neutra o ninguna (0.5)"
      ]
    },
    {
      "cell_type": "code",
      "metadata": {
        "colab": {
          "base_uri": "https://localhost:8080/",
          "height": 80
        },
        "id": "w-XQWTr7j6i7",
        "outputId": "1b72d643-5228-4a9e-c6d8-821ae1895161"
      },
      "source": [
        "name = originalData.loc[index, \"name\"]\n",
        "\n",
        "if valoracion == \"Like\":\n",
        "  like = 0.0\n",
        "elif valoracion == \"Dislike\":\n",
        "  like = 1\n",
        "else:\n",
        "  like = 0.5\n",
        "\n",
        "data_user = {'name': name, 'valoracion_directa' : like}\n",
        "\n",
        "dataframe_user = pd.DataFrame()\n",
        "dataframe_user = dataframe_user.append(data_user, ignore_index=True)\n",
        "\n",
        "dataframe_user"
      ],
      "execution_count": null,
      "outputs": [
        {
          "output_type": "execute_result",
          "data": {
            "text/html": [
              "<div>\n",
              "<style scoped>\n",
              "    .dataframe tbody tr th:only-of-type {\n",
              "        vertical-align: middle;\n",
              "    }\n",
              "\n",
              "    .dataframe tbody tr th {\n",
              "        vertical-align: top;\n",
              "    }\n",
              "\n",
              "    .dataframe thead th {\n",
              "        text-align: right;\n",
              "    }\n",
              "</style>\n",
              "<table border=\"1\" class=\"dataframe\">\n",
              "  <thead>\n",
              "    <tr style=\"text-align: right;\">\n",
              "      <th></th>\n",
              "      <th>name</th>\n",
              "      <th>valoracion_directa</th>\n",
              "    </tr>\n",
              "  </thead>\n",
              "  <tbody>\n",
              "    <tr>\n",
              "      <th>0</th>\n",
              "      <td>A.I.M.</td>\n",
              "      <td>0.0</td>\n",
              "    </tr>\n",
              "  </tbody>\n",
              "</table>\n",
              "</div>"
            ],
            "text/plain": [
              "     name  valoracion_directa\n",
              "0  A.I.M.                 0.0"
            ]
          },
          "metadata": {
            "tags": []
          },
          "execution_count": 3
        }
      ]
    },
    {
      "cell_type": "markdown",
      "metadata": {
        "id": "fD1PCVMhnjhw"
      },
      "source": [
        "En el Sistema de Valoración Automatizado se incluirá en este dataset el resto de la información."
      ]
    },
    {
      "cell_type": "markdown",
      "metadata": {
        "id": "n6ctW4BDfAyt"
      },
      "source": [
        "#**2. Sistema de Valoración Automatizado**"
      ]
    },
    {
      "cell_type": "markdown",
      "metadata": {
        "id": "xCKFnwk1rsCR"
      },
      "source": [
        "A continuación se han realizado distintas pruebas con sistemas de clasificación. Al final se ha decidido emplear Ensemble Learning como sistema clasificador de comentarios."
      ]
    },
    {
      "cell_type": "markdown",
      "metadata": {
        "id": "FZ17MDTQm0J_"
      },
      "source": [
        "**Carga del dataset**\n",
        "\n",
        "Este dataset está disponible en [GitHub](https://github.com/josemanuelvinhas/MarvelRecomverse/tree/main/datasets)\n",
        "\n",
        "Se trata de un dataset de comentarios de Reddit, que se ha dividido en 2 partes, una para entrenamiento y otra para test."
      ]
    },
    {
      "cell_type": "code",
      "metadata": {
        "colab": {
          "base_uri": "https://localhost:8080/",
          "height": 419
        },
        "id": "Iwchgb-9gEDL",
        "outputId": "a8ebd52d-3d5f-4167-e5b8-e6b4d49b4f9d"
      },
      "source": [
        "import pandas as pd\n",
        "\n",
        "trainingData = pd.read_csv('reddit_data_train.csv', delimiter=',')\n",
        "trainingData = trainingData.head(4000) #Descomentar la funcion head() si no se quiere usar todo el dataset.\n",
        "trainingData"
      ],
      "execution_count": null,
      "outputs": [
        {
          "output_type": "execute_result",
          "data": {
            "text/html": [
              "<div>\n",
              "<style scoped>\n",
              "    .dataframe tbody tr th:only-of-type {\n",
              "        vertical-align: middle;\n",
              "    }\n",
              "\n",
              "    .dataframe tbody tr th {\n",
              "        vertical-align: top;\n",
              "    }\n",
              "\n",
              "    .dataframe thead th {\n",
              "        text-align: right;\n",
              "    }\n",
              "</style>\n",
              "<table border=\"1\" class=\"dataframe\">\n",
              "  <thead>\n",
              "    <tr style=\"text-align: right;\">\n",
              "      <th></th>\n",
              "      <th>clean_comment</th>\n",
              "      <th>category</th>\n",
              "    </tr>\n",
              "  </thead>\n",
              "  <tbody>\n",
              "    <tr>\n",
              "      <th>0</th>\n",
              "      <td>family mormon have never tried explain them t...</td>\n",
              "      <td>1</td>\n",
              "    </tr>\n",
              "    <tr>\n",
              "      <th>1</th>\n",
              "      <td>buddhism has very much lot compatible with chr...</td>\n",
              "      <td>1</td>\n",
              "    </tr>\n",
              "    <tr>\n",
              "      <th>2</th>\n",
              "      <td>seriously don say thing first all they won get...</td>\n",
              "      <td>-1</td>\n",
              "    </tr>\n",
              "    <tr>\n",
              "      <th>3</th>\n",
              "      <td>what you have learned yours and only yours wha...</td>\n",
              "      <td>0</td>\n",
              "    </tr>\n",
              "    <tr>\n",
              "      <th>4</th>\n",
              "      <td>for your own benefit you may want read living ...</td>\n",
              "      <td>1</td>\n",
              "    </tr>\n",
              "    <tr>\n",
              "      <th>...</th>\n",
              "      <td>...</td>\n",
              "      <td>...</td>\n",
              "    </tr>\n",
              "    <tr>\n",
              "      <th>3995</th>\n",
              "      <td>folks just head over times now and watch what ...</td>\n",
              "      <td>1</td>\n",
              "    </tr>\n",
              "    <tr>\n",
              "      <th>3996</th>\n",
              "      <td>anybody has link the imgur photo which shows f...</td>\n",
              "      <td>0</td>\n",
              "    </tr>\n",
              "    <tr>\n",
              "      <th>3997</th>\n",
              "      <td>the results are expected this delhi election ...</td>\n",
              "      <td>1</td>\n",
              "    </tr>\n",
              "    <tr>\n",
              "      <th>3998</th>\n",
              "      <td>bjp should totally buy nano innova kejriwal no...</td>\n",
              "      <td>0</td>\n",
              "    </tr>\n",
              "    <tr>\n",
              "      <th>3999</th>\n",
              "      <td>just observation very interesting see that the...</td>\n",
              "      <td>1</td>\n",
              "    </tr>\n",
              "  </tbody>\n",
              "</table>\n",
              "<p>4000 rows × 2 columns</p>\n",
              "</div>"
            ],
            "text/plain": [
              "                                          clean_comment  category\n",
              "0      family mormon have never tried explain them t...         1\n",
              "1     buddhism has very much lot compatible with chr...         1\n",
              "2     seriously don say thing first all they won get...        -1\n",
              "3     what you have learned yours and only yours wha...         0\n",
              "4     for your own benefit you may want read living ...         1\n",
              "...                                                 ...       ...\n",
              "3995  folks just head over times now and watch what ...         1\n",
              "3996  anybody has link the imgur photo which shows f...         0\n",
              "3997   the results are expected this delhi election ...         1\n",
              "3998  bjp should totally buy nano innova kejriwal no...         0\n",
              "3999  just observation very interesting see that the...         1\n",
              "\n",
              "[4000 rows x 2 columns]"
            ]
          },
          "metadata": {
            "tags": []
          },
          "execution_count": 4
        }
      ]
    },
    {
      "cell_type": "code",
      "metadata": {
        "colab": {
          "base_uri": "https://localhost:8080/"
        },
        "id": "YrMITVkUk62l",
        "outputId": "02d2fe5e-0952-4fde-c469-b170651b26b0"
      },
      "source": [
        "trainingData['category'].value_counts()"
      ],
      "execution_count": null,
      "outputs": [
        {
          "output_type": "execute_result",
          "data": {
            "text/plain": [
              " 1    1816\n",
              " 0    1304\n",
              "-1     880\n",
              "Name: category, dtype: int64"
            ]
          },
          "metadata": {
            "tags": []
          },
          "execution_count": 5
        }
      ]
    },
    {
      "cell_type": "markdown",
      "metadata": {
        "id": "CKSdg_OmlDFR"
      },
      "source": [
        "**Preprocesamiento de los datos de entrenamiento**\n"
      ]
    },
    {
      "cell_type": "code",
      "metadata": {
        "colab": {
          "base_uri": "https://localhost:8080/",
          "height": 487
        },
        "id": "fGCghWh3lGt0",
        "outputId": "69f05c6d-6202-4e63-f4be-b58ac9e2a1e7"
      },
      "source": [
        "from nltk.tokenize import word_tokenize \n",
        "from nltk.corpus import stopwords\n",
        "from nltk.stem import PorterStemmer\n",
        "\n",
        "import nltk\n",
        "nltk.download('punkt')\n",
        "nltk.download('stopwords')\n",
        "\n",
        "ps = PorterStemmer()\n",
        "\n",
        "preprocessedText = []\n",
        "\n",
        "for row in trainingData.itertuples():\n",
        "    ## indice de la columna que contiene el texto\n",
        "    text = word_tokenize(str(row[1])) \n",
        "    ## Remove stop words\n",
        "    stops = set(stopwords.words(\"english\"))\n",
        "    text = [ps.stem(w) for w in text if not w in stops and w.isalnum()]\n",
        "    text = \" \".join(text)\n",
        "    \n",
        "    preprocessedText.append(text)\n",
        "\n",
        "preprocessedData = trainingData\n",
        "preprocessedData['processed_text'] = preprocessedText\n",
        "\n",
        "preprocessedData"
      ],
      "execution_count": null,
      "outputs": [
        {
          "output_type": "stream",
          "text": [
            "[nltk_data] Downloading package punkt to /root/nltk_data...\n",
            "[nltk_data]   Package punkt is already up-to-date!\n",
            "[nltk_data] Downloading package stopwords to /root/nltk_data...\n",
            "[nltk_data]   Package stopwords is already up-to-date!\n"
          ],
          "name": "stdout"
        },
        {
          "output_type": "execute_result",
          "data": {
            "text/html": [
              "<div>\n",
              "<style scoped>\n",
              "    .dataframe tbody tr th:only-of-type {\n",
              "        vertical-align: middle;\n",
              "    }\n",
              "\n",
              "    .dataframe tbody tr th {\n",
              "        vertical-align: top;\n",
              "    }\n",
              "\n",
              "    .dataframe thead th {\n",
              "        text-align: right;\n",
              "    }\n",
              "</style>\n",
              "<table border=\"1\" class=\"dataframe\">\n",
              "  <thead>\n",
              "    <tr style=\"text-align: right;\">\n",
              "      <th></th>\n",
              "      <th>clean_comment</th>\n",
              "      <th>category</th>\n",
              "      <th>processed_text</th>\n",
              "    </tr>\n",
              "  </thead>\n",
              "  <tbody>\n",
              "    <tr>\n",
              "      <th>0</th>\n",
              "      <td>family mormon have never tried explain them t...</td>\n",
              "      <td>1</td>\n",
              "      <td>famili mormon never tri explain still stare pu...</td>\n",
              "    </tr>\n",
              "    <tr>\n",
              "      <th>1</th>\n",
              "      <td>buddhism has very much lot compatible with chr...</td>\n",
              "      <td>1</td>\n",
              "      <td>buddhism much lot compat christian especi cons...</td>\n",
              "    </tr>\n",
              "    <tr>\n",
              "      <th>2</th>\n",
              "      <td>seriously don say thing first all they won get...</td>\n",
              "      <td>-1</td>\n",
              "      <td>serious say thing first get complex explain no...</td>\n",
              "    </tr>\n",
              "    <tr>\n",
              "      <th>3</th>\n",
              "      <td>what you have learned yours and only yours wha...</td>\n",
              "      <td>0</td>\n",
              "      <td>learn want teach differ focu goal wrap paper b...</td>\n",
              "    </tr>\n",
              "    <tr>\n",
              "      <th>4</th>\n",
              "      <td>for your own benefit you may want read living ...</td>\n",
              "      <td>1</td>\n",
              "      <td>benefit may want read live buddha live christ ...</td>\n",
              "    </tr>\n",
              "    <tr>\n",
              "      <th>...</th>\n",
              "      <td>...</td>\n",
              "      <td>...</td>\n",
              "      <td>...</td>\n",
              "    </tr>\n",
              "    <tr>\n",
              "      <th>3995</th>\n",
              "      <td>folks just head over times now and watch what ...</td>\n",
              "      <td>1</td>\n",
              "      <td>folk head time watch arnab congress spokespers...</td>\n",
              "    </tr>\n",
              "    <tr>\n",
              "      <th>3996</th>\n",
              "      <td>anybody has link the imgur photo which shows f...</td>\n",
              "      <td>0</td>\n",
              "      <td>anybodi link imgur photo show front page newsp...</td>\n",
              "    </tr>\n",
              "    <tr>\n",
              "      <th>3997</th>\n",
              "      <td>the results are expected this delhi election ...</td>\n",
              "      <td>1</td>\n",
              "      <td>result expect delhi elect remind fight mountai...</td>\n",
              "    </tr>\n",
              "    <tr>\n",
              "      <th>3998</th>\n",
              "      <td>bjp should totally buy nano innova kejriwal no...</td>\n",
              "      <td>0</td>\n",
              "      <td>bjp total buy nano innova kejriw gon na give l...</td>\n",
              "    </tr>\n",
              "    <tr>\n",
              "      <th>3999</th>\n",
              "      <td>just observation very interesting see that the...</td>\n",
              "      <td>1</td>\n",
              "      <td>observ interest see bjp vote share remain pret...</td>\n",
              "    </tr>\n",
              "  </tbody>\n",
              "</table>\n",
              "<p>4000 rows × 3 columns</p>\n",
              "</div>"
            ],
            "text/plain": [
              "                                          clean_comment  ...                                     processed_text\n",
              "0      family mormon have never tried explain them t...  ...  famili mormon never tri explain still stare pu...\n",
              "1     buddhism has very much lot compatible with chr...  ...  buddhism much lot compat christian especi cons...\n",
              "2     seriously don say thing first all they won get...  ...  serious say thing first get complex explain no...\n",
              "3     what you have learned yours and only yours wha...  ...  learn want teach differ focu goal wrap paper b...\n",
              "4     for your own benefit you may want read living ...  ...  benefit may want read live buddha live christ ...\n",
              "...                                                 ...  ...                                                ...\n",
              "3995  folks just head over times now and watch what ...  ...  folk head time watch arnab congress spokespers...\n",
              "3996  anybody has link the imgur photo which shows f...  ...  anybodi link imgur photo show front page newsp...\n",
              "3997   the results are expected this delhi election ...  ...  result expect delhi elect remind fight mountai...\n",
              "3998  bjp should totally buy nano innova kejriwal no...  ...  bjp total buy nano innova kejriw gon na give l...\n",
              "3999  just observation very interesting see that the...  ...  observ interest see bjp vote share remain pret...\n",
              "\n",
              "[4000 rows x 3 columns]"
            ]
          },
          "metadata": {
            "tags": []
          },
          "execution_count": 6
        }
      ]
    },
    {
      "cell_type": "markdown",
      "metadata": {
        "id": "bSlj-pMpmfZ6"
      },
      "source": [
        "**Creación de la bolsa de palabras**\n"
      ]
    },
    {
      "cell_type": "code",
      "metadata": {
        "colab": {
          "base_uri": "https://localhost:8080/"
        },
        "id": "jwcSST_1mhMP",
        "outputId": "cca1e1d0-5aed-424a-e2c2-791eb20ca60f"
      },
      "source": [
        "from sklearn.feature_extraction.text import TfidfVectorizer\n",
        "\n",
        "bagOfWordsModel = TfidfVectorizer()\n",
        "bagOfWordsModel.fit(preprocessedData['processed_text'])\n",
        "textsBoW= bagOfWordsModel.transform(preprocessedData['processed_text'])\n",
        "print(\"Finished\")"
      ],
      "execution_count": null,
      "outputs": [
        {
          "output_type": "stream",
          "text": [
            "Finished\n"
          ],
          "name": "stdout"
        }
      ]
    },
    {
      "cell_type": "code",
      "metadata": {
        "colab": {
          "base_uri": "https://localhost:8080/"
        },
        "id": "prMVshSkmoOk",
        "outputId": "5ef8ebe0-6a57-423c-f195-bc2fb62975a5"
      },
      "source": [
        "textsBoW.shape"
      ],
      "execution_count": null,
      "outputs": [
        {
          "output_type": "execute_result",
          "data": {
            "text/plain": [
              "(4000, 9764)"
            ]
          },
          "metadata": {
            "tags": []
          },
          "execution_count": 8
        }
      ]
    },
    {
      "cell_type": "markdown",
      "metadata": {
        "id": "_pS7XSV4mqur"
      },
      "source": [
        "**Entrenamiento de un algoritmo de clasificación (SVM)**"
      ]
    },
    {
      "cell_type": "markdown",
      "metadata": {
        "id": "uihAm1cqsOfL"
      },
      "source": [
        "Se prueban clasificadores SVM con distintos kernel y otros parámetros."
      ]
    },
    {
      "cell_type": "code",
      "metadata": {
        "id": "EctDgTSSfoGq"
      },
      "source": [
        "X_train = textsBoW #Documentos\r\n",
        "Y_train = trainingData['category'] #Etiquetas de los documentos "
      ],
      "execution_count": null,
      "outputs": []
    },
    {
      "cell_type": "markdown",
      "metadata": {
        "id": "Wq0s9HZweLb2"
      },
      "source": [
        "*   **Kernel = linear**"
      ]
    },
    {
      "cell_type": "code",
      "metadata": {
        "colab": {
          "base_uri": "https://localhost:8080/"
        },
        "id": "uJTC9-1Hm49_",
        "outputId": "6aeafffb-f29e-42df-ec5d-bb930645cc4d"
      },
      "source": [
        "from sklearn import svm\n",
        "svc_linear = svm.SVC(kernel='linear') #Modelo de clasificación\n",
        "\n",
        "svc_linear.fit(X_train, Y_train) #Entrenamiento"
      ],
      "execution_count": null,
      "outputs": [
        {
          "output_type": "execute_result",
          "data": {
            "text/plain": [
              "SVC(C=1.0, break_ties=False, cache_size=200, class_weight=None, coef0=0.0,\n",
              "    decision_function_shape='ovr', degree=3, gamma='scale', kernel='linear',\n",
              "    max_iter=-1, probability=False, random_state=None, shrinking=True,\n",
              "    tol=0.001, verbose=False)"
            ]
          },
          "metadata": {
            "tags": []
          },
          "execution_count": 10
        }
      ]
    },
    {
      "cell_type": "markdown",
      "metadata": {
        "id": "WZuiJaaXedzl"
      },
      "source": [
        "*   **Kernel = poly**"
      ]
    },
    {
      "cell_type": "markdown",
      "metadata": {
        "id": "kJ60IuHBnXjU"
      },
      "source": [
        "Con grado 3 (por defecto)"
      ]
    },
    {
      "cell_type": "code",
      "metadata": {
        "colab": {
          "base_uri": "https://localhost:8080/"
        },
        "id": "gCXEnOm4fINr",
        "outputId": "5fa19a38-9a7f-4220-e84b-032e35a8a453"
      },
      "source": [
        "from sklearn import svm\r\n",
        "svc_poly = svm.SVC(kernel='poly') #Modelo de clasificación\r\n",
        "\r\n",
        "svc_poly.fit(X_train, Y_train) #Entrenamiento"
      ],
      "execution_count": null,
      "outputs": [
        {
          "output_type": "execute_result",
          "data": {
            "text/plain": [
              "SVC(C=1.0, break_ties=False, cache_size=200, class_weight=None, coef0=0.0,\n",
              "    decision_function_shape='ovr', degree=3, gamma='scale', kernel='poly',\n",
              "    max_iter=-1, probability=False, random_state=None, shrinking=True,\n",
              "    tol=0.001, verbose=False)"
            ]
          },
          "metadata": {
            "tags": []
          },
          "execution_count": 11
        }
      ]
    },
    {
      "cell_type": "markdown",
      "metadata": {
        "id": "QQ_zay9LnaI5"
      },
      "source": [
        "Con grado 10"
      ]
    },
    {
      "cell_type": "code",
      "metadata": {
        "colab": {
          "base_uri": "https://localhost:8080/"
        },
        "id": "TkYHKugYnbU7",
        "outputId": "39ed08fa-61c1-45ae-b2ea-4975a013ab3f"
      },
      "source": [
        "from sklearn import svm\r\n",
        "svc_poly_10 = svm.SVC(kernel='poly', degree=10) #Modelo de clasificación\r\n",
        "\r\n",
        "svc_poly_10.fit(X_train, Y_train) #Entrenamiento"
      ],
      "execution_count": null,
      "outputs": [
        {
          "output_type": "execute_result",
          "data": {
            "text/plain": [
              "SVC(C=1.0, break_ties=False, cache_size=200, class_weight=None, coef0=0.0,\n",
              "    decision_function_shape='ovr', degree=10, gamma='scale', kernel='poly',\n",
              "    max_iter=-1, probability=False, random_state=None, shrinking=True,\n",
              "    tol=0.001, verbose=False)"
            ]
          },
          "metadata": {
            "tags": []
          },
          "execution_count": 12
        }
      ]
    },
    {
      "cell_type": "markdown",
      "metadata": {
        "id": "gEnt9dLgfR8_"
      },
      "source": [
        "*   **Kernel = rbf**"
      ]
    },
    {
      "cell_type": "code",
      "metadata": {
        "colab": {
          "base_uri": "https://localhost:8080/"
        },
        "id": "C_Ju6Zx8fc0k",
        "outputId": "bc497ebc-be26-49f2-fd69-e3c58ff60d03"
      },
      "source": [
        "from sklearn import svm\r\n",
        "svc_rbf = svm.SVC(kernel='rbf') #Modelo de clasificación\r\n",
        "\r\n",
        "svc_rbf.fit(X_train, Y_train) #Entrenamiento"
      ],
      "execution_count": null,
      "outputs": [
        {
          "output_type": "execute_result",
          "data": {
            "text/plain": [
              "SVC(C=1.0, break_ties=False, cache_size=200, class_weight=None, coef0=0.0,\n",
              "    decision_function_shape='ovr', degree=3, gamma='scale', kernel='rbf',\n",
              "    max_iter=-1, probability=False, random_state=None, shrinking=True,\n",
              "    tol=0.001, verbose=False)"
            ]
          },
          "metadata": {
            "tags": []
          },
          "execution_count": 13
        }
      ]
    },
    {
      "cell_type": "markdown",
      "metadata": {
        "id": "Q2zMoeGTfXnR"
      },
      "source": [
        "*   **Kernel = sigmoid**"
      ]
    },
    {
      "cell_type": "markdown",
      "metadata": {
        "id": "X1iB3cDNpsbk"
      },
      "source": [
        "Con coeficiente 0.0 (por defecto)"
      ]
    },
    {
      "cell_type": "code",
      "metadata": {
        "colab": {
          "base_uri": "https://localhost:8080/"
        },
        "id": "5zQPvzDgfcZ0",
        "outputId": "e30d8201-c585-4259-ae07-d7aa5ae5e83f"
      },
      "source": [
        "from sklearn import svm\r\n",
        "svc_sigmoid = svm.SVC(kernel='sigmoid') #Modelo de clasificación\r\n",
        "\r\n",
        "svc_sigmoid.fit(X_train, Y_train) #Entrenamiento"
      ],
      "execution_count": null,
      "outputs": [
        {
          "output_type": "execute_result",
          "data": {
            "text/plain": [
              "SVC(C=1.0, break_ties=False, cache_size=200, class_weight=None, coef0=0.0,\n",
              "    decision_function_shape='ovr', degree=3, gamma='scale', kernel='sigmoid',\n",
              "    max_iter=-1, probability=False, random_state=None, shrinking=True,\n",
              "    tol=0.001, verbose=False)"
            ]
          },
          "metadata": {
            "tags": []
          },
          "execution_count": 14
        }
      ]
    },
    {
      "cell_type": "markdown",
      "metadata": {
        "id": "_LY5BoE_p0Yv"
      },
      "source": [
        "Con coeficiente 1.0"
      ]
    },
    {
      "cell_type": "code",
      "metadata": {
        "colab": {
          "base_uri": "https://localhost:8080/"
        },
        "id": "fcHpwaR4pzo7",
        "outputId": "8b17fe5c-83c4-4c7e-d0aa-cc1ef67e8c56"
      },
      "source": [
        "from sklearn import svm\r\n",
        "svc_sigmoid_coef_1 = svm.SVC(kernel='sigmoid', coef0=1.0) #Modelo de clasificación\r\n",
        "\r\n",
        "svc_sigmoid_coef_1.fit(X_train, Y_train) #Entrenamiento"
      ],
      "execution_count": null,
      "outputs": [
        {
          "output_type": "execute_result",
          "data": {
            "text/plain": [
              "SVC(C=1.0, break_ties=False, cache_size=200, class_weight=None, coef0=1.0,\n",
              "    decision_function_shape='ovr', degree=3, gamma='scale', kernel='sigmoid',\n",
              "    max_iter=-1, probability=False, random_state=None, shrinking=True,\n",
              "    tol=0.001, verbose=False)"
            ]
          },
          "metadata": {
            "tags": []
          },
          "execution_count": 15
        }
      ]
    },
    {
      "cell_type": "markdown",
      "metadata": {
        "id": "agveuWJUpPJq"
      },
      "source": [
        "**Carga de y preprocesado de documentos de test**"
      ]
    },
    {
      "cell_type": "code",
      "metadata": {
        "colab": {
          "base_uri": "https://localhost:8080/"
        },
        "id": "ZxGQqQmCpTaD",
        "outputId": "239410e8-1e54-45f1-ddc0-68879fc1587f"
      },
      "source": [
        "testData = pd.read_csv('reddit_data_test.csv', delimiter=',')\n",
        "##testData = testData.head(100)\n",
        "testData"
      ],
      "execution_count": null,
      "outputs": [
        {
          "output_type": "execute_result",
          "data": {
            "text/html": [
              "<div>\n",
              "<style scoped>\n",
              "    .dataframe tbody tr th:only-of-type {\n",
              "        vertical-align: middle;\n",
              "    }\n",
              "\n",
              "    .dataframe tbody tr th {\n",
              "        vertical-align: top;\n",
              "    }\n",
              "\n",
              "    .dataframe thead th {\n",
              "        text-align: right;\n",
              "    }\n",
              "</style>\n",
              "<table border=\"1\" class=\"dataframe\">\n",
              "  <thead>\n",
              "    <tr style=\"text-align: right;\">\n",
              "      <th></th>\n",
              "      <th>clean_comment</th>\n",
              "      <th>category</th>\n",
              "    </tr>\n",
              "  </thead>\n",
              "  <tbody>\n",
              "    <tr>\n",
              "      <th>0</th>\n",
              "      <td>modi liar</td>\n",
              "      <td>0</td>\n",
              "    </tr>\n",
              "    <tr>\n",
              "      <th>1</th>\n",
              "      <td>doesn india have more important problems then ...</td>\n",
              "      <td>1</td>\n",
              "    </tr>\n",
              "    <tr>\n",
              "      <th>2</th>\n",
              "      <td>well that settles then everyone buy back india...</td>\n",
              "      <td>-1</td>\n",
              "    </tr>\n",
              "    <tr>\n",
              "      <th>3</th>\n",
              "      <td>all know ever visit india getting one those he...</td>\n",
              "      <td>0</td>\n",
              "    </tr>\n",
              "    <tr>\n",
              "      <th>4</th>\n",
              "      <td>india wont ban bitcoin because they didnt give...</td>\n",
              "      <td>-1</td>\n",
              "    </tr>\n",
              "    <tr>\n",
              "      <th>...</th>\n",
              "      <td>...</td>\n",
              "      <td>...</td>\n",
              "    </tr>\n",
              "    <tr>\n",
              "      <th>18434</th>\n",
              "      <td>jesus</td>\n",
              "      <td>0</td>\n",
              "    </tr>\n",
              "    <tr>\n",
              "      <th>18435</th>\n",
              "      <td>kya bhai pure saal chutiya banaya modi aur jab...</td>\n",
              "      <td>1</td>\n",
              "    </tr>\n",
              "    <tr>\n",
              "      <th>18436</th>\n",
              "      <td>downvote karna tha par upvote hogaya</td>\n",
              "      <td>0</td>\n",
              "    </tr>\n",
              "    <tr>\n",
              "      <th>18437</th>\n",
              "      <td>haha nice</td>\n",
              "      <td>1</td>\n",
              "    </tr>\n",
              "    <tr>\n",
              "      <th>18438</th>\n",
              "      <td>facebook itself now working bjp’ cell</td>\n",
              "      <td>0</td>\n",
              "    </tr>\n",
              "  </tbody>\n",
              "</table>\n",
              "<p>18439 rows × 2 columns</p>\n",
              "</div>"
            ],
            "text/plain": [
              "                                           clean_comment  category\n",
              "0                                             modi liar          0\n",
              "1      doesn india have more important problems then ...         1\n",
              "2      well that settles then everyone buy back india...        -1\n",
              "3      all know ever visit india getting one those he...         0\n",
              "4      india wont ban bitcoin because they didnt give...        -1\n",
              "...                                                  ...       ...\n",
              "18434                                              jesus         0\n",
              "18435  kya bhai pure saal chutiya banaya modi aur jab...         1\n",
              "18436              downvote karna tha par upvote hogaya          0\n",
              "18437                                         haha nice          1\n",
              "18438             facebook itself now working bjp’ cell          0\n",
              "\n",
              "[18439 rows x 2 columns]"
            ]
          },
          "metadata": {
            "tags": []
          },
          "execution_count": 16
        }
      ]
    },
    {
      "cell_type": "code",
      "metadata": {
        "colab": {
          "base_uri": "https://localhost:8080/",
          "height": 419
        },
        "id": "7loifGwepcKs",
        "outputId": "3f2cbe52-e2db-44ef-fa5e-285bed17f492"
      },
      "source": [
        "ps = PorterStemmer()\n",
        "\n",
        "preprocessedText = []\n",
        "\n",
        "for row in testData.itertuples():\n",
        "    \n",
        "    \n",
        "    text = word_tokenize(str(row[1])) ## indice de la columna que contiene el texto\n",
        "    ## Remove stop words\n",
        "    stops = set(stopwords.words(\"english\"))\n",
        "    text = [ps.stem(w) for w in text if not w in stops and w.isalnum()]\n",
        "    text = \" \".join(text)\n",
        "    \n",
        "    preprocessedText.append(text)\n",
        "\n",
        "preprocessedDataTest = testData\n",
        "preprocessedDataTest['processed_text'] = preprocessedText\n",
        "\n",
        "preprocessedDataTest"
      ],
      "execution_count": null,
      "outputs": [
        {
          "output_type": "execute_result",
          "data": {
            "text/html": [
              "<div>\n",
              "<style scoped>\n",
              "    .dataframe tbody tr th:only-of-type {\n",
              "        vertical-align: middle;\n",
              "    }\n",
              "\n",
              "    .dataframe tbody tr th {\n",
              "        vertical-align: top;\n",
              "    }\n",
              "\n",
              "    .dataframe thead th {\n",
              "        text-align: right;\n",
              "    }\n",
              "</style>\n",
              "<table border=\"1\" class=\"dataframe\">\n",
              "  <thead>\n",
              "    <tr style=\"text-align: right;\">\n",
              "      <th></th>\n",
              "      <th>clean_comment</th>\n",
              "      <th>category</th>\n",
              "      <th>processed_text</th>\n",
              "    </tr>\n",
              "  </thead>\n",
              "  <tbody>\n",
              "    <tr>\n",
              "      <th>0</th>\n",
              "      <td>modi liar</td>\n",
              "      <td>0</td>\n",
              "      <td>modi liar</td>\n",
              "    </tr>\n",
              "    <tr>\n",
              "      <th>1</th>\n",
              "      <td>doesn india have more important problems then ...</td>\n",
              "      <td>1</td>\n",
              "      <td>india import problem cryptocurr</td>\n",
              "    </tr>\n",
              "    <tr>\n",
              "      <th>2</th>\n",
              "      <td>well that settles then everyone buy back india...</td>\n",
              "      <td>-1</td>\n",
              "      <td>well settl everyon buy back indian kid verifi ...</td>\n",
              "    </tr>\n",
              "    <tr>\n",
              "      <th>3</th>\n",
              "      <td>all know ever visit india getting one those he...</td>\n",
              "      <td>0</td>\n",
              "      <td>know ever visit india get one head massag barb...</td>\n",
              "    </tr>\n",
              "    <tr>\n",
              "      <th>4</th>\n",
              "      <td>india wont ban bitcoin because they didnt give...</td>\n",
              "      <td>-1</td>\n",
              "      <td>india wont ban bitcoin didnt give everi citize...</td>\n",
              "    </tr>\n",
              "    <tr>\n",
              "      <th>...</th>\n",
              "      <td>...</td>\n",
              "      <td>...</td>\n",
              "      <td>...</td>\n",
              "    </tr>\n",
              "    <tr>\n",
              "      <th>18434</th>\n",
              "      <td>jesus</td>\n",
              "      <td>0</td>\n",
              "      <td>jesu</td>\n",
              "    </tr>\n",
              "    <tr>\n",
              "      <th>18435</th>\n",
              "      <td>kya bhai pure saal chutiya banaya modi aur jab...</td>\n",
              "      <td>1</td>\n",
              "      <td>kya bhai pure saal chutiya banaya modi aur jab...</td>\n",
              "    </tr>\n",
              "    <tr>\n",
              "      <th>18436</th>\n",
              "      <td>downvote karna tha par upvote hogaya</td>\n",
              "      <td>0</td>\n",
              "      <td>downvot karna tha par upvot hogaya</td>\n",
              "    </tr>\n",
              "    <tr>\n",
              "      <th>18437</th>\n",
              "      <td>haha nice</td>\n",
              "      <td>1</td>\n",
              "      <td>haha nice</td>\n",
              "    </tr>\n",
              "    <tr>\n",
              "      <th>18438</th>\n",
              "      <td>facebook itself now working bjp’ cell</td>\n",
              "      <td>0</td>\n",
              "      <td>facebook work bjp cell</td>\n",
              "    </tr>\n",
              "  </tbody>\n",
              "</table>\n",
              "<p>18439 rows × 3 columns</p>\n",
              "</div>"
            ],
            "text/plain": [
              "                                           clean_comment  ...                                     processed_text\n",
              "0                                             modi liar   ...                                          modi liar\n",
              "1      doesn india have more important problems then ...  ...                    india import problem cryptocurr\n",
              "2      well that settles then everyone buy back india...  ...  well settl everyon buy back indian kid verifi ...\n",
              "3      all know ever visit india getting one those he...  ...  know ever visit india get one head massag barb...\n",
              "4      india wont ban bitcoin because they didnt give...  ...  india wont ban bitcoin didnt give everi citize...\n",
              "...                                                  ...  ...                                                ...\n",
              "18434                                              jesus  ...                                               jesu\n",
              "18435  kya bhai pure saal chutiya banaya modi aur jab...  ...  kya bhai pure saal chutiya banaya modi aur jab...\n",
              "18436              downvote karna tha par upvote hogaya   ...                 downvot karna tha par upvot hogaya\n",
              "18437                                         haha nice   ...                                          haha nice\n",
              "18438             facebook itself now working bjp’ cell   ...                             facebook work bjp cell\n",
              "\n",
              "[18439 rows x 3 columns]"
            ]
          },
          "metadata": {
            "tags": []
          },
          "execution_count": 17
        }
      ]
    },
    {
      "cell_type": "code",
      "metadata": {
        "colab": {
          "base_uri": "https://localhost:8080/"
        },
        "id": "L4SbQsEIprBy",
        "outputId": "1d351a12-85c0-4a67-d46e-ff0a6bf3b25e"
      },
      "source": [
        "testData['category'].value_counts()"
      ],
      "execution_count": null,
      "outputs": [
        {
          "output_type": "execute_result",
          "data": {
            "text/plain": [
              " 1    7540\n",
              " 0    6914\n",
              "-1    3985\n",
              "Name: category, dtype: int64"
            ]
          },
          "metadata": {
            "tags": []
          },
          "execution_count": 18
        }
      ]
    },
    {
      "cell_type": "code",
      "metadata": {
        "colab": {
          "base_uri": "https://localhost:8080/"
        },
        "id": "bxWvVGJ2pv-S",
        "outputId": "d04e41f7-16e1-49a8-e099-872d2584c325"
      },
      "source": [
        "textsBoWTest= bagOfWordsModel.transform(preprocessedDataTest['processed_text'])\n",
        "print(\"Finished\")"
      ],
      "execution_count": null,
      "outputs": [
        {
          "output_type": "stream",
          "text": [
            "Finished\n"
          ],
          "name": "stdout"
        }
      ]
    },
    {
      "cell_type": "code",
      "metadata": {
        "colab": {
          "base_uri": "https://localhost:8080/"
        },
        "id": "ZjWq4VDzpyhS",
        "outputId": "7f40c9de-7484-42ee-b444-c323c53b4448"
      },
      "source": [
        "textsBoWTest.shape"
      ],
      "execution_count": null,
      "outputs": [
        {
          "output_type": "execute_result",
          "data": {
            "text/plain": [
              "(18439, 9764)"
            ]
          },
          "metadata": {
            "tags": []
          },
          "execution_count": 20
        }
      ]
    },
    {
      "cell_type": "markdown",
      "metadata": {
        "id": "1MGDgEzDp0cd"
      },
      "source": [
        "**Clasificación de los documentos de test**"
      ]
    },
    {
      "cell_type": "code",
      "metadata": {
        "id": "h0SntgSNgKc7"
      },
      "source": [
        "X_test = textsBoWTest #Documentos"
      ],
      "execution_count": null,
      "outputs": []
    },
    {
      "cell_type": "markdown",
      "metadata": {
        "id": "WBZL2cA2f6vB"
      },
      "source": [
        "*   **Kernel = linear**"
      ]
    },
    {
      "cell_type": "code",
      "metadata": {
        "id": "VDW0EWG1p2tg"
      },
      "source": [
        "predictions_linear = svc_linear.predict(X_test) #Se almacena en el array predictions las predicciones del clasificador"
      ],
      "execution_count": null,
      "outputs": []
    },
    {
      "cell_type": "markdown",
      "metadata": {
        "id": "3ThMfCHVf7mG"
      },
      "source": [
        "*   **Kernel = poly**"
      ]
    },
    {
      "cell_type": "markdown",
      "metadata": {
        "id": "YUxewLGDnMks"
      },
      "source": [
        "Con grado 3 (por defecto)"
      ]
    },
    {
      "cell_type": "code",
      "metadata": {
        "id": "qGYczWTTgX9L"
      },
      "source": [
        "predictions_poly = svc_poly.predict(X_test) #Se almacena en el array predictions las predicciones del clasificador"
      ],
      "execution_count": null,
      "outputs": []
    },
    {
      "cell_type": "markdown",
      "metadata": {
        "id": "IfpFDcNxnQOA"
      },
      "source": [
        "Con grado 10"
      ]
    },
    {
      "cell_type": "code",
      "metadata": {
        "id": "z_APsTUZnTAP"
      },
      "source": [
        "predictions_poly_10 = svc_poly_10.predict(X_test) #Se almacena en el array predictions las predicciones del clasificador"
      ],
      "execution_count": null,
      "outputs": []
    },
    {
      "cell_type": "markdown",
      "metadata": {
        "id": "aQ5e0ZsHf8Lp"
      },
      "source": [
        "*   **Kernel = rbf**"
      ]
    },
    {
      "cell_type": "code",
      "metadata": {
        "id": "FgE5lfVMgYeD"
      },
      "source": [
        "predictions_rbf = svc_rbf.predict(X_test) #Se almacena en el array predictions las predicciones del clasificador"
      ],
      "execution_count": null,
      "outputs": []
    },
    {
      "cell_type": "markdown",
      "metadata": {
        "id": "5lH0oQjuf8qx"
      },
      "source": [
        "*   **Kernel = sigmoid**"
      ]
    },
    {
      "cell_type": "markdown",
      "metadata": {
        "id": "lknpzFFgqIxr"
      },
      "source": [
        "Con coeficiente 0.0 (por defecto)"
      ]
    },
    {
      "cell_type": "code",
      "metadata": {
        "id": "EFrjUL3HgZBe"
      },
      "source": [
        "predictions_sigmoid = svc_sigmoid.predict(X_test) #Se almacena en el array predictions las predicciones del clasificador"
      ],
      "execution_count": null,
      "outputs": []
    },
    {
      "cell_type": "markdown",
      "metadata": {
        "id": "T3SEmcA8qLyK"
      },
      "source": [
        "Con coeficiente 1.0"
      ]
    },
    {
      "cell_type": "code",
      "metadata": {
        "id": "8fylSAp_qNu-"
      },
      "source": [
        "predictions_sigmoid_coef_1 = svc_sigmoid_coef_1.predict(X_test)"
      ],
      "execution_count": null,
      "outputs": []
    },
    {
      "cell_type": "markdown",
      "metadata": {
        "id": "6IBIJfIip6TP"
      },
      "source": [
        "**Evaluacion de la predicción con SVM**\n"
      ]
    },
    {
      "cell_type": "code",
      "metadata": {
        "id": "mZvDYOsig5E1"
      },
      "source": [
        "from sklearn.metrics import classification_report\r\n",
        "\r\n",
        "Y_test = testData['category'] #Etiquetas reales de los documentos"
      ],
      "execution_count": null,
      "outputs": []
    },
    {
      "cell_type": "markdown",
      "metadata": {
        "id": "AdB_7i-rgrgZ"
      },
      "source": [
        "*   **Kernel = linear**"
      ]
    },
    {
      "cell_type": "code",
      "metadata": {
        "colab": {
          "base_uri": "https://localhost:8080/"
        },
        "id": "VnanfvpKp9ZN",
        "outputId": "131f9079-a49e-4429-d5bf-aecddd3a2696"
      },
      "source": [
        "print (classification_report(Y_test, predictions_linear))"
      ],
      "execution_count": null,
      "outputs": [
        {
          "output_type": "stream",
          "text": [
            "              precision    recall  f1-score   support\n",
            "\n",
            "          -1       0.70      0.45      0.55      3985\n",
            "           0       0.76      0.82      0.79      6914\n",
            "           1       0.72      0.80      0.76      7540\n",
            "\n",
            "    accuracy                           0.73     18439\n",
            "   macro avg       0.73      0.69      0.70     18439\n",
            "weighted avg       0.73      0.73      0.73     18439\n",
            "\n"
          ],
          "name": "stdout"
        }
      ]
    },
    {
      "cell_type": "markdown",
      "metadata": {
        "id": "zvi_wQoqgt49"
      },
      "source": [
        "*   **Kernel = poly**"
      ]
    },
    {
      "cell_type": "markdown",
      "metadata": {
        "id": "9nY1_t4rnrxG"
      },
      "source": [
        "Con grado 3"
      ]
    },
    {
      "cell_type": "code",
      "metadata": {
        "colab": {
          "base_uri": "https://localhost:8080/"
        },
        "id": "H51oqnKyg9CL",
        "outputId": "13fdaaef-5838-47d0-dc90-11988b5129df"
      },
      "source": [
        "print (classification_report(Y_test, predictions_poly))"
      ],
      "execution_count": null,
      "outputs": [
        {
          "output_type": "stream",
          "text": [
            "              precision    recall  f1-score   support\n",
            "\n",
            "          -1       0.89      0.03      0.06      3985\n",
            "           0       0.88      0.09      0.17      6914\n",
            "           1       0.43      0.99      0.60      7540\n",
            "\n",
            "    accuracy                           0.45     18439\n",
            "   macro avg       0.73      0.37      0.27     18439\n",
            "weighted avg       0.70      0.45      0.32     18439\n",
            "\n"
          ],
          "name": "stdout"
        }
      ]
    },
    {
      "cell_type": "markdown",
      "metadata": {
        "id": "1byHtpvRntHA"
      },
      "source": [
        "Con grado 10"
      ]
    },
    {
      "cell_type": "code",
      "metadata": {
        "colab": {
          "base_uri": "https://localhost:8080/"
        },
        "id": "ZlipJ9nUnukO",
        "outputId": "61507dfa-6c78-4101-f170-eaad10868b7e"
      },
      "source": [
        "print (classification_report(Y_test, predictions_poly_10))"
      ],
      "execution_count": null,
      "outputs": [
        {
          "output_type": "stream",
          "text": [
            "              precision    recall  f1-score   support\n",
            "\n",
            "          -1       0.97      0.01      0.02      3985\n",
            "           0       0.97      0.02      0.05      6914\n",
            "           1       0.41      1.00      0.58      7540\n",
            "\n",
            "    accuracy                           0.42     18439\n",
            "   macro avg       0.79      0.34      0.22     18439\n",
            "weighted avg       0.74      0.42      0.26     18439\n",
            "\n"
          ],
          "name": "stdout"
        }
      ]
    },
    {
      "cell_type": "markdown",
      "metadata": {
        "id": "TPkU67CvgufE"
      },
      "source": [
        "*   **Kernel = rbf**"
      ]
    },
    {
      "cell_type": "code",
      "metadata": {
        "colab": {
          "base_uri": "https://localhost:8080/"
        },
        "id": "0Zqq_BChg9fv",
        "outputId": "f1d47b60-6e98-4b00-d451-10917e1fac1c"
      },
      "source": [
        "print (classification_report(Y_test, predictions_rbf))"
      ],
      "execution_count": null,
      "outputs": [
        {
          "output_type": "stream",
          "text": [
            "              precision    recall  f1-score   support\n",
            "\n",
            "          -1       0.84      0.23      0.36      3985\n",
            "           0       0.75      0.78      0.76      6914\n",
            "           1       0.64      0.86      0.74      7540\n",
            "\n",
            "    accuracy                           0.70     18439\n",
            "   macro avg       0.75      0.63      0.62     18439\n",
            "weighted avg       0.73      0.70      0.67     18439\n",
            "\n"
          ],
          "name": "stdout"
        }
      ]
    },
    {
      "cell_type": "markdown",
      "metadata": {
        "id": "kzJC5Vg7gu36"
      },
      "source": [
        "*   **Kernel = sigmoid**"
      ]
    },
    {
      "cell_type": "markdown",
      "metadata": {
        "id": "3vDsPXaFwcJI"
      },
      "source": [
        "Con coeficiente 0.0"
      ]
    },
    {
      "cell_type": "code",
      "metadata": {
        "colab": {
          "base_uri": "https://localhost:8080/"
        },
        "id": "XsDhDtBSg-Ii",
        "outputId": "9a1f7178-5a8b-4847-d664-bb55245f4a75"
      },
      "source": [
        "print (classification_report(Y_test, predictions_sigmoid))"
      ],
      "execution_count": null,
      "outputs": [
        {
          "output_type": "stream",
          "text": [
            "              precision    recall  f1-score   support\n",
            "\n",
            "          -1       0.71      0.43      0.54      3985\n",
            "           0       0.76      0.82      0.79      6914\n",
            "           1       0.71      0.81      0.76      7540\n",
            "\n",
            "    accuracy                           0.73     18439\n",
            "   macro avg       0.73      0.69      0.69     18439\n",
            "weighted avg       0.73      0.73      0.72     18439\n",
            "\n"
          ],
          "name": "stdout"
        }
      ]
    },
    {
      "cell_type": "markdown",
      "metadata": {
        "id": "7ISK3MHMwgFp"
      },
      "source": [
        "Con coeficiente 1.0"
      ]
    },
    {
      "cell_type": "code",
      "metadata": {
        "colab": {
          "base_uri": "https://localhost:8080/"
        },
        "id": "1tkoCAm0qrT7",
        "outputId": "c2a96dc0-9752-4a26-d85d-c97504e7c010"
      },
      "source": [
        "print (classification_report(Y_test, predictions_sigmoid_coef_1))"
      ],
      "execution_count": null,
      "outputs": [
        {
          "output_type": "stream",
          "text": [
            "              precision    recall  f1-score   support\n",
            "\n",
            "          -1       0.85      0.19      0.30      3985\n",
            "           0       0.70      0.84      0.76      6914\n",
            "           1       0.66      0.81      0.73      7540\n",
            "\n",
            "    accuracy                           0.69     18439\n",
            "   macro avg       0.74      0.61      0.60     18439\n",
            "weighted avg       0.72      0.69      0.65     18439\n",
            "\n"
          ],
          "name": "stdout"
        }
      ]
    },
    {
      "cell_type": "markdown",
      "metadata": {
        "id": "PHgSReqArSWI"
      },
      "source": [
        "**Entrenamiento y Evaluación de otro algoritmo de clasificación: k-NN**"
      ]
    },
    {
      "cell_type": "markdown",
      "metadata": {
        "id": "4kBCwjLqvOqW"
      },
      "source": [
        "*   **Resultados con *n_neighbors=3***"
      ]
    },
    {
      "cell_type": "code",
      "metadata": {
        "colab": {
          "base_uri": "https://localhost:8080/"
        },
        "id": "LaZJlBT3rXY6",
        "outputId": "d79198a0-57b9-46d9-8779-63206f083ac1"
      },
      "source": [
        "from sklearn.neighbors import KNeighborsClassifier\n",
        "neigh_3 = KNeighborsClassifier(n_neighbors=3)\n",
        "\n",
        "neigh_3.fit(X_train, Y_train) \n",
        "predictions_neigh_3 = neigh_3.predict(X_test) \n",
        "\n",
        "print (classification_report(Y_test, predictions_neigh_3))"
      ],
      "execution_count": null,
      "outputs": [
        {
          "output_type": "stream",
          "text": [
            "              precision    recall  f1-score   support\n",
            "\n",
            "          -1       0.73      0.02      0.04      3985\n",
            "           0       0.38      0.99      0.55      6914\n",
            "           1       0.80      0.02      0.04      7540\n",
            "\n",
            "    accuracy                           0.39     18439\n",
            "   macro avg       0.64      0.35      0.21     18439\n",
            "weighted avg       0.63      0.39      0.23     18439\n",
            "\n"
          ],
          "name": "stdout"
        }
      ]
    },
    {
      "cell_type": "markdown",
      "metadata": {
        "id": "uyh8tbmdmK39"
      },
      "source": [
        "*   **Resultados con *n_neighbors=2***"
      ]
    },
    {
      "cell_type": "code",
      "metadata": {
        "colab": {
          "base_uri": "https://localhost:8080/"
        },
        "id": "nC6E5Xw_lr2U",
        "outputId": "47dca44a-fcb0-4f91-c0b9-73893d4f6cd1"
      },
      "source": [
        "neigh_2 = KNeighborsClassifier(n_neighbors=2)\r\n",
        "\r\n",
        "neigh_2.fit(X_train, Y_train) \r\n",
        "predictions_neigh_2 = neigh_2.predict(X_test) \r\n",
        "\r\n",
        "print (classification_report(Y_test, predictions_neigh_2))"
      ],
      "execution_count": null,
      "outputs": [
        {
          "output_type": "stream",
          "text": [
            "              precision    recall  f1-score   support\n",
            "\n",
            "          -1       0.55      0.06      0.10      3985\n",
            "           0       0.38      0.97      0.54      6914\n",
            "           1       0.89      0.02      0.04      7540\n",
            "\n",
            "    accuracy                           0.39     18439\n",
            "   macro avg       0.60      0.35      0.23     18439\n",
            "weighted avg       0.62      0.39      0.24     18439\n",
            "\n"
          ],
          "name": "stdout"
        }
      ]
    },
    {
      "cell_type": "markdown",
      "metadata": {
        "id": "rziM_n24mMUM"
      },
      "source": [
        "*   **Resultados con *n_neighbors=4***"
      ]
    },
    {
      "cell_type": "code",
      "metadata": {
        "colab": {
          "base_uri": "https://localhost:8080/"
        },
        "id": "FnwKBL-0mOdL",
        "outputId": "7498737e-7e63-464a-a6bd-e25caa0776e0"
      },
      "source": [
        "neigh_4 = KNeighborsClassifier(n_neighbors=4)\r\n",
        "\r\n",
        "neigh_4.fit(X_train, Y_train) \r\n",
        "predictions_neigh_4 = neigh_4.predict(X_test) \r\n",
        "\r\n",
        "print (classification_report(Y_test, predictions_neigh_4))"
      ],
      "execution_count": null,
      "outputs": [
        {
          "output_type": "stream",
          "text": [
            "              precision    recall  f1-score   support\n",
            "\n",
            "          -1       0.71      0.02      0.04      3985\n",
            "           0       0.38      0.99      0.55      6914\n",
            "           1       0.88      0.01      0.02      7540\n",
            "\n",
            "    accuracy                           0.38     18439\n",
            "   macro avg       0.66      0.34      0.20     18439\n",
            "weighted avg       0.66      0.38      0.22     18439\n",
            "\n"
          ],
          "name": "stdout"
        }
      ]
    },
    {
      "cell_type": "markdown",
      "metadata": {
        "id": "D-OU_hqpey5H"
      },
      "source": [
        "**Entrenamiento y Clasificación mediante Ensemble learning**"
      ]
    },
    {
      "cell_type": "markdown",
      "metadata": {
        "id": "XGWUat6h_BCN"
      },
      "source": [
        "A continuación se utilizará un *VotingClassifier*, que clasificará los comentarios en función de lo que determine la mayoría de los algoritmos empleados. Se emplearan varios de los algoritmos usados previamente, dando mayor ponderación a los que obtuvieron mejor resultado. "
      ]
    },
    {
      "cell_type": "code",
      "metadata": {
        "colab": {
          "base_uri": "https://localhost:8080/"
        },
        "id": "tFHp974Zeyf1",
        "outputId": "71db133b-36f4-49a2-c844-599e5b59c647"
      },
      "source": [
        "from sklearn.ensemble import VotingClassifier\r\n",
        "\r\n",
        "voting_classifier = VotingClassifier(\r\n",
        "      estimators=[\r\n",
        "                  ('svc_linear', svm.SVC(kernel='linear', probability=True)),\r\n",
        "                  ('svc_rbf', svm.SVC(kernel='rbf')),\r\n",
        "                  ('svc_sigmoid', svm.SVC(kernel='sigmoid')),\r\n",
        "                  ('svc_poly', svm.SVC(kernel='poly')),\r\n",
        "                  ('k-NN',KNeighborsClassifier(n_neighbors=3))\r\n",
        "                  ],\r\n",
        "      voting='hard',\r\n",
        "      weights=[3,3,3,1,1])\r\n",
        "\r\n",
        "voting_classifier.fit(X_train, Y_train)\r\n",
        "\r\n",
        "\r\n",
        "\r\n"
      ],
      "execution_count": null,
      "outputs": [
        {
          "output_type": "execute_result",
          "data": {
            "text/plain": [
              "VotingClassifier(estimators=[('svc_linear',\n",
              "                              SVC(C=1.0, break_ties=False, cache_size=200,\n",
              "                                  class_weight=None, coef0=0.0,\n",
              "                                  decision_function_shape='ovr', degree=3,\n",
              "                                  gamma='scale', kernel='linear', max_iter=-1,\n",
              "                                  probability=True, random_state=None,\n",
              "                                  shrinking=True, tol=0.001, verbose=False)),\n",
              "                             ('svc_rbf',\n",
              "                              SVC(C=1.0, break_ties=False, cache_size=200,\n",
              "                                  class_weight=None, coef0=0.0...\n",
              "                                  decision_function_shape='ovr', degree=3,\n",
              "                                  gamma='scale', kernel='poly', max_iter=-1,\n",
              "                                  probability=False, random_state=None,\n",
              "                                  shrinking=True, tol=0.001, verbose=False)),\n",
              "                             ('k-NN',\n",
              "                              KNeighborsClassifier(algorithm='auto',\n",
              "                                                   leaf_size=30,\n",
              "                                                   metric='minkowski',\n",
              "                                                   metric_params=None,\n",
              "                                                   n_jobs=None, n_neighbors=3,\n",
              "                                                   p=2, weights='uniform'))],\n",
              "                 flatten_transform=True, n_jobs=None, voting='hard',\n",
              "                 weights=[3, 3, 3, 1, 1])"
            ]
          },
          "metadata": {
            "tags": []
          },
          "execution_count": 38
        }
      ]
    },
    {
      "cell_type": "code",
      "metadata": {
        "id": "8T-4m9eShz5B"
      },
      "source": [
        "predictions_voting_classifier = voting_classifier.predict(X_test)"
      ],
      "execution_count": null,
      "outputs": []
    },
    {
      "cell_type": "code",
      "metadata": {
        "colab": {
          "base_uri": "https://localhost:8080/"
        },
        "id": "4CE82FxXgMv4",
        "outputId": "17e290a1-68bd-4ad7-bbb6-83f14fcdfebe"
      },
      "source": [
        "print (classification_report(Y_test, predictions_voting_classifier))"
      ],
      "execution_count": null,
      "outputs": [
        {
          "output_type": "stream",
          "text": [
            "              precision    recall  f1-score   support\n",
            "\n",
            "          -1       0.72      0.43      0.54      3985\n",
            "           0       0.76      0.82      0.79      6914\n",
            "           1       0.71      0.81      0.76      7540\n",
            "\n",
            "    accuracy                           0.73     18439\n",
            "   macro avg       0.73      0.69      0.69     18439\n",
            "weighted avg       0.73      0.73      0.72     18439\n",
            "\n"
          ],
          "name": "stdout"
        }
      ]
    },
    {
      "cell_type": "markdown",
      "metadata": {
        "id": "bpTohYv1siFE"
      },
      "source": [
        "**Valoración de un comentario sobre un personaje**\n",
        "\n"
      ]
    },
    {
      "cell_type": "markdown",
      "metadata": {
        "id": "SMAQignfrt8g"
      },
      "source": [
        "En base a los resultados de los test se decide emplear el VotingClassifier\r\n"
      ]
    },
    {
      "cell_type": "markdown",
      "metadata": {
        "id": "riq2YD2EtDHR"
      },
      "source": [
        "En la siguiente celda se puede introducir uno o varios comentarios para valorar"
      ]
    },
    {
      "cell_type": "code",
      "metadata": {
        "id": "6HdG_87TsoHO"
      },
      "source": [
        "comentarios = []\n",
        "comentarios.append(\"Fan of superheroes in general and Spider-Man in particular\") #Comentario Positivo\n",
        "comentarios.append(\"I hate characters who wear capes\") #Comentario Negativo\n",
        "comentarios.append(\"I play the guitar\") #Comentario Neutro\n",
        "\n",
        "comentarios.append(\"This character makes me feel sad.\") #Comentario sobre A.I.M."
      ],
      "execution_count": null,
      "outputs": []
    },
    {
      "cell_type": "markdown",
      "metadata": {
        "id": "_giv9ungzVQ7"
      },
      "source": [
        "La siguiente celda valorará los comentarios introducidos"
      ]
    },
    {
      "cell_type": "code",
      "metadata": {
        "colab": {
          "base_uri": "https://localhost:8080/"
        },
        "id": "94AlAyy1tPt6",
        "outputId": "28f9b230-e198-42dc-f36a-0ab4c58429f4"
      },
      "source": [
        "comentarioData = pd.DataFrame(columns=('clean_comment', 'category'))\n",
        "\n",
        "for comentario in comentarios:\n",
        "  comentarioData = comentarioData.append({'clean_comment' : comentario}, ignore_index=True)\n",
        "\n",
        "ps = PorterStemmer()\n",
        "\n",
        "preprocessedText = []\n",
        "\n",
        "for row in comentarioData.itertuples():\n",
        "    text = word_tokenize(str(row[1]))\n",
        "    stops = set(stopwords.words(\"english\"))\n",
        "    text = [ps.stem(w) for w in text if not w in stops and w.isalnum()]\n",
        "    text = \" \".join(text)\n",
        "    preprocessedText.append(text)\n",
        "\n",
        "preprocessedDataTest = comentarioData\n",
        "preprocessedDataTest['processed_text'] = preprocessedText\n",
        "\n",
        "textsBoWTest= bagOfWordsModel.transform(preprocessedDataTest['processed_text'])\n",
        "\n",
        "X_test_comentario = textsBoWTest #Documentos\n",
        "predictions = voting_classifier.predict(X_test_comentario)\n",
        "\n",
        "for i in range(len(predictions)):\n",
        "  if predictions[i] == 1:\n",
        "    print(comentarios[i] + \" -> Comentario positivo\")\n",
        "  elif predictions[i] == 0:\n",
        "    print(comentarios[i] + \" -> Comentario neutro\")\n",
        "  else:\n",
        "    print(comentarios[i] + \" -> Comentario negativo\")"
      ],
      "execution_count": null,
      "outputs": [
        {
          "output_type": "stream",
          "text": [
            "Fan of superheroes in general and Spider-Man in particular -> Comentario positivo\n",
            "I hate characters who wear capes -> Comentario negativo\n",
            "I play the guitar -> Comentario neutro\n",
            "This character makes me feel sad. -> Comentario negativo\n"
          ],
          "name": "stdout"
        }
      ]
    },
    {
      "cell_type": "markdown",
      "metadata": {
        "id": "aIrgaASonwzl"
      },
      "source": [
        "**Almacenamiento de la información sobre el comentario y su valoración**"
      ]
    },
    {
      "cell_type": "markdown",
      "metadata": {
        "id": "0CreHYU5rX0S"
      },
      "source": [
        "Añadimos el comentario y la valoracion. Se debe tener en cuenta que el sistema de recomendación hace uso de estas valoraciones y los valores deben ser los siguientes:\n",
        "\n",
        "\n",
        "* Buena (0.0)\n",
        "* Neutra o no valoración (0.5)\n",
        "* Mala (1.0)\n",
        "\n",
        "*NOTA: con la informacion almacenada en este dataset ya se puede aplicar el sistema de recomendación a este usuario ficticio \"Pepe\"*"
      ]
    },
    {
      "cell_type": "code",
      "metadata": {
        "colab": {
          "base_uri": "https://localhost:8080/"
        },
        "id": "0ye3dHdopIKb",
        "outputId": "957ba730-21e6-45d1-936f-06a800765ed5"
      },
      "source": [
        "dataframe_user.loc[dataframe_user['name'] == name, 'comentario'] = comentarios[3]\n",
        "\n",
        "if predictions[i] == 1:\n",
        "  v_comentario = 0.0\n",
        "elif predictions[i] == 0:\n",
        "  v_comentario = 0.5\n",
        "else:\n",
        "  v_comentario = 1\n",
        "\n",
        "dataframe_user.loc[dataframe_user['name'] == name, 'valoracion_comentario'] = v_comentario\n",
        "\n",
        "dataframe_user"
      ],
      "execution_count": null,
      "outputs": [
        {
          "output_type": "execute_result",
          "data": {
            "text/html": [
              "<div>\n",
              "<style scoped>\n",
              "    .dataframe tbody tr th:only-of-type {\n",
              "        vertical-align: middle;\n",
              "    }\n",
              "\n",
              "    .dataframe tbody tr th {\n",
              "        vertical-align: top;\n",
              "    }\n",
              "\n",
              "    .dataframe thead th {\n",
              "        text-align: right;\n",
              "    }\n",
              "</style>\n",
              "<table border=\"1\" class=\"dataframe\">\n",
              "  <thead>\n",
              "    <tr style=\"text-align: right;\">\n",
              "      <th></th>\n",
              "      <th>name</th>\n",
              "      <th>valoracion_directa</th>\n",
              "      <th>comentario</th>\n",
              "      <th>valoracion_comentario</th>\n",
              "    </tr>\n",
              "  </thead>\n",
              "  <tbody>\n",
              "    <tr>\n",
              "      <th>0</th>\n",
              "      <td>A.I.M.</td>\n",
              "      <td>0.0</td>\n",
              "      <td>This character makes me feel sad.</td>\n",
              "      <td>1.0</td>\n",
              "    </tr>\n",
              "  </tbody>\n",
              "</table>\n",
              "</div>"
            ],
            "text/plain": [
              "     name  ...  valoracion_comentario\n",
              "0  A.I.M.  ...                    1.0\n",
              "\n",
              "[1 rows x 4 columns]"
            ]
          },
          "metadata": {
            "tags": []
          },
          "execution_count": 43
        }
      ]
    },
    {
      "cell_type": "markdown",
      "metadata": {
        "id": "Zk5YJj-6rxwM"
      },
      "source": [
        "Por ultimo guardamos el dataset"
      ]
    },
    {
      "cell_type": "code",
      "metadata": {
        "id": "MlotKKMwr1po"
      },
      "source": [
        "dataframe_user.to_csv(\"userdata_\" + nombre_usuario, index=False)"
      ],
      "execution_count": null,
      "outputs": []
    }
  ]
}