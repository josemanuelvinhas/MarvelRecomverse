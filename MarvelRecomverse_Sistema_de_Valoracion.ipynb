{
  "nbformat": 4,
  "nbformat_minor": 0,
  "metadata": {
    "colab": {
      "name": "MarvelRecomverse Sistema de Valoracion.ipynb",
      "provenance": [],
      "authorship_tag": "ABX9TyOaR6rx3CD5Vf621ijdECkv",
      "include_colab_link": true
    },
    "kernelspec": {
      "name": "python3",
      "display_name": "Python 3"
    }
  },
  "cells": [
    {
      "cell_type": "markdown",
      "metadata": {
        "id": "view-in-github",
        "colab_type": "text"
      },
      "source": [
        "<a href=\"https://colab.research.google.com/github/josemanuelvinhas/MarvelRecomverse/blob/main/MarvelRecomverse_Sistema_de_Valoracion.ipynb\" target=\"_parent\"><img src=\"https://colab.research.google.com/assets/colab-badge.svg\" alt=\"Open In Colab\"/></a>"
      ]
    },
    {
      "cell_type": "markdown",
      "metadata": {
        "id": "uJUsJfX_ePVp"
      },
      "source": [
        "#**0. Sistema de Valoración**\n",
        "\n",
        "Se realizaran dos prototipos del sistema de valoración:\n",
        "\n",
        "*   Valoración manual de un personaje\n",
        "*   Valoración automatizada de un personaje a través de comentarios\n",
        "\n"
      ]
    },
    {
      "cell_type": "markdown",
      "metadata": {
        "id": "n6ctW4BDfAyt"
      },
      "source": [
        "#**1. Sistema de Valoración Automatizado**"
      ]
    },
    {
      "cell_type": "markdown",
      "metadata": {
        "id": "FZ17MDTQm0J_"
      },
      "source": [
        "**Carga del dataset**\n",
        "\n",
        "Este dataset está disponible en [GitHub](https://github.com/josemanuelvinhas/MarvelRecomverse/tree/main/datasets)"
      ]
    },
    {
      "cell_type": "code",
      "metadata": {
        "colab": {
          "base_uri": "https://localhost:8080/",
          "height": 419
        },
        "id": "Iwchgb-9gEDL",
        "outputId": "b847dbdc-7a09-4ce8-ae00-7954befcdf83"
      },
      "source": [
        "import pandas as pd\n",
        "\n",
        "trainingData = pd.read_csv('reddit_data_train.csv', delimiter=',')\n",
        "##trainingData = trainingData.head(1000) #Eliminar la funcion head() si se quiere usar todo el dataset. Para las pruebas usamos únicamente los 1000 primeros tweets\n",
        "trainingData"
      ],
      "execution_count": 1,
      "outputs": [
        {
          "output_type": "execute_result",
          "data": {
            "text/html": [
              "<div>\n",
              "<style scoped>\n",
              "    .dataframe tbody tr th:only-of-type {\n",
              "        vertical-align: middle;\n",
              "    }\n",
              "\n",
              "    .dataframe tbody tr th {\n",
              "        vertical-align: top;\n",
              "    }\n",
              "\n",
              "    .dataframe thead th {\n",
              "        text-align: right;\n",
              "    }\n",
              "</style>\n",
              "<table border=\"1\" class=\"dataframe\">\n",
              "  <thead>\n",
              "    <tr style=\"text-align: right;\">\n",
              "      <th></th>\n",
              "      <th>clean_comment</th>\n",
              "      <th>category</th>\n",
              "    </tr>\n",
              "  </thead>\n",
              "  <tbody>\n",
              "    <tr>\n",
              "      <th>0</th>\n",
              "      <td>family mormon have never tried explain them t...</td>\n",
              "      <td>1</td>\n",
              "    </tr>\n",
              "    <tr>\n",
              "      <th>1</th>\n",
              "      <td>buddhism has very much lot compatible with chr...</td>\n",
              "      <td>1</td>\n",
              "    </tr>\n",
              "    <tr>\n",
              "      <th>2</th>\n",
              "      <td>seriously don say thing first all they won get...</td>\n",
              "      <td>-1</td>\n",
              "    </tr>\n",
              "    <tr>\n",
              "      <th>3</th>\n",
              "      <td>what you have learned yours and only yours wha...</td>\n",
              "      <td>0</td>\n",
              "    </tr>\n",
              "    <tr>\n",
              "      <th>4</th>\n",
              "      <td>for your own benefit you may want read living ...</td>\n",
              "      <td>1</td>\n",
              "    </tr>\n",
              "    <tr>\n",
              "      <th>...</th>\n",
              "      <td>...</td>\n",
              "      <td>...</td>\n",
              "    </tr>\n",
              "    <tr>\n",
              "      <th>18805</th>\n",
              "      <td>other option</td>\n",
              "      <td>-1</td>\n",
              "    </tr>\n",
              "    <tr>\n",
              "      <th>18806</th>\n",
              "      <td>honestly feel bjp lesser evil congress was abs...</td>\n",
              "      <td>-1</td>\n",
              "    </tr>\n",
              "    <tr>\n",
              "      <th>18807</th>\n",
              "      <td>pappu</td>\n",
              "      <td>0</td>\n",
              "    </tr>\n",
              "    <tr>\n",
              "      <th>18808</th>\n",
              "      <td>india should blamed for much fud though</td>\n",
              "      <td>1</td>\n",
              "    </tr>\n",
              "    <tr>\n",
              "      <th>18809</th>\n",
              "      <td>laos ban bitcoin</td>\n",
              "      <td>0</td>\n",
              "    </tr>\n",
              "  </tbody>\n",
              "</table>\n",
              "<p>18810 rows × 2 columns</p>\n",
              "</div>"
            ],
            "text/plain": [
              "                                           clean_comment  category\n",
              "0       family mormon have never tried explain them t...         1\n",
              "1      buddhism has very much lot compatible with chr...         1\n",
              "2      seriously don say thing first all they won get...        -1\n",
              "3      what you have learned yours and only yours wha...         0\n",
              "4      for your own benefit you may want read living ...         1\n",
              "...                                                  ...       ...\n",
              "18805                                      other option         -1\n",
              "18806  honestly feel bjp lesser evil congress was abs...        -1\n",
              "18807                                             pappu          0\n",
              "18808           india should blamed for much fud though          1\n",
              "18809                                   laos ban bitcoin         0\n",
              "\n",
              "[18810 rows x 2 columns]"
            ]
          },
          "metadata": {
            "tags": []
          },
          "execution_count": 1
        }
      ]
    },
    {
      "cell_type": "code",
      "metadata": {
        "colab": {
          "base_uri": "https://localhost:8080/"
        },
        "id": "YrMITVkUk62l",
        "outputId": "7ba84e15-13bd-4356-cf27-dda763496629"
      },
      "source": [
        "trainingData['category'].value_counts()"
      ],
      "execution_count": 2,
      "outputs": [
        {
          "output_type": "execute_result",
          "data": {
            "text/plain": [
              " 1    8290\n",
              " 0    6228\n",
              "-1    4292\n",
              "Name: category, dtype: int64"
            ]
          },
          "metadata": {
            "tags": []
          },
          "execution_count": 2
        }
      ]
    },
    {
      "cell_type": "markdown",
      "metadata": {
        "id": "CKSdg_OmlDFR"
      },
      "source": [
        "**Preprocesamiento de los datos de entrenamiento**\n"
      ]
    },
    {
      "cell_type": "code",
      "metadata": {
        "colab": {
          "base_uri": "https://localhost:8080/",
          "height": 487
        },
        "id": "fGCghWh3lGt0",
        "outputId": "58b1466d-93bd-488d-bca2-fa7ad958bd67"
      },
      "source": [
        "from nltk.tokenize import word_tokenize \n",
        "from nltk.corpus import stopwords\n",
        "from nltk.stem import PorterStemmer\n",
        "\n",
        "import nltk\n",
        "nltk.download('punkt')\n",
        "nltk.download('stopwords')\n",
        "\n",
        "ps = PorterStemmer()\n",
        "\n",
        "preprocessedText = []\n",
        "\n",
        "for row in trainingData.itertuples():\n",
        "    ## indice de la columna que contiene el texto\n",
        "    text = word_tokenize(str(row[1])) \n",
        "    ## Remove stop words\n",
        "    stops = set(stopwords.words(\"english\"))\n",
        "    text = [ps.stem(w) for w in text if not w in stops and w.isalnum()]\n",
        "    text = \" \".join(text)\n",
        "    \n",
        "    preprocessedText.append(text)\n",
        "\n",
        "preprocessedData = trainingData\n",
        "preprocessedData['processed_text'] = preprocessedText\n",
        "\n",
        "preprocessedData"
      ],
      "execution_count": 3,
      "outputs": [
        {
          "output_type": "stream",
          "text": [
            "[nltk_data] Downloading package punkt to /root/nltk_data...\n",
            "[nltk_data]   Package punkt is already up-to-date!\n",
            "[nltk_data] Downloading package stopwords to /root/nltk_data...\n",
            "[nltk_data]   Package stopwords is already up-to-date!\n"
          ],
          "name": "stdout"
        },
        {
          "output_type": "execute_result",
          "data": {
            "text/html": [
              "<div>\n",
              "<style scoped>\n",
              "    .dataframe tbody tr th:only-of-type {\n",
              "        vertical-align: middle;\n",
              "    }\n",
              "\n",
              "    .dataframe tbody tr th {\n",
              "        vertical-align: top;\n",
              "    }\n",
              "\n",
              "    .dataframe thead th {\n",
              "        text-align: right;\n",
              "    }\n",
              "</style>\n",
              "<table border=\"1\" class=\"dataframe\">\n",
              "  <thead>\n",
              "    <tr style=\"text-align: right;\">\n",
              "      <th></th>\n",
              "      <th>clean_comment</th>\n",
              "      <th>category</th>\n",
              "      <th>processed_text</th>\n",
              "    </tr>\n",
              "  </thead>\n",
              "  <tbody>\n",
              "    <tr>\n",
              "      <th>0</th>\n",
              "      <td>family mormon have never tried explain them t...</td>\n",
              "      <td>1</td>\n",
              "      <td>famili mormon never tri explain still stare pu...</td>\n",
              "    </tr>\n",
              "    <tr>\n",
              "      <th>1</th>\n",
              "      <td>buddhism has very much lot compatible with chr...</td>\n",
              "      <td>1</td>\n",
              "      <td>buddhism much lot compat christian especi cons...</td>\n",
              "    </tr>\n",
              "    <tr>\n",
              "      <th>2</th>\n",
              "      <td>seriously don say thing first all they won get...</td>\n",
              "      <td>-1</td>\n",
              "      <td>serious say thing first get complex explain no...</td>\n",
              "    </tr>\n",
              "    <tr>\n",
              "      <th>3</th>\n",
              "      <td>what you have learned yours and only yours wha...</td>\n",
              "      <td>0</td>\n",
              "      <td>learn want teach differ focu goal wrap paper b...</td>\n",
              "    </tr>\n",
              "    <tr>\n",
              "      <th>4</th>\n",
              "      <td>for your own benefit you may want read living ...</td>\n",
              "      <td>1</td>\n",
              "      <td>benefit may want read live buddha live christ ...</td>\n",
              "    </tr>\n",
              "    <tr>\n",
              "      <th>...</th>\n",
              "      <td>...</td>\n",
              "      <td>...</td>\n",
              "      <td>...</td>\n",
              "    </tr>\n",
              "    <tr>\n",
              "      <th>18805</th>\n",
              "      <td>other option</td>\n",
              "      <td>-1</td>\n",
              "      <td>option</td>\n",
              "    </tr>\n",
              "    <tr>\n",
              "      <th>18806</th>\n",
              "      <td>honestly feel bjp lesser evil congress was abs...</td>\n",
              "      <td>-1</td>\n",
              "      <td>honestli feel bjp lesser evil congress absolut...</td>\n",
              "    </tr>\n",
              "    <tr>\n",
              "      <th>18807</th>\n",
              "      <td>pappu</td>\n",
              "      <td>0</td>\n",
              "      <td>pappu</td>\n",
              "    </tr>\n",
              "    <tr>\n",
              "      <th>18808</th>\n",
              "      <td>india should blamed for much fud though</td>\n",
              "      <td>1</td>\n",
              "      <td>india blame much fud though</td>\n",
              "    </tr>\n",
              "    <tr>\n",
              "      <th>18809</th>\n",
              "      <td>laos ban bitcoin</td>\n",
              "      <td>0</td>\n",
              "      <td>lao ban bitcoin</td>\n",
              "    </tr>\n",
              "  </tbody>\n",
              "</table>\n",
              "<p>18810 rows × 3 columns</p>\n",
              "</div>"
            ],
            "text/plain": [
              "                                           clean_comment  ...                                     processed_text\n",
              "0       family mormon have never tried explain them t...  ...  famili mormon never tri explain still stare pu...\n",
              "1      buddhism has very much lot compatible with chr...  ...  buddhism much lot compat christian especi cons...\n",
              "2      seriously don say thing first all they won get...  ...  serious say thing first get complex explain no...\n",
              "3      what you have learned yours and only yours wha...  ...  learn want teach differ focu goal wrap paper b...\n",
              "4      for your own benefit you may want read living ...  ...  benefit may want read live buddha live christ ...\n",
              "...                                                  ...  ...                                                ...\n",
              "18805                                      other option   ...                                             option\n",
              "18806  honestly feel bjp lesser evil congress was abs...  ...  honestli feel bjp lesser evil congress absolut...\n",
              "18807                                             pappu   ...                                              pappu\n",
              "18808           india should blamed for much fud though   ...                        india blame much fud though\n",
              "18809                                   laos ban bitcoin  ...                                    lao ban bitcoin\n",
              "\n",
              "[18810 rows x 3 columns]"
            ]
          },
          "metadata": {
            "tags": []
          },
          "execution_count": 3
        }
      ]
    },
    {
      "cell_type": "markdown",
      "metadata": {
        "id": "bSlj-pMpmfZ6"
      },
      "source": [
        "**Creación de la bolsa de palabras**\n"
      ]
    },
    {
      "cell_type": "code",
      "metadata": {
        "colab": {
          "base_uri": "https://localhost:8080/"
        },
        "id": "jwcSST_1mhMP",
        "outputId": "f1419fc7-7047-4653-907e-5709707b919a"
      },
      "source": [
        "from sklearn.feature_extraction.text import TfidfVectorizer\n",
        "\n",
        "bagOfWordsModel = TfidfVectorizer()\n",
        "bagOfWordsModel.fit(preprocessedData['processed_text'])\n",
        "textsBoW= bagOfWordsModel.transform(preprocessedData['processed_text'])\n",
        "print(\"Finished\")"
      ],
      "execution_count": 4,
      "outputs": [
        {
          "output_type": "stream",
          "text": [
            "Finished\n"
          ],
          "name": "stdout"
        }
      ]
    },
    {
      "cell_type": "code",
      "metadata": {
        "colab": {
          "base_uri": "https://localhost:8080/"
        },
        "id": "prMVshSkmoOk",
        "outputId": "f040391c-e3b2-4d3e-9bd2-2d2fe04bf15d"
      },
      "source": [
        "textsBoW.shape"
      ],
      "execution_count": 5,
      "outputs": [
        {
          "output_type": "execute_result",
          "data": {
            "text/plain": [
              "(18810, 26784)"
            ]
          },
          "metadata": {
            "tags": []
          },
          "execution_count": 5
        }
      ]
    },
    {
      "cell_type": "markdown",
      "metadata": {
        "id": "_pS7XSV4mqur"
      },
      "source": [
        "**Entrenamiento de un algoritmo de clasificación (SVM)**"
      ]
    },
    {
      "cell_type": "code",
      "metadata": {
        "colab": {
          "base_uri": "https://localhost:8080/"
        },
        "id": "uJTC9-1Hm49_",
        "outputId": "ec6f510c-1b15-4cd3-a17a-c83eb2ad0781"
      },
      "source": [
        "from sklearn import svm\n",
        "svc = svm.SVC(kernel='linear') #Modelo de clasificación\n",
        "\n",
        "X_train = textsBoW #Documentos\n",
        "Y_train = trainingData['category'] #Etiquetas de los documentos \n",
        "svc.fit(X_train, Y_train) #Entrenamiento"
      ],
      "execution_count": 6,
      "outputs": [
        {
          "output_type": "execute_result",
          "data": {
            "text/plain": [
              "SVC(C=1.0, break_ties=False, cache_size=200, class_weight=None, coef0=0.0,\n",
              "    decision_function_shape='ovr', degree=3, gamma='scale', kernel='linear',\n",
              "    max_iter=-1, probability=False, random_state=None, shrinking=True,\n",
              "    tol=0.001, verbose=False)"
            ]
          },
          "metadata": {
            "tags": []
          },
          "execution_count": 6
        }
      ]
    },
    {
      "cell_type": "markdown",
      "metadata": {
        "id": "agveuWJUpPJq"
      },
      "source": [
        "**Carga de y preprocesado de documentos de test**"
      ]
    },
    {
      "cell_type": "code",
      "metadata": {
        "colab": {
          "base_uri": "https://localhost:8080/",
          "height": 419
        },
        "id": "ZxGQqQmCpTaD",
        "outputId": "b13c028a-e839-40d5-cf77-e288e5732624"
      },
      "source": [
        "testData = pd.read_csv('reddit_data_test.csv', delimiter=',')\n",
        "##testData = testData.head(100)\n",
        "testData"
      ],
      "execution_count": 7,
      "outputs": [
        {
          "output_type": "execute_result",
          "data": {
            "text/html": [
              "<div>\n",
              "<style scoped>\n",
              "    .dataframe tbody tr th:only-of-type {\n",
              "        vertical-align: middle;\n",
              "    }\n",
              "\n",
              "    .dataframe tbody tr th {\n",
              "        vertical-align: top;\n",
              "    }\n",
              "\n",
              "    .dataframe thead th {\n",
              "        text-align: right;\n",
              "    }\n",
              "</style>\n",
              "<table border=\"1\" class=\"dataframe\">\n",
              "  <thead>\n",
              "    <tr style=\"text-align: right;\">\n",
              "      <th></th>\n",
              "      <th>clean_comment</th>\n",
              "      <th>category</th>\n",
              "    </tr>\n",
              "  </thead>\n",
              "  <tbody>\n",
              "    <tr>\n",
              "      <th>0</th>\n",
              "      <td>modi liar</td>\n",
              "      <td>0</td>\n",
              "    </tr>\n",
              "    <tr>\n",
              "      <th>1</th>\n",
              "      <td>doesn india have more important problems then ...</td>\n",
              "      <td>1</td>\n",
              "    </tr>\n",
              "    <tr>\n",
              "      <th>2</th>\n",
              "      <td>well that settles then everyone buy back india...</td>\n",
              "      <td>-1</td>\n",
              "    </tr>\n",
              "    <tr>\n",
              "      <th>3</th>\n",
              "      <td>all know ever visit india getting one those he...</td>\n",
              "      <td>0</td>\n",
              "    </tr>\n",
              "    <tr>\n",
              "      <th>4</th>\n",
              "      <td>india wont ban bitcoin because they didnt give...</td>\n",
              "      <td>-1</td>\n",
              "    </tr>\n",
              "    <tr>\n",
              "      <th>...</th>\n",
              "      <td>...</td>\n",
              "      <td>...</td>\n",
              "    </tr>\n",
              "    <tr>\n",
              "      <th>18434</th>\n",
              "      <td>jesus</td>\n",
              "      <td>0</td>\n",
              "    </tr>\n",
              "    <tr>\n",
              "      <th>18435</th>\n",
              "      <td>kya bhai pure saal chutiya banaya modi aur jab...</td>\n",
              "      <td>1</td>\n",
              "    </tr>\n",
              "    <tr>\n",
              "      <th>18436</th>\n",
              "      <td>downvote karna tha par upvote hogaya</td>\n",
              "      <td>0</td>\n",
              "    </tr>\n",
              "    <tr>\n",
              "      <th>18437</th>\n",
              "      <td>haha nice</td>\n",
              "      <td>1</td>\n",
              "    </tr>\n",
              "    <tr>\n",
              "      <th>18438</th>\n",
              "      <td>facebook itself now working bjp’ cell</td>\n",
              "      <td>0</td>\n",
              "    </tr>\n",
              "  </tbody>\n",
              "</table>\n",
              "<p>18439 rows × 2 columns</p>\n",
              "</div>"
            ],
            "text/plain": [
              "                                           clean_comment  category\n",
              "0                                             modi liar          0\n",
              "1      doesn india have more important problems then ...         1\n",
              "2      well that settles then everyone buy back india...        -1\n",
              "3      all know ever visit india getting one those he...         0\n",
              "4      india wont ban bitcoin because they didnt give...        -1\n",
              "...                                                  ...       ...\n",
              "18434                                              jesus         0\n",
              "18435  kya bhai pure saal chutiya banaya modi aur jab...         1\n",
              "18436              downvote karna tha par upvote hogaya          0\n",
              "18437                                         haha nice          1\n",
              "18438             facebook itself now working bjp’ cell          0\n",
              "\n",
              "[18439 rows x 2 columns]"
            ]
          },
          "metadata": {
            "tags": []
          },
          "execution_count": 7
        }
      ]
    },
    {
      "cell_type": "code",
      "metadata": {
        "colab": {
          "base_uri": "https://localhost:8080/",
          "height": 419
        },
        "id": "7loifGwepcKs",
        "outputId": "02438c88-98e7-4a9e-fd78-a12810933cec"
      },
      "source": [
        "ps = PorterStemmer()\n",
        "\n",
        "preprocessedText = []\n",
        "\n",
        "for row in testData.itertuples():\n",
        "    \n",
        "    \n",
        "    text = word_tokenize(str(row[1])) ## indice de la columna que contiene el texto\n",
        "    ## Remove stop words\n",
        "    stops = set(stopwords.words(\"english\"))\n",
        "    text = [ps.stem(w) for w in text if not w in stops and w.isalnum()]\n",
        "    text = \" \".join(text)\n",
        "    \n",
        "    preprocessedText.append(text)\n",
        "\n",
        "preprocessedDataTest = testData\n",
        "preprocessedDataTest['processed_text'] = preprocessedText\n",
        "\n",
        "preprocessedDataTest"
      ],
      "execution_count": 8,
      "outputs": [
        {
          "output_type": "execute_result",
          "data": {
            "text/html": [
              "<div>\n",
              "<style scoped>\n",
              "    .dataframe tbody tr th:only-of-type {\n",
              "        vertical-align: middle;\n",
              "    }\n",
              "\n",
              "    .dataframe tbody tr th {\n",
              "        vertical-align: top;\n",
              "    }\n",
              "\n",
              "    .dataframe thead th {\n",
              "        text-align: right;\n",
              "    }\n",
              "</style>\n",
              "<table border=\"1\" class=\"dataframe\">\n",
              "  <thead>\n",
              "    <tr style=\"text-align: right;\">\n",
              "      <th></th>\n",
              "      <th>clean_comment</th>\n",
              "      <th>category</th>\n",
              "      <th>processed_text</th>\n",
              "    </tr>\n",
              "  </thead>\n",
              "  <tbody>\n",
              "    <tr>\n",
              "      <th>0</th>\n",
              "      <td>modi liar</td>\n",
              "      <td>0</td>\n",
              "      <td>modi liar</td>\n",
              "    </tr>\n",
              "    <tr>\n",
              "      <th>1</th>\n",
              "      <td>doesn india have more important problems then ...</td>\n",
              "      <td>1</td>\n",
              "      <td>india import problem cryptocurr</td>\n",
              "    </tr>\n",
              "    <tr>\n",
              "      <th>2</th>\n",
              "      <td>well that settles then everyone buy back india...</td>\n",
              "      <td>-1</td>\n",
              "      <td>well settl everyon buy back indian kid verifi ...</td>\n",
              "    </tr>\n",
              "    <tr>\n",
              "      <th>3</th>\n",
              "      <td>all know ever visit india getting one those he...</td>\n",
              "      <td>0</td>\n",
              "      <td>know ever visit india get one head massag barb...</td>\n",
              "    </tr>\n",
              "    <tr>\n",
              "      <th>4</th>\n",
              "      <td>india wont ban bitcoin because they didnt give...</td>\n",
              "      <td>-1</td>\n",
              "      <td>india wont ban bitcoin didnt give everi citize...</td>\n",
              "    </tr>\n",
              "    <tr>\n",
              "      <th>...</th>\n",
              "      <td>...</td>\n",
              "      <td>...</td>\n",
              "      <td>...</td>\n",
              "    </tr>\n",
              "    <tr>\n",
              "      <th>18434</th>\n",
              "      <td>jesus</td>\n",
              "      <td>0</td>\n",
              "      <td>jesu</td>\n",
              "    </tr>\n",
              "    <tr>\n",
              "      <th>18435</th>\n",
              "      <td>kya bhai pure saal chutiya banaya modi aur jab...</td>\n",
              "      <td>1</td>\n",
              "      <td>kya bhai pure saal chutiya banaya modi aur jab...</td>\n",
              "    </tr>\n",
              "    <tr>\n",
              "      <th>18436</th>\n",
              "      <td>downvote karna tha par upvote hogaya</td>\n",
              "      <td>0</td>\n",
              "      <td>downvot karna tha par upvot hogaya</td>\n",
              "    </tr>\n",
              "    <tr>\n",
              "      <th>18437</th>\n",
              "      <td>haha nice</td>\n",
              "      <td>1</td>\n",
              "      <td>haha nice</td>\n",
              "    </tr>\n",
              "    <tr>\n",
              "      <th>18438</th>\n",
              "      <td>facebook itself now working bjp’ cell</td>\n",
              "      <td>0</td>\n",
              "      <td>facebook work bjp cell</td>\n",
              "    </tr>\n",
              "  </tbody>\n",
              "</table>\n",
              "<p>18439 rows × 3 columns</p>\n",
              "</div>"
            ],
            "text/plain": [
              "                                           clean_comment  ...                                     processed_text\n",
              "0                                             modi liar   ...                                          modi liar\n",
              "1      doesn india have more important problems then ...  ...                    india import problem cryptocurr\n",
              "2      well that settles then everyone buy back india...  ...  well settl everyon buy back indian kid verifi ...\n",
              "3      all know ever visit india getting one those he...  ...  know ever visit india get one head massag barb...\n",
              "4      india wont ban bitcoin because they didnt give...  ...  india wont ban bitcoin didnt give everi citize...\n",
              "...                                                  ...  ...                                                ...\n",
              "18434                                              jesus  ...                                               jesu\n",
              "18435  kya bhai pure saal chutiya banaya modi aur jab...  ...  kya bhai pure saal chutiya banaya modi aur jab...\n",
              "18436              downvote karna tha par upvote hogaya   ...                 downvot karna tha par upvot hogaya\n",
              "18437                                         haha nice   ...                                          haha nice\n",
              "18438             facebook itself now working bjp’ cell   ...                             facebook work bjp cell\n",
              "\n",
              "[18439 rows x 3 columns]"
            ]
          },
          "metadata": {
            "tags": []
          },
          "execution_count": 8
        }
      ]
    },
    {
      "cell_type": "code",
      "metadata": {
        "colab": {
          "base_uri": "https://localhost:8080/"
        },
        "id": "L4SbQsEIprBy",
        "outputId": "8e2018bf-2ad8-4707-c9c0-491fea1fa4e2"
      },
      "source": [
        "testData['category'].value_counts()"
      ],
      "execution_count": 9,
      "outputs": [
        {
          "output_type": "execute_result",
          "data": {
            "text/plain": [
              " 1    7540\n",
              " 0    6914\n",
              "-1    3985\n",
              "Name: category, dtype: int64"
            ]
          },
          "metadata": {
            "tags": []
          },
          "execution_count": 9
        }
      ]
    },
    {
      "cell_type": "code",
      "metadata": {
        "colab": {
          "base_uri": "https://localhost:8080/"
        },
        "id": "bxWvVGJ2pv-S",
        "outputId": "59e18e8c-020d-48f9-8807-e0e93782885d"
      },
      "source": [
        "textsBoWTest= bagOfWordsModel.transform(preprocessedDataTest['processed_text'])\n",
        "print(\"Finished\")"
      ],
      "execution_count": 10,
      "outputs": [
        {
          "output_type": "stream",
          "text": [
            "Finished\n"
          ],
          "name": "stdout"
        }
      ]
    },
    {
      "cell_type": "code",
      "metadata": {
        "colab": {
          "base_uri": "https://localhost:8080/"
        },
        "id": "ZjWq4VDzpyhS",
        "outputId": "dcc3c86d-fe78-490f-c078-f2a7791e1cda"
      },
      "source": [
        "textsBoWTest.shape"
      ],
      "execution_count": 11,
      "outputs": [
        {
          "output_type": "execute_result",
          "data": {
            "text/plain": [
              "(18439, 26784)"
            ]
          },
          "metadata": {
            "tags": []
          },
          "execution_count": 11
        }
      ]
    },
    {
      "cell_type": "markdown",
      "metadata": {
        "id": "1MGDgEzDp0cd"
      },
      "source": [
        "**Clasificación de los documentos de test**"
      ]
    },
    {
      "cell_type": "code",
      "metadata": {
        "id": "VDW0EWG1p2tg"
      },
      "source": [
        "X_test = textsBoWTest #Documentos\n",
        "\n",
        "\n",
        "predictions = svc.predict(X_test) #Se almacena en el array predictions las predicciones del clasificador"
      ],
      "execution_count": 12,
      "outputs": []
    },
    {
      "cell_type": "markdown",
      "metadata": {
        "id": "6IBIJfIip6TP"
      },
      "source": [
        "**Evaluacion de la predicción**"
      ]
    },
    {
      "cell_type": "code",
      "metadata": {
        "colab": {
          "base_uri": "https://localhost:8080/"
        },
        "id": "VnanfvpKp9ZN",
        "outputId": "ea17c505-1ca0-41cc-b963-7beebb5b6c53"
      },
      "source": [
        "from sklearn.metrics import classification_report\n",
        "\n",
        "Y_test = testData['category'] #Etiquetas reales de los documentos\n",
        "\n",
        "print (classification_report(Y_test, predictions))"
      ],
      "execution_count": 13,
      "outputs": [
        {
          "output_type": "stream",
          "text": [
            "              precision    recall  f1-score   support\n",
            "\n",
            "          -1       0.78      0.64      0.70      3985\n",
            "           0       0.82      0.91      0.87      6914\n",
            "           1       0.83      0.83      0.83      7540\n",
            "\n",
            "    accuracy                           0.82     18439\n",
            "   macro avg       0.81      0.79      0.80     18439\n",
            "weighted avg       0.82      0.82      0.82     18439\n",
            "\n"
          ],
          "name": "stdout"
        }
      ]
    },
    {
      "cell_type": "markdown",
      "metadata": {
        "id": "PHgSReqArSWI"
      },
      "source": [
        "**Entrenamiento y Evaluación de otro algoritmo de clasificación: k-NN**"
      ]
    },
    {
      "cell_type": "code",
      "metadata": {
        "colab": {
          "base_uri": "https://localhost:8080/"
        },
        "id": "LaZJlBT3rXY6",
        "outputId": "d8b0feea-b38c-4afa-d435-74a27b9131b0"
      },
      "source": [
        "from sklearn.neighbors import KNeighborsClassifier\n",
        "neigh = KNeighborsClassifier(n_neighbors=3)\n",
        "\n",
        "\n",
        "neigh.fit(X_train, Y_train) \n",
        "predictions = neigh.predict(X_test) \n",
        "\n",
        "print (classification_report(Y_test, predictions))"
      ],
      "execution_count": 14,
      "outputs": [
        {
          "output_type": "stream",
          "text": [
            "              precision    recall  f1-score   support\n",
            "\n",
            "          -1       0.61      0.05      0.10      3985\n",
            "           0       0.38      0.97      0.55      6914\n",
            "           1       0.75      0.06      0.11      7540\n",
            "\n",
            "    accuracy                           0.40     18439\n",
            "   macro avg       0.58      0.36      0.25     18439\n",
            "weighted avg       0.58      0.40      0.27     18439\n",
            "\n"
          ],
          "name": "stdout"
        }
      ]
    },
    {
      "cell_type": "markdown",
      "metadata": {
        "id": "bpTohYv1siFE"
      },
      "source": [
        "**Valoración de un comentario sobre un personaje**"
      ]
    },
    {
      "cell_type": "markdown",
      "metadata": {
        "id": "riq2YD2EtDHR"
      },
      "source": [
        "En la siguiente celda se puede introducir uno o varios comentarios para valorar"
      ]
    },
    {
      "cell_type": "code",
      "metadata": {
        "id": "6HdG_87TsoHO"
      },
      "source": [
        "comentarios = []\n",
        "comentarios.append(\"Fan of superheroes in general and Spider-Man in particular\") #Comentario Positivo\n",
        "comentarios.append(\"I hate characters who wear capes\") #Comentario Negativo\n",
        "comentarios.append(\"I play the guitar\") #Comentario Neutro"
      ],
      "execution_count": 15,
      "outputs": []
    },
    {
      "cell_type": "markdown",
      "metadata": {
        "id": "_giv9ungzVQ7"
      },
      "source": [
        "La siguiente celda valorará los comentarios introducidos"
      ]
    },
    {
      "cell_type": "code",
      "metadata": {
        "colab": {
          "base_uri": "https://localhost:8080/"
        },
        "id": "94AlAyy1tPt6",
        "outputId": "0465b368-f931-4913-9b4c-63fed0db2a45"
      },
      "source": [
        "comentarioData = pd.DataFrame(columns=('clean_comment', 'category'))\n",
        "\n",
        "for comentario in comentarios:\n",
        "  comentarioData = comentarioData.append({'clean_comment' : comentario}, ignore_index=True)\n",
        "\n",
        "ps = PorterStemmer()\n",
        "\n",
        "preprocessedText = []\n",
        "\n",
        "for row in comentarioData.itertuples():\n",
        "    text = word_tokenize(str(row[1]))\n",
        "    stops = set(stopwords.words(\"english\"))\n",
        "    text = [ps.stem(w) for w in text if not w in stops and w.isalnum()]\n",
        "    text = \" \".join(text)\n",
        "    preprocessedText.append(text)\n",
        "\n",
        "preprocessedDataTest = comentarioData\n",
        "preprocessedDataTest['processed_text'] = preprocessedText\n",
        "\n",
        "textsBoWTest= bagOfWordsModel.transform(preprocessedDataTest['processed_text'])\n",
        "\n",
        "X_test = textsBoWTest #Documentos\n",
        "predictions = svc.predict(X_test)\n",
        "\n",
        "for i in range(len(predictions)):\n",
        "  if predictions[i] == 1:\n",
        "    print(comentarios[i] + \" -> Comentario positivo\")\n",
        "  elif predictions[i] == 0:\n",
        "    print(comentarios[i] + \" -> Comentario neutro\")\n",
        "  else:\n",
        "    print(comentarios[i] + \" -> Comentario negativo\")"
      ],
      "execution_count": 17,
      "outputs": [
        {
          "output_type": "stream",
          "text": [
            "Fan of superheroes in general and Spider-Man in particular -> Comentario positivo\n",
            "I hate characters who wear capes -> Comentario negativo\n",
            "I play the guitar -> Comentario neutro\n"
          ],
          "name": "stdout"
        }
      ]
    }
  ]
}