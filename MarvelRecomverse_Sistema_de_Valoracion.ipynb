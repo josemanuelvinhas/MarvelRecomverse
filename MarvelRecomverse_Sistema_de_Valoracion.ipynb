{
  "nbformat": 4,
  "nbformat_minor": 0,
  "metadata": {
    "colab": {
      "name": "MarvelRecomverse Sistema de Valoracion.ipynb",
      "provenance": [],
      "collapsed_sections": [],
      "toc_visible": true,
      "include_colab_link": true
    },
    "kernelspec": {
      "name": "python3",
      "display_name": "Python 3"
    }
  },
  "cells": [
    {
      "cell_type": "markdown",
      "metadata": {
        "id": "view-in-github",
        "colab_type": "text"
      },
      "source": [
        "<a href=\"https://colab.research.google.com/github/josemanuelvinhas/MarvelRecomverse/blob/main/MarvelRecomverse_Sistema_de_Valoracion.ipynb\" target=\"_parent\"><img src=\"https://colab.research.google.com/assets/colab-badge.svg\" alt=\"Open In Colab\"/></a>"
      ]
    },
    {
      "cell_type": "markdown",
      "metadata": {
        "id": "uJUsJfX_ePVp"
      },
      "source": [
        "#**0. Sistema de Valoración**\n",
        "\n",
        "Se realizaran dos prototipos del sistema de valoración:\n",
        "\n",
        "*   Valoración manual de un personaje\n",
        "*   Valoración automatizada de un personaje a través de comentarios\n",
        "\n"
      ]
    },
    {
      "cell_type": "markdown",
      "metadata": {
        "id": "kjei4ELgiJ1z"
      },
      "source": [
        "Las valoraciones de cada usuario se almacenarán en un dataset que guardará:\n",
        "\n",
        "*   Nombre del personaje (name)\n",
        "*   Comentario (comentario)\n",
        "*   Valoracion comentario (valoracion_comentario)\n",
        "*   Valoracion directa (valoracion_directa)\n",
        "\n"
      ]
    },
    {
      "cell_type": "markdown",
      "metadata": {
        "id": "XXzc8BTxfqpy"
      },
      "source": [
        "#**1. Sistema de Valoración Manual**"
      ]
    },
    {
      "cell_type": "markdown",
      "metadata": {
        "id": "9HVZyALwgBGg"
      },
      "source": [
        "Introduce la valoracion del item:\n",
        "\n",
        "*   Neutro\n",
        "*   Like\n",
        "*   Dislike\n"
      ]
    },
    {
      "cell_type": "code",
      "metadata": {
        "id": "0z70FwPYgBs7"
      },
      "source": [
        "valoracion = \"Like\" #Introduce aquí Like, Dislike o cualquier otra cosa (Neutro)\n",
        "\n",
        "nombre_usuario = \"Pepe\" #Nombre del usuario (el archivo csv con la informacion contendrá el nombre de usuario)\n",
        "\n",
        "index = 1 #Indice sobre el personaje afectado, en este caso A.I.M"
      ],
      "execution_count": 1,
      "outputs": []
    },
    {
      "cell_type": "markdown",
      "metadata": {
        "id": "oS_puA0Tg4ad"
      },
      "source": [
        "Se carga el dataset"
      ]
    },
    {
      "cell_type": "code",
      "metadata": {
        "colab": {
          "base_uri": "https://localhost:8080/",
          "height": 419
        },
        "id": "n9UelguegnIb",
        "outputId": "57e0d257-0fcd-4a99-a8ee-18c2b256c39c"
      },
      "source": [
        "import pandas as pd\n",
        "\n",
        "originalData = pd.read_csv('marvel.csv')\n",
        "originalData"
      ],
      "execution_count": 2,
      "outputs": [
        {
          "output_type": "execute_result",
          "data": {
            "text/html": [
              "<div>\n",
              "<style scoped>\n",
              "    .dataframe tbody tr th:only-of-type {\n",
              "        vertical-align: middle;\n",
              "    }\n",
              "\n",
              "    .dataframe tbody tr th {\n",
              "        vertical-align: top;\n",
              "    }\n",
              "\n",
              "    .dataframe thead th {\n",
              "        text-align: right;\n",
              "    }\n",
              "</style>\n",
              "<table border=\"1\" class=\"dataframe\">\n",
              "  <thead>\n",
              "    <tr style=\"text-align: right;\">\n",
              "      <th></th>\n",
              "      <th>name</th>\n",
              "      <th>description</th>\n",
              "    </tr>\n",
              "  </thead>\n",
              "  <tbody>\n",
              "    <tr>\n",
              "      <th>0</th>\n",
              "      <td>A-Bomb (HAS)</td>\n",
              "      <td>Rick Jones has been Hulk's best bud since day ...</td>\n",
              "    </tr>\n",
              "    <tr>\n",
              "      <th>1</th>\n",
              "      <td>A.I.M.</td>\n",
              "      <td>AIM is a terrorist organization bent on destro...</td>\n",
              "    </tr>\n",
              "    <tr>\n",
              "      <th>2</th>\n",
              "      <td>Abomination (Emil Blonsky)</td>\n",
              "      <td>Formerly known as Emil Blonsky, a spy of Sovie...</td>\n",
              "    </tr>\n",
              "    <tr>\n",
              "      <th>3</th>\n",
              "      <td>Adam Warlock</td>\n",
              "      <td>Adam Warlock is an artificially created human ...</td>\n",
              "    </tr>\n",
              "    <tr>\n",
              "      <th>4</th>\n",
              "      <td>Agent X (Nijo)</td>\n",
              "      <td>Originally a partner of the mind-altering assa...</td>\n",
              "    </tr>\n",
              "    <tr>\n",
              "      <th>...</th>\n",
              "      <td>...</td>\n",
              "      <td>...</td>\n",
              "    </tr>\n",
              "    <tr>\n",
              "      <th>276</th>\n",
              "      <td>Zarek</td>\n",
              "      <td>Zarek is a member of the Kree race with no sup...</td>\n",
              "    </tr>\n",
              "    <tr>\n",
              "      <th>277</th>\n",
              "      <td>Zodiak</td>\n",
              "      <td>Twelve demons merged with Norman Harrison, who...</td>\n",
              "    </tr>\n",
              "    <tr>\n",
              "      <th>278</th>\n",
              "      <td>Zombie (Simon Garth)</td>\n",
              "      <td>War hero Simon Garth was turned into a zombie ...</td>\n",
              "    </tr>\n",
              "    <tr>\n",
              "      <th>279</th>\n",
              "      <td>Zuras</td>\n",
              "      <td>Zuras was once the leader of the Eternals.</td>\n",
              "    </tr>\n",
              "    <tr>\n",
              "      <th>280</th>\n",
              "      <td>Zzzax</td>\n",
              "      <td>A chain reaction in an atomic reactor, a resul...</td>\n",
              "    </tr>\n",
              "  </tbody>\n",
              "</table>\n",
              "<p>281 rows × 2 columns</p>\n",
              "</div>"
            ],
            "text/plain": [
              "                           name                                        description\n",
              "0                  A-Bomb (HAS)  Rick Jones has been Hulk's best bud since day ...\n",
              "1                        A.I.M.  AIM is a terrorist organization bent on destro...\n",
              "2    Abomination (Emil Blonsky)  Formerly known as Emil Blonsky, a spy of Sovie...\n",
              "3                  Adam Warlock  Adam Warlock is an artificially created human ...\n",
              "4                Agent X (Nijo)  Originally a partner of the mind-altering assa...\n",
              "..                          ...                                                ...\n",
              "276                       Zarek  Zarek is a member of the Kree race with no sup...\n",
              "277                      Zodiak  Twelve demons merged with Norman Harrison, who...\n",
              "278        Zombie (Simon Garth)  War hero Simon Garth was turned into a zombie ...\n",
              "279                       Zuras         Zuras was once the leader of the Eternals.\n",
              "280                       Zzzax  A chain reaction in an atomic reactor, a resul...\n",
              "\n",
              "[281 rows x 2 columns]"
            ]
          },
          "metadata": {
            "tags": []
          },
          "execution_count": 2
        }
      ]
    },
    {
      "cell_type": "markdown",
      "metadata": {
        "id": "c08HQl05iBaE"
      },
      "source": [
        "A continuación creamos el dataset y añadimos la valoración. Recordemos que las valoraciones se tratan en el Sistema de Recomendación de la siguiente manera:\n",
        "\n",
        "  * Like (0)\n",
        "  * Dislike (1)\n",
        "  * Neutra o ninguna (0.5)"
      ]
    },
    {
      "cell_type": "code",
      "metadata": {
        "colab": {
          "base_uri": "https://localhost:8080/",
          "height": 80
        },
        "id": "w-XQWTr7j6i7",
        "outputId": "8413b8dd-04ca-4432-f1a4-fb6a7cb6ccf1"
      },
      "source": [
        "name = originalData.loc[index, \"name\"]\n",
        "\n",
        "if valoracion == \"Like\":\n",
        "  like = 0.0\n",
        "elif valoracion == \"Dislike\":\n",
        "  like = 1\n",
        "else:\n",
        "  like = 0.5\n",
        "\n",
        "data_user = {'name': name, 'valoracion_directa' : like}\n",
        "\n",
        "dataframe_user = pd.DataFrame()\n",
        "dataframe_user = dataframe_user.append(data_user, ignore_index=True)\n",
        "\n",
        "dataframe_user"
      ],
      "execution_count": 3,
      "outputs": [
        {
          "output_type": "execute_result",
          "data": {
            "text/html": [
              "<div>\n",
              "<style scoped>\n",
              "    .dataframe tbody tr th:only-of-type {\n",
              "        vertical-align: middle;\n",
              "    }\n",
              "\n",
              "    .dataframe tbody tr th {\n",
              "        vertical-align: top;\n",
              "    }\n",
              "\n",
              "    .dataframe thead th {\n",
              "        text-align: right;\n",
              "    }\n",
              "</style>\n",
              "<table border=\"1\" class=\"dataframe\">\n",
              "  <thead>\n",
              "    <tr style=\"text-align: right;\">\n",
              "      <th></th>\n",
              "      <th>name</th>\n",
              "      <th>valoracion_directa</th>\n",
              "    </tr>\n",
              "  </thead>\n",
              "  <tbody>\n",
              "    <tr>\n",
              "      <th>0</th>\n",
              "      <td>A.I.M.</td>\n",
              "      <td>0.0</td>\n",
              "    </tr>\n",
              "  </tbody>\n",
              "</table>\n",
              "</div>"
            ],
            "text/plain": [
              "     name  valoracion_directa\n",
              "0  A.I.M.                 0.0"
            ]
          },
          "metadata": {
            "tags": []
          },
          "execution_count": 3
        }
      ]
    },
    {
      "cell_type": "markdown",
      "metadata": {
        "id": "fD1PCVMhnjhw"
      },
      "source": [
        "En el Sistema de Valoración Automatizado se incluirá en este dataset el resto de la información."
      ]
    },
    {
      "cell_type": "markdown",
      "metadata": {
        "id": "n6ctW4BDfAyt"
      },
      "source": [
        "#**2. Sistema de Valoración Automatizado**"
      ]
    },
    {
      "cell_type": "markdown",
      "metadata": {
        "id": "FZ17MDTQm0J_"
      },
      "source": [
        "**Carga del dataset**\n",
        "\n",
        "Este dataset está disponible en [GitHub](https://github.com/josemanuelvinhas/MarvelRecomverse/tree/main/datasets)"
      ]
    },
    {
      "cell_type": "code",
      "metadata": {
        "colab": {
          "base_uri": "https://localhost:8080/",
          "height": 419
        },
        "id": "Iwchgb-9gEDL",
        "outputId": "1fb09bb9-a8eb-4cbc-af2b-ee197900b8bc"
      },
      "source": [
        "import pandas as pd\n",
        "\n",
        "trainingData = pd.read_csv('reddit_data_train.csv', delimiter=',')\n",
        "##trainingData = trainingData.head(1000) #Eliminar la funcion head() si se quiere usar todo el dataset. Para las pruebas usamos únicamente los 1000 primeros tweets\n",
        "trainingData"
      ],
      "execution_count": 4,
      "outputs": [
        {
          "output_type": "execute_result",
          "data": {
            "text/html": [
              "<div>\n",
              "<style scoped>\n",
              "    .dataframe tbody tr th:only-of-type {\n",
              "        vertical-align: middle;\n",
              "    }\n",
              "\n",
              "    .dataframe tbody tr th {\n",
              "        vertical-align: top;\n",
              "    }\n",
              "\n",
              "    .dataframe thead th {\n",
              "        text-align: right;\n",
              "    }\n",
              "</style>\n",
              "<table border=\"1\" class=\"dataframe\">\n",
              "  <thead>\n",
              "    <tr style=\"text-align: right;\">\n",
              "      <th></th>\n",
              "      <th>clean_comment</th>\n",
              "      <th>category</th>\n",
              "    </tr>\n",
              "  </thead>\n",
              "  <tbody>\n",
              "    <tr>\n",
              "      <th>0</th>\n",
              "      <td>family mormon have never tried explain them t...</td>\n",
              "      <td>1</td>\n",
              "    </tr>\n",
              "    <tr>\n",
              "      <th>1</th>\n",
              "      <td>buddhism has very much lot compatible with chr...</td>\n",
              "      <td>1</td>\n",
              "    </tr>\n",
              "    <tr>\n",
              "      <th>2</th>\n",
              "      <td>seriously don say thing first all they won get...</td>\n",
              "      <td>-1</td>\n",
              "    </tr>\n",
              "    <tr>\n",
              "      <th>3</th>\n",
              "      <td>what you have learned yours and only yours wha...</td>\n",
              "      <td>0</td>\n",
              "    </tr>\n",
              "    <tr>\n",
              "      <th>4</th>\n",
              "      <td>for your own benefit you may want read living ...</td>\n",
              "      <td>1</td>\n",
              "    </tr>\n",
              "    <tr>\n",
              "      <th>...</th>\n",
              "      <td>...</td>\n",
              "      <td>...</td>\n",
              "    </tr>\n",
              "    <tr>\n",
              "      <th>18805</th>\n",
              "      <td>other option</td>\n",
              "      <td>-1</td>\n",
              "    </tr>\n",
              "    <tr>\n",
              "      <th>18806</th>\n",
              "      <td>honestly feel bjp lesser evil congress was abs...</td>\n",
              "      <td>-1</td>\n",
              "    </tr>\n",
              "    <tr>\n",
              "      <th>18807</th>\n",
              "      <td>pappu</td>\n",
              "      <td>0</td>\n",
              "    </tr>\n",
              "    <tr>\n",
              "      <th>18808</th>\n",
              "      <td>india should blamed for much fud though</td>\n",
              "      <td>1</td>\n",
              "    </tr>\n",
              "    <tr>\n",
              "      <th>18809</th>\n",
              "      <td>laos ban bitcoin</td>\n",
              "      <td>0</td>\n",
              "    </tr>\n",
              "  </tbody>\n",
              "</table>\n",
              "<p>18810 rows × 2 columns</p>\n",
              "</div>"
            ],
            "text/plain": [
              "                                           clean_comment  category\n",
              "0       family mormon have never tried explain them t...         1\n",
              "1      buddhism has very much lot compatible with chr...         1\n",
              "2      seriously don say thing first all they won get...        -1\n",
              "3      what you have learned yours and only yours wha...         0\n",
              "4      for your own benefit you may want read living ...         1\n",
              "...                                                  ...       ...\n",
              "18805                                      other option         -1\n",
              "18806  honestly feel bjp lesser evil congress was abs...        -1\n",
              "18807                                             pappu          0\n",
              "18808           india should blamed for much fud though          1\n",
              "18809                                   laos ban bitcoin         0\n",
              "\n",
              "[18810 rows x 2 columns]"
            ]
          },
          "metadata": {
            "tags": []
          },
          "execution_count": 4
        }
      ]
    },
    {
      "cell_type": "code",
      "metadata": {
        "colab": {
          "base_uri": "https://localhost:8080/"
        },
        "id": "YrMITVkUk62l",
        "outputId": "fd69eb83-26b7-4bac-affe-e368ab040e5c"
      },
      "source": [
        "trainingData['category'].value_counts()"
      ],
      "execution_count": 5,
      "outputs": [
        {
          "output_type": "execute_result",
          "data": {
            "text/plain": [
              " 1    8290\n",
              " 0    6228\n",
              "-1    4292\n",
              "Name: category, dtype: int64"
            ]
          },
          "metadata": {
            "tags": []
          },
          "execution_count": 5
        }
      ]
    },
    {
      "cell_type": "markdown",
      "metadata": {
        "id": "CKSdg_OmlDFR"
      },
      "source": [
        "**Preprocesamiento de los datos de entrenamiento**\n"
      ]
    },
    {
      "cell_type": "code",
      "metadata": {
        "colab": {
          "base_uri": "https://localhost:8080/",
          "height": 487
        },
        "id": "fGCghWh3lGt0",
        "outputId": "9c04c7b4-a7d7-4f38-eec6-0093d65ef566"
      },
      "source": [
        "from nltk.tokenize import word_tokenize \n",
        "from nltk.corpus import stopwords\n",
        "from nltk.stem import PorterStemmer\n",
        "\n",
        "import nltk\n",
        "nltk.download('punkt')\n",
        "nltk.download('stopwords')\n",
        "\n",
        "ps = PorterStemmer()\n",
        "\n",
        "preprocessedText = []\n",
        "\n",
        "for row in trainingData.itertuples():\n",
        "    ## indice de la columna que contiene el texto\n",
        "    text = word_tokenize(str(row[1])) \n",
        "    ## Remove stop words\n",
        "    stops = set(stopwords.words(\"english\"))\n",
        "    text = [ps.stem(w) for w in text if not w in stops and w.isalnum()]\n",
        "    text = \" \".join(text)\n",
        "    \n",
        "    preprocessedText.append(text)\n",
        "\n",
        "preprocessedData = trainingData\n",
        "preprocessedData['processed_text'] = preprocessedText\n",
        "\n",
        "preprocessedData"
      ],
      "execution_count": 6,
      "outputs": [
        {
          "output_type": "stream",
          "text": [
            "[nltk_data] Downloading package punkt to /root/nltk_data...\n",
            "[nltk_data]   Package punkt is already up-to-date!\n",
            "[nltk_data] Downloading package stopwords to /root/nltk_data...\n",
            "[nltk_data]   Package stopwords is already up-to-date!\n"
          ],
          "name": "stdout"
        },
        {
          "output_type": "execute_result",
          "data": {
            "text/html": [
              "<div>\n",
              "<style scoped>\n",
              "    .dataframe tbody tr th:only-of-type {\n",
              "        vertical-align: middle;\n",
              "    }\n",
              "\n",
              "    .dataframe tbody tr th {\n",
              "        vertical-align: top;\n",
              "    }\n",
              "\n",
              "    .dataframe thead th {\n",
              "        text-align: right;\n",
              "    }\n",
              "</style>\n",
              "<table border=\"1\" class=\"dataframe\">\n",
              "  <thead>\n",
              "    <tr style=\"text-align: right;\">\n",
              "      <th></th>\n",
              "      <th>clean_comment</th>\n",
              "      <th>category</th>\n",
              "      <th>processed_text</th>\n",
              "    </tr>\n",
              "  </thead>\n",
              "  <tbody>\n",
              "    <tr>\n",
              "      <th>0</th>\n",
              "      <td>family mormon have never tried explain them t...</td>\n",
              "      <td>1</td>\n",
              "      <td>famili mormon never tri explain still stare pu...</td>\n",
              "    </tr>\n",
              "    <tr>\n",
              "      <th>1</th>\n",
              "      <td>buddhism has very much lot compatible with chr...</td>\n",
              "      <td>1</td>\n",
              "      <td>buddhism much lot compat christian especi cons...</td>\n",
              "    </tr>\n",
              "    <tr>\n",
              "      <th>2</th>\n",
              "      <td>seriously don say thing first all they won get...</td>\n",
              "      <td>-1</td>\n",
              "      <td>serious say thing first get complex explain no...</td>\n",
              "    </tr>\n",
              "    <tr>\n",
              "      <th>3</th>\n",
              "      <td>what you have learned yours and only yours wha...</td>\n",
              "      <td>0</td>\n",
              "      <td>learn want teach differ focu goal wrap paper b...</td>\n",
              "    </tr>\n",
              "    <tr>\n",
              "      <th>4</th>\n",
              "      <td>for your own benefit you may want read living ...</td>\n",
              "      <td>1</td>\n",
              "      <td>benefit may want read live buddha live christ ...</td>\n",
              "    </tr>\n",
              "    <tr>\n",
              "      <th>...</th>\n",
              "      <td>...</td>\n",
              "      <td>...</td>\n",
              "      <td>...</td>\n",
              "    </tr>\n",
              "    <tr>\n",
              "      <th>18805</th>\n",
              "      <td>other option</td>\n",
              "      <td>-1</td>\n",
              "      <td>option</td>\n",
              "    </tr>\n",
              "    <tr>\n",
              "      <th>18806</th>\n",
              "      <td>honestly feel bjp lesser evil congress was abs...</td>\n",
              "      <td>-1</td>\n",
              "      <td>honestli feel bjp lesser evil congress absolut...</td>\n",
              "    </tr>\n",
              "    <tr>\n",
              "      <th>18807</th>\n",
              "      <td>pappu</td>\n",
              "      <td>0</td>\n",
              "      <td>pappu</td>\n",
              "    </tr>\n",
              "    <tr>\n",
              "      <th>18808</th>\n",
              "      <td>india should blamed for much fud though</td>\n",
              "      <td>1</td>\n",
              "      <td>india blame much fud though</td>\n",
              "    </tr>\n",
              "    <tr>\n",
              "      <th>18809</th>\n",
              "      <td>laos ban bitcoin</td>\n",
              "      <td>0</td>\n",
              "      <td>lao ban bitcoin</td>\n",
              "    </tr>\n",
              "  </tbody>\n",
              "</table>\n",
              "<p>18810 rows × 3 columns</p>\n",
              "</div>"
            ],
            "text/plain": [
              "                                           clean_comment  ...                                     processed_text\n",
              "0       family mormon have never tried explain them t...  ...  famili mormon never tri explain still stare pu...\n",
              "1      buddhism has very much lot compatible with chr...  ...  buddhism much lot compat christian especi cons...\n",
              "2      seriously don say thing first all they won get...  ...  serious say thing first get complex explain no...\n",
              "3      what you have learned yours and only yours wha...  ...  learn want teach differ focu goal wrap paper b...\n",
              "4      for your own benefit you may want read living ...  ...  benefit may want read live buddha live christ ...\n",
              "...                                                  ...  ...                                                ...\n",
              "18805                                      other option   ...                                             option\n",
              "18806  honestly feel bjp lesser evil congress was abs...  ...  honestli feel bjp lesser evil congress absolut...\n",
              "18807                                             pappu   ...                                              pappu\n",
              "18808           india should blamed for much fud though   ...                        india blame much fud though\n",
              "18809                                   laos ban bitcoin  ...                                    lao ban bitcoin\n",
              "\n",
              "[18810 rows x 3 columns]"
            ]
          },
          "metadata": {
            "tags": []
          },
          "execution_count": 6
        }
      ]
    },
    {
      "cell_type": "markdown",
      "metadata": {
        "id": "bSlj-pMpmfZ6"
      },
      "source": [
        "**Creación de la bolsa de palabras**\n"
      ]
    },
    {
      "cell_type": "code",
      "metadata": {
        "colab": {
          "base_uri": "https://localhost:8080/"
        },
        "id": "jwcSST_1mhMP",
        "outputId": "436335fe-e5c1-42b6-91eb-11c267ba22f2"
      },
      "source": [
        "from sklearn.feature_extraction.text import TfidfVectorizer\n",
        "\n",
        "bagOfWordsModel = TfidfVectorizer()\n",
        "bagOfWordsModel.fit(preprocessedData['processed_text'])\n",
        "textsBoW= bagOfWordsModel.transform(preprocessedData['processed_text'])\n",
        "print(\"Finished\")"
      ],
      "execution_count": 7,
      "outputs": [
        {
          "output_type": "stream",
          "text": [
            "Finished\n"
          ],
          "name": "stdout"
        }
      ]
    },
    {
      "cell_type": "code",
      "metadata": {
        "colab": {
          "base_uri": "https://localhost:8080/"
        },
        "id": "prMVshSkmoOk",
        "outputId": "a554496d-4274-4a8a-86b6-b762afc5541c"
      },
      "source": [
        "textsBoW.shape"
      ],
      "execution_count": 8,
      "outputs": [
        {
          "output_type": "execute_result",
          "data": {
            "text/plain": [
              "(18810, 26784)"
            ]
          },
          "metadata": {
            "tags": []
          },
          "execution_count": 8
        }
      ]
    },
    {
      "cell_type": "markdown",
      "metadata": {
        "id": "_pS7XSV4mqur"
      },
      "source": [
        "**Entrenamiento de un algoritmo de clasificación (SVM)**"
      ]
    },
    {
      "cell_type": "code",
      "metadata": {
        "id": "EctDgTSSfoGq"
      },
      "source": [
        "X_train = textsBoW #Documentos\r\n",
        "Y_train = trainingData['category'] #Etiquetas de los documentos "
      ],
      "execution_count": 9,
      "outputs": []
    },
    {
      "cell_type": "markdown",
      "metadata": {
        "id": "Wq0s9HZweLb2"
      },
      "source": [
        "*   **Kernel = linear**"
      ]
    },
    {
      "cell_type": "code",
      "metadata": {
        "colab": {
          "base_uri": "https://localhost:8080/"
        },
        "id": "uJTC9-1Hm49_",
        "outputId": "44f2dd0b-aaca-404d-b4a0-a377bb7df092"
      },
      "source": [
        "from sklearn import svm\n",
        "svc_linear = svm.SVC(kernel='linear') #Modelo de clasificación\n",
        "\n",
        "svc_linear.fit(X_train, Y_train) #Entrenamiento"
      ],
      "execution_count": 10,
      "outputs": [
        {
          "output_type": "execute_result",
          "data": {
            "text/plain": [
              "SVC(C=1.0, break_ties=False, cache_size=200, class_weight=None, coef0=0.0,\n",
              "    decision_function_shape='ovr', degree=3, gamma='scale', kernel='linear',\n",
              "    max_iter=-1, probability=False, random_state=None, shrinking=True,\n",
              "    tol=0.001, verbose=False)"
            ]
          },
          "metadata": {
            "tags": []
          },
          "execution_count": 10
        }
      ]
    },
    {
      "cell_type": "markdown",
      "metadata": {
        "id": "WZuiJaaXedzl"
      },
      "source": [
        "*   **Kernel = poly**"
      ]
    },
    {
      "cell_type": "markdown",
      "metadata": {
        "id": "kJ60IuHBnXjU"
      },
      "source": [
        "Con grado 3 (por defecto)"
      ]
    },
    {
      "cell_type": "code",
      "metadata": {
        "colab": {
          "base_uri": "https://localhost:8080/"
        },
        "id": "gCXEnOm4fINr",
        "outputId": "d779c73b-ca97-425b-aec0-f08f6be2c3b5"
      },
      "source": [
        "from sklearn import svm\r\n",
        "svc_poly = svm.SVC(kernel='poly') #Modelo de clasificación\r\n",
        "\r\n",
        "svc_poly.fit(X_train, Y_train) #Entrenamiento"
      ],
      "execution_count": 11,
      "outputs": [
        {
          "output_type": "execute_result",
          "data": {
            "text/plain": [
              "SVC(C=1.0, break_ties=False, cache_size=200, class_weight=None, coef0=0.0,\n",
              "    decision_function_shape='ovr', degree=3, gamma='scale', kernel='poly',\n",
              "    max_iter=-1, probability=False, random_state=None, shrinking=True,\n",
              "    tol=0.001, verbose=False)"
            ]
          },
          "metadata": {
            "tags": []
          },
          "execution_count": 11
        }
      ]
    },
    {
      "cell_type": "markdown",
      "metadata": {
        "id": "QQ_zay9LnaI5"
      },
      "source": [
        "Con grado 5"
      ]
    },
    {
      "cell_type": "code",
      "metadata": {
        "colab": {
          "base_uri": "https://localhost:8080/"
        },
        "id": "TkYHKugYnbU7",
        "outputId": "2388743e-b988-4266-efad-49aab19444b7"
      },
      "source": [
        "from sklearn import svm\r\n",
        "svc_poly_5 = svm.SVC(kernel='poly', degree=5) #Modelo de clasificación\r\n",
        "\r\n",
        "svc_poly_5.fit(X_train, Y_train) #Entrenamiento"
      ],
      "execution_count": 12,
      "outputs": [
        {
          "output_type": "execute_result",
          "data": {
            "text/plain": [
              "SVC(C=1.0, break_ties=False, cache_size=200, class_weight=None, coef0=0.0,\n",
              "    decision_function_shape='ovr', degree=5, gamma='scale', kernel='poly',\n",
              "    max_iter=-1, probability=False, random_state=None, shrinking=True,\n",
              "    tol=0.001, verbose=False)"
            ]
          },
          "metadata": {
            "tags": []
          },
          "execution_count": 12
        }
      ]
    },
    {
      "cell_type": "markdown",
      "metadata": {
        "id": "gEnt9dLgfR8_"
      },
      "source": [
        "*   **Kernel = rbf**"
      ]
    },
    {
      "cell_type": "code",
      "metadata": {
        "colab": {
          "base_uri": "https://localhost:8080/"
        },
        "id": "C_Ju6Zx8fc0k",
        "outputId": "63fef8e2-4b7b-4ed0-821d-b94c0f45cbe9"
      },
      "source": [
        "from sklearn import svm\r\n",
        "svc_rbf = svm.SVC(kernel='rbf') #Modelo de clasificación\r\n",
        "\r\n",
        "svc_rbf.fit(X_train, Y_train) #Entrenamiento"
      ],
      "execution_count": 13,
      "outputs": [
        {
          "output_type": "execute_result",
          "data": {
            "text/plain": [
              "SVC(C=1.0, break_ties=False, cache_size=200, class_weight=None, coef0=0.0,\n",
              "    decision_function_shape='ovr', degree=3, gamma='scale', kernel='rbf',\n",
              "    max_iter=-1, probability=False, random_state=None, shrinking=True,\n",
              "    tol=0.001, verbose=False)"
            ]
          },
          "metadata": {
            "tags": []
          },
          "execution_count": 13
        }
      ]
    },
    {
      "cell_type": "markdown",
      "metadata": {
        "id": "Q2zMoeGTfXnR"
      },
      "source": [
        "*   **Kernel = sigmoid**"
      ]
    },
    {
      "cell_type": "markdown",
      "metadata": {
        "id": "X1iB3cDNpsbk"
      },
      "source": [
        "Con coeficiente 0.0 (por defecto)"
      ]
    },
    {
      "cell_type": "code",
      "metadata": {
        "colab": {
          "base_uri": "https://localhost:8080/"
        },
        "id": "5zQPvzDgfcZ0",
        "outputId": "98aea16a-06fd-4a01-cef9-8fd7ea0c86da"
      },
      "source": [
        "from sklearn import svm\r\n",
        "svc_sigmoid = svm.SVC(kernel='sigmoid') #Modelo de clasificación\r\n",
        "\r\n",
        "svc_sigmoid.fit(X_train, Y_train) #Entrenamiento"
      ],
      "execution_count": 14,
      "outputs": [
        {
          "output_type": "execute_result",
          "data": {
            "text/plain": [
              "SVC(C=1.0, break_ties=False, cache_size=200, class_weight=None, coef0=0.0,\n",
              "    decision_function_shape='ovr', degree=3, gamma='scale', kernel='sigmoid',\n",
              "    max_iter=-1, probability=False, random_state=None, shrinking=True,\n",
              "    tol=0.001, verbose=False)"
            ]
          },
          "metadata": {
            "tags": []
          },
          "execution_count": 14
        }
      ]
    },
    {
      "cell_type": "markdown",
      "metadata": {
        "id": "_LY5BoE_p0Yv"
      },
      "source": [
        "Con coeficiente 1.0"
      ]
    },
    {
      "cell_type": "code",
      "metadata": {
        "colab": {
          "base_uri": "https://localhost:8080/"
        },
        "id": "fcHpwaR4pzo7",
        "outputId": "d7d207c7-4dc2-4cb9-e5e0-6d8c770795f5"
      },
      "source": [
        "from sklearn import svm\r\n",
        "svc_sigmoid_coef_1 = svm.SVC(kernel='sigmoid', coef0=1.0) #Modelo de clasificación\r\n",
        "\r\n",
        "svc_sigmoid_coef_1.fit(X_train, Y_train) #Entrenamiento"
      ],
      "execution_count": 15,
      "outputs": [
        {
          "output_type": "execute_result",
          "data": {
            "text/plain": [
              "SVC(C=1.0, break_ties=False, cache_size=200, class_weight=None, coef0=1.0,\n",
              "    decision_function_shape='ovr', degree=3, gamma='scale', kernel='sigmoid',\n",
              "    max_iter=-1, probability=False, random_state=None, shrinking=True,\n",
              "    tol=0.001, verbose=False)"
            ]
          },
          "metadata": {
            "tags": []
          },
          "execution_count": 15
        }
      ]
    },
    {
      "cell_type": "markdown",
      "metadata": {
        "id": "agveuWJUpPJq"
      },
      "source": [
        "**Carga de y preprocesado de documentos de test**"
      ]
    },
    {
      "cell_type": "code",
      "metadata": {
        "colab": {
          "base_uri": "https://localhost:8080/",
          "height": 419
        },
        "id": "ZxGQqQmCpTaD",
        "outputId": "2fb0c554-012e-4c92-8aa1-c2bd33fc2d8d"
      },
      "source": [
        "testData = pd.read_csv('reddit_data_test.csv', delimiter=',')\n",
        "##testData = testData.head(100)\n",
        "testData"
      ],
      "execution_count": 16,
      "outputs": [
        {
          "output_type": "execute_result",
          "data": {
            "text/html": [
              "<div>\n",
              "<style scoped>\n",
              "    .dataframe tbody tr th:only-of-type {\n",
              "        vertical-align: middle;\n",
              "    }\n",
              "\n",
              "    .dataframe tbody tr th {\n",
              "        vertical-align: top;\n",
              "    }\n",
              "\n",
              "    .dataframe thead th {\n",
              "        text-align: right;\n",
              "    }\n",
              "</style>\n",
              "<table border=\"1\" class=\"dataframe\">\n",
              "  <thead>\n",
              "    <tr style=\"text-align: right;\">\n",
              "      <th></th>\n",
              "      <th>clean_comment</th>\n",
              "      <th>category</th>\n",
              "    </tr>\n",
              "  </thead>\n",
              "  <tbody>\n",
              "    <tr>\n",
              "      <th>0</th>\n",
              "      <td>modi liar</td>\n",
              "      <td>0</td>\n",
              "    </tr>\n",
              "    <tr>\n",
              "      <th>1</th>\n",
              "      <td>doesn india have more important problems then ...</td>\n",
              "      <td>1</td>\n",
              "    </tr>\n",
              "    <tr>\n",
              "      <th>2</th>\n",
              "      <td>well that settles then everyone buy back india...</td>\n",
              "      <td>-1</td>\n",
              "    </tr>\n",
              "    <tr>\n",
              "      <th>3</th>\n",
              "      <td>all know ever visit india getting one those he...</td>\n",
              "      <td>0</td>\n",
              "    </tr>\n",
              "    <tr>\n",
              "      <th>4</th>\n",
              "      <td>india wont ban bitcoin because they didnt give...</td>\n",
              "      <td>-1</td>\n",
              "    </tr>\n",
              "    <tr>\n",
              "      <th>...</th>\n",
              "      <td>...</td>\n",
              "      <td>...</td>\n",
              "    </tr>\n",
              "    <tr>\n",
              "      <th>18434</th>\n",
              "      <td>jesus</td>\n",
              "      <td>0</td>\n",
              "    </tr>\n",
              "    <tr>\n",
              "      <th>18435</th>\n",
              "      <td>kya bhai pure saal chutiya banaya modi aur jab...</td>\n",
              "      <td>1</td>\n",
              "    </tr>\n",
              "    <tr>\n",
              "      <th>18436</th>\n",
              "      <td>downvote karna tha par upvote hogaya</td>\n",
              "      <td>0</td>\n",
              "    </tr>\n",
              "    <tr>\n",
              "      <th>18437</th>\n",
              "      <td>haha nice</td>\n",
              "      <td>1</td>\n",
              "    </tr>\n",
              "    <tr>\n",
              "      <th>18438</th>\n",
              "      <td>facebook itself now working bjp’ cell</td>\n",
              "      <td>0</td>\n",
              "    </tr>\n",
              "  </tbody>\n",
              "</table>\n",
              "<p>18439 rows × 2 columns</p>\n",
              "</div>"
            ],
            "text/plain": [
              "                                           clean_comment  category\n",
              "0                                             modi liar          0\n",
              "1      doesn india have more important problems then ...         1\n",
              "2      well that settles then everyone buy back india...        -1\n",
              "3      all know ever visit india getting one those he...         0\n",
              "4      india wont ban bitcoin because they didnt give...        -1\n",
              "...                                                  ...       ...\n",
              "18434                                              jesus         0\n",
              "18435  kya bhai pure saal chutiya banaya modi aur jab...         1\n",
              "18436              downvote karna tha par upvote hogaya          0\n",
              "18437                                         haha nice          1\n",
              "18438             facebook itself now working bjp’ cell          0\n",
              "\n",
              "[18439 rows x 2 columns]"
            ]
          },
          "metadata": {
            "tags": []
          },
          "execution_count": 16
        }
      ]
    },
    {
      "cell_type": "code",
      "metadata": {
        "colab": {
          "base_uri": "https://localhost:8080/",
          "height": 419
        },
        "id": "7loifGwepcKs",
        "outputId": "6413e4c6-b2e7-47d3-9d8f-dda95e0707cf"
      },
      "source": [
        "ps = PorterStemmer()\n",
        "\n",
        "preprocessedText = []\n",
        "\n",
        "for row in testData.itertuples():\n",
        "    \n",
        "    \n",
        "    text = word_tokenize(str(row[1])) ## indice de la columna que contiene el texto\n",
        "    ## Remove stop words\n",
        "    stops = set(stopwords.words(\"english\"))\n",
        "    text = [ps.stem(w) for w in text if not w in stops and w.isalnum()]\n",
        "    text = \" \".join(text)\n",
        "    \n",
        "    preprocessedText.append(text)\n",
        "\n",
        "preprocessedDataTest = testData\n",
        "preprocessedDataTest['processed_text'] = preprocessedText\n",
        "\n",
        "preprocessedDataTest"
      ],
      "execution_count": 17,
      "outputs": [
        {
          "output_type": "execute_result",
          "data": {
            "text/html": [
              "<div>\n",
              "<style scoped>\n",
              "    .dataframe tbody tr th:only-of-type {\n",
              "        vertical-align: middle;\n",
              "    }\n",
              "\n",
              "    .dataframe tbody tr th {\n",
              "        vertical-align: top;\n",
              "    }\n",
              "\n",
              "    .dataframe thead th {\n",
              "        text-align: right;\n",
              "    }\n",
              "</style>\n",
              "<table border=\"1\" class=\"dataframe\">\n",
              "  <thead>\n",
              "    <tr style=\"text-align: right;\">\n",
              "      <th></th>\n",
              "      <th>clean_comment</th>\n",
              "      <th>category</th>\n",
              "      <th>processed_text</th>\n",
              "    </tr>\n",
              "  </thead>\n",
              "  <tbody>\n",
              "    <tr>\n",
              "      <th>0</th>\n",
              "      <td>modi liar</td>\n",
              "      <td>0</td>\n",
              "      <td>modi liar</td>\n",
              "    </tr>\n",
              "    <tr>\n",
              "      <th>1</th>\n",
              "      <td>doesn india have more important problems then ...</td>\n",
              "      <td>1</td>\n",
              "      <td>india import problem cryptocurr</td>\n",
              "    </tr>\n",
              "    <tr>\n",
              "      <th>2</th>\n",
              "      <td>well that settles then everyone buy back india...</td>\n",
              "      <td>-1</td>\n",
              "      <td>well settl everyon buy back indian kid verifi ...</td>\n",
              "    </tr>\n",
              "    <tr>\n",
              "      <th>3</th>\n",
              "      <td>all know ever visit india getting one those he...</td>\n",
              "      <td>0</td>\n",
              "      <td>know ever visit india get one head massag barb...</td>\n",
              "    </tr>\n",
              "    <tr>\n",
              "      <th>4</th>\n",
              "      <td>india wont ban bitcoin because they didnt give...</td>\n",
              "      <td>-1</td>\n",
              "      <td>india wont ban bitcoin didnt give everi citize...</td>\n",
              "    </tr>\n",
              "    <tr>\n",
              "      <th>...</th>\n",
              "      <td>...</td>\n",
              "      <td>...</td>\n",
              "      <td>...</td>\n",
              "    </tr>\n",
              "    <tr>\n",
              "      <th>18434</th>\n",
              "      <td>jesus</td>\n",
              "      <td>0</td>\n",
              "      <td>jesu</td>\n",
              "    </tr>\n",
              "    <tr>\n",
              "      <th>18435</th>\n",
              "      <td>kya bhai pure saal chutiya banaya modi aur jab...</td>\n",
              "      <td>1</td>\n",
              "      <td>kya bhai pure saal chutiya banaya modi aur jab...</td>\n",
              "    </tr>\n",
              "    <tr>\n",
              "      <th>18436</th>\n",
              "      <td>downvote karna tha par upvote hogaya</td>\n",
              "      <td>0</td>\n",
              "      <td>downvot karna tha par upvot hogaya</td>\n",
              "    </tr>\n",
              "    <tr>\n",
              "      <th>18437</th>\n",
              "      <td>haha nice</td>\n",
              "      <td>1</td>\n",
              "      <td>haha nice</td>\n",
              "    </tr>\n",
              "    <tr>\n",
              "      <th>18438</th>\n",
              "      <td>facebook itself now working bjp’ cell</td>\n",
              "      <td>0</td>\n",
              "      <td>facebook work bjp cell</td>\n",
              "    </tr>\n",
              "  </tbody>\n",
              "</table>\n",
              "<p>18439 rows × 3 columns</p>\n",
              "</div>"
            ],
            "text/plain": [
              "                                           clean_comment  ...                                     processed_text\n",
              "0                                             modi liar   ...                                          modi liar\n",
              "1      doesn india have more important problems then ...  ...                    india import problem cryptocurr\n",
              "2      well that settles then everyone buy back india...  ...  well settl everyon buy back indian kid verifi ...\n",
              "3      all know ever visit india getting one those he...  ...  know ever visit india get one head massag barb...\n",
              "4      india wont ban bitcoin because they didnt give...  ...  india wont ban bitcoin didnt give everi citize...\n",
              "...                                                  ...  ...                                                ...\n",
              "18434                                              jesus  ...                                               jesu\n",
              "18435  kya bhai pure saal chutiya banaya modi aur jab...  ...  kya bhai pure saal chutiya banaya modi aur jab...\n",
              "18436              downvote karna tha par upvote hogaya   ...                 downvot karna tha par upvot hogaya\n",
              "18437                                         haha nice   ...                                          haha nice\n",
              "18438             facebook itself now working bjp’ cell   ...                             facebook work bjp cell\n",
              "\n",
              "[18439 rows x 3 columns]"
            ]
          },
          "metadata": {
            "tags": []
          },
          "execution_count": 17
        }
      ]
    },
    {
      "cell_type": "code",
      "metadata": {
        "colab": {
          "base_uri": "https://localhost:8080/"
        },
        "id": "L4SbQsEIprBy",
        "outputId": "a80349ea-f35e-4c70-b5e2-6843f1127bef"
      },
      "source": [
        "testData['category'].value_counts()"
      ],
      "execution_count": 18,
      "outputs": [
        {
          "output_type": "execute_result",
          "data": {
            "text/plain": [
              " 1    7540\n",
              " 0    6914\n",
              "-1    3985\n",
              "Name: category, dtype: int64"
            ]
          },
          "metadata": {
            "tags": []
          },
          "execution_count": 18
        }
      ]
    },
    {
      "cell_type": "code",
      "metadata": {
        "colab": {
          "base_uri": "https://localhost:8080/"
        },
        "id": "bxWvVGJ2pv-S",
        "outputId": "d8faa1b2-80ef-448d-c5ef-e42c89ef8bfd"
      },
      "source": [
        "textsBoWTest= bagOfWordsModel.transform(preprocessedDataTest['processed_text'])\n",
        "print(\"Finished\")"
      ],
      "execution_count": 19,
      "outputs": [
        {
          "output_type": "stream",
          "text": [
            "Finished\n"
          ],
          "name": "stdout"
        }
      ]
    },
    {
      "cell_type": "code",
      "metadata": {
        "colab": {
          "base_uri": "https://localhost:8080/"
        },
        "id": "ZjWq4VDzpyhS",
        "outputId": "30e4f49b-7ce2-4d28-c81d-68f5391b9add"
      },
      "source": [
        "textsBoWTest.shape"
      ],
      "execution_count": 20,
      "outputs": [
        {
          "output_type": "execute_result",
          "data": {
            "text/plain": [
              "(18439, 26784)"
            ]
          },
          "metadata": {
            "tags": []
          },
          "execution_count": 20
        }
      ]
    },
    {
      "cell_type": "markdown",
      "metadata": {
        "id": "1MGDgEzDp0cd"
      },
      "source": [
        "**Clasificación de los documentos de test**"
      ]
    },
    {
      "cell_type": "code",
      "metadata": {
        "id": "h0SntgSNgKc7"
      },
      "source": [
        "X_test = textsBoWTest #Documentos"
      ],
      "execution_count": 21,
      "outputs": []
    },
    {
      "cell_type": "markdown",
      "metadata": {
        "id": "WBZL2cA2f6vB"
      },
      "source": [
        "*   **Kernel = linear**"
      ]
    },
    {
      "cell_type": "code",
      "metadata": {
        "id": "VDW0EWG1p2tg"
      },
      "source": [
        "predictions_linear = svc_linear.predict(X_test) #Se almacena en el array predictions las predicciones del clasificador"
      ],
      "execution_count": 22,
      "outputs": []
    },
    {
      "cell_type": "markdown",
      "metadata": {
        "id": "3ThMfCHVf7mG"
      },
      "source": [
        "*   **Kernel = poly**"
      ]
    },
    {
      "cell_type": "markdown",
      "metadata": {
        "id": "YUxewLGDnMks"
      },
      "source": [
        "Con grado 3 (por defecto)"
      ]
    },
    {
      "cell_type": "code",
      "metadata": {
        "id": "qGYczWTTgX9L"
      },
      "source": [
        "predictions_poly = svc_poly.predict(X_test) #Se almacena en el array predictions las predicciones del clasificador"
      ],
      "execution_count": 23,
      "outputs": []
    },
    {
      "cell_type": "markdown",
      "metadata": {
        "id": "IfpFDcNxnQOA"
      },
      "source": [
        "Con grado 5"
      ]
    },
    {
      "cell_type": "code",
      "metadata": {
        "id": "z_APsTUZnTAP"
      },
      "source": [
        "predictions_poly_5 = svc_poly_5.predict(X_test) #Se almacena en el array predictions las predicciones del clasificador"
      ],
      "execution_count": 24,
      "outputs": []
    },
    {
      "cell_type": "markdown",
      "metadata": {
        "id": "aQ5e0ZsHf8Lp"
      },
      "source": [
        "*   **Kernel = rbf**"
      ]
    },
    {
      "cell_type": "code",
      "metadata": {
        "id": "FgE5lfVMgYeD"
      },
      "source": [
        "predictions_rbf = svc_rbf.predict(X_test) #Se almacena en el array predictions las predicciones del clasificador"
      ],
      "execution_count": 25,
      "outputs": []
    },
    {
      "cell_type": "markdown",
      "metadata": {
        "id": "5lH0oQjuf8qx"
      },
      "source": [
        "*   **Kernel = sigmoid**"
      ]
    },
    {
      "cell_type": "markdown",
      "metadata": {
        "id": "lknpzFFgqIxr"
      },
      "source": [
        "Con coeficiente 0.0 (por defecto)"
      ]
    },
    {
      "cell_type": "code",
      "metadata": {
        "id": "EFrjUL3HgZBe"
      },
      "source": [
        "predictions_sigmoid = svc_sigmoid.predict(X_test) #Se almacena en el array predictions las predicciones del clasificador"
      ],
      "execution_count": 26,
      "outputs": []
    },
    {
      "cell_type": "markdown",
      "metadata": {
        "id": "T3SEmcA8qLyK"
      },
      "source": [
        "Con coeficiente 1.0"
      ]
    },
    {
      "cell_type": "code",
      "metadata": {
        "id": "8fylSAp_qNu-"
      },
      "source": [
        "predictions_sigmoid_coef_1 = svc_sigmoid_coef_1.predict(X_test)"
      ],
      "execution_count": 27,
      "outputs": []
    },
    {
      "cell_type": "markdown",
      "metadata": {
        "id": "6IBIJfIip6TP"
      },
      "source": [
        "**Evaluacion de la predicción con SVM**\n"
      ]
    },
    {
      "cell_type": "code",
      "metadata": {
        "id": "mZvDYOsig5E1"
      },
      "source": [
        "from sklearn.metrics import classification_report\r\n",
        "\r\n",
        "Y_test = testData['category'] #Etiquetas reales de los documentos"
      ],
      "execution_count": 28,
      "outputs": []
    },
    {
      "cell_type": "markdown",
      "metadata": {
        "id": "AdB_7i-rgrgZ"
      },
      "source": [
        "*   **Kernel = linear**"
      ]
    },
    {
      "cell_type": "code",
      "metadata": {
        "colab": {
          "base_uri": "https://localhost:8080/"
        },
        "id": "VnanfvpKp9ZN",
        "outputId": "13ba46fb-7e7d-435d-ae60-c237d32efc17"
      },
      "source": [
        "print (classification_report(Y_test, predictions_linear))"
      ],
      "execution_count": 29,
      "outputs": [
        {
          "output_type": "stream",
          "text": [
            "              precision    recall  f1-score   support\n",
            "\n",
            "          -1       0.78      0.64      0.70      3985\n",
            "           0       0.82      0.91      0.87      6914\n",
            "           1       0.83      0.83      0.83      7540\n",
            "\n",
            "    accuracy                           0.82     18439\n",
            "   macro avg       0.81      0.79      0.80     18439\n",
            "weighted avg       0.82      0.82      0.82     18439\n",
            "\n"
          ],
          "name": "stdout"
        }
      ]
    },
    {
      "cell_type": "markdown",
      "metadata": {
        "id": "zvi_wQoqgt49"
      },
      "source": [
        "*   **Kernel = poly**"
      ]
    },
    {
      "cell_type": "markdown",
      "metadata": {
        "id": "9nY1_t4rnrxG"
      },
      "source": [
        "Con grado 3"
      ]
    },
    {
      "cell_type": "code",
      "metadata": {
        "colab": {
          "base_uri": "https://localhost:8080/"
        },
        "id": "H51oqnKyg9CL",
        "outputId": "9ac56234-f8e8-4ef8-b7a2-4f03ee51731e"
      },
      "source": [
        "print (classification_report(Y_test, predictions_poly))"
      ],
      "execution_count": 30,
      "outputs": [
        {
          "output_type": "stream",
          "text": [
            "              precision    recall  f1-score   support\n",
            "\n",
            "          -1       0.86      0.09      0.16      3985\n",
            "           0       0.82      0.31      0.45      6914\n",
            "           1       0.47      0.96      0.63      7540\n",
            "\n",
            "    accuracy                           0.53     18439\n",
            "   macro avg       0.72      0.45      0.42     18439\n",
            "weighted avg       0.69      0.53      0.46     18439\n",
            "\n"
          ],
          "name": "stdout"
        }
      ]
    },
    {
      "cell_type": "markdown",
      "metadata": {
        "id": "1byHtpvRntHA"
      },
      "source": [
        "Con grado 5"
      ]
    },
    {
      "cell_type": "code",
      "metadata": {
        "colab": {
          "base_uri": "https://localhost:8080/"
        },
        "id": "ZlipJ9nUnukO",
        "outputId": "f404cb8c-3311-4735-e3e4-d583babd56f9"
      },
      "source": [
        "print (classification_report(Y_test, predictions_poly_5))"
      ],
      "execution_count": 31,
      "outputs": [
        {
          "output_type": "stream",
          "text": [
            "              precision    recall  f1-score   support\n",
            "\n",
            "          -1       0.91      0.02      0.04      3985\n",
            "           0       0.90      0.12      0.20      6914\n",
            "           1       0.43      0.99      0.60      7540\n",
            "\n",
            "    accuracy                           0.45     18439\n",
            "   macro avg       0.75      0.38      0.28     18439\n",
            "weighted avg       0.71      0.45      0.33     18439\n",
            "\n"
          ],
          "name": "stdout"
        }
      ]
    },
    {
      "cell_type": "markdown",
      "metadata": {
        "id": "TPkU67CvgufE"
      },
      "source": [
        "*   **Kernel = rbf**"
      ]
    },
    {
      "cell_type": "code",
      "metadata": {
        "colab": {
          "base_uri": "https://localhost:8080/"
        },
        "id": "0Zqq_BChg9fv",
        "outputId": "6d41d1fe-a287-424e-8d65-ea32066e48ff"
      },
      "source": [
        "print (classification_report(Y_test, predictions_rbf))"
      ],
      "execution_count": 32,
      "outputs": [
        {
          "output_type": "stream",
          "text": [
            "              precision    recall  f1-score   support\n",
            "\n",
            "          -1       0.82      0.52      0.64      3985\n",
            "           0       0.79      0.92      0.85      6914\n",
            "           1       0.80      0.84      0.82      7540\n",
            "\n",
            "    accuracy                           0.80     18439\n",
            "   macro avg       0.80      0.76      0.77     18439\n",
            "weighted avg       0.80      0.80      0.79     18439\n",
            "\n"
          ],
          "name": "stdout"
        }
      ]
    },
    {
      "cell_type": "markdown",
      "metadata": {
        "id": "kzJC5Vg7gu36"
      },
      "source": [
        "*   **Kernel = sigmoid**"
      ]
    },
    {
      "cell_type": "markdown",
      "metadata": {
        "id": "3vDsPXaFwcJI"
      },
      "source": [
        "Con coeficiente 0.0"
      ]
    },
    {
      "cell_type": "code",
      "metadata": {
        "colab": {
          "base_uri": "https://localhost:8080/"
        },
        "id": "XsDhDtBSg-Ii",
        "outputId": "c60c7d8c-0228-41c7-811a-97068a86ee1a"
      },
      "source": [
        "print (classification_report(Y_test, predictions_sigmoid))"
      ],
      "execution_count": 33,
      "outputs": [
        {
          "output_type": "stream",
          "text": [
            "              precision    recall  f1-score   support\n",
            "\n",
            "          -1       0.78      0.63      0.70      3985\n",
            "           0       0.82      0.91      0.86      6914\n",
            "           1       0.83      0.83      0.83      7540\n",
            "\n",
            "    accuracy                           0.81     18439\n",
            "   macro avg       0.81      0.79      0.79     18439\n",
            "weighted avg       0.81      0.81      0.81     18439\n",
            "\n"
          ],
          "name": "stdout"
        }
      ]
    },
    {
      "cell_type": "markdown",
      "metadata": {
        "id": "7ISK3MHMwgFp"
      },
      "source": [
        "Con coeficiente 1.0"
      ]
    },
    {
      "cell_type": "code",
      "metadata": {
        "colab": {
          "base_uri": "https://localhost:8080/"
        },
        "id": "1tkoCAm0qrT7",
        "outputId": "3f6ead6a-0c58-47ae-bb67-99f2c3bf4c5e"
      },
      "source": [
        "print (classification_report(Y_test, predictions_sigmoid_coef_1))"
      ],
      "execution_count": 34,
      "outputs": [
        {
          "output_type": "stream",
          "text": [
            "              precision    recall  f1-score   support\n",
            "\n",
            "          -1       0.83      0.50      0.62      3985\n",
            "           0       0.77      0.90      0.83      6914\n",
            "           1       0.78      0.83      0.80      7540\n",
            "\n",
            "    accuracy                           0.78     18439\n",
            "   macro avg       0.79      0.74      0.75     18439\n",
            "weighted avg       0.79      0.78      0.77     18439\n",
            "\n"
          ],
          "name": "stdout"
        }
      ]
    },
    {
      "cell_type": "markdown",
      "metadata": {
        "id": "PHgSReqArSWI"
      },
      "source": [
        "**Entrenamiento y Evaluación de otro algoritmo de clasificación: k-NN**"
      ]
    },
    {
      "cell_type": "markdown",
      "metadata": {
        "id": "4kBCwjLqvOqW"
      },
      "source": [
        "*   **Resultados con *n_neighbors=3***"
      ]
    },
    {
      "cell_type": "code",
      "metadata": {
        "colab": {
          "base_uri": "https://localhost:8080/"
        },
        "id": "LaZJlBT3rXY6",
        "outputId": "90c533e2-8e10-4235-a2fc-459997f5504f"
      },
      "source": [
        "from sklearn.neighbors import KNeighborsClassifier\n",
        "neigh_3 = KNeighborsClassifier(n_neighbors=3)\n",
        "\n",
        "neigh_3.fit(X_train, Y_train) \n",
        "predictions_neigh_3 = neigh_3.predict(X_test) \n",
        "\n",
        "print (classification_report(Y_test, predictions_neigh_3))"
      ],
      "execution_count": 35,
      "outputs": [
        {
          "output_type": "stream",
          "text": [
            "              precision    recall  f1-score   support\n",
            "\n",
            "          -1       0.61      0.05      0.10      3985\n",
            "           0       0.38      0.97      0.55      6914\n",
            "           1       0.75      0.06      0.11      7540\n",
            "\n",
            "    accuracy                           0.40     18439\n",
            "   macro avg       0.58      0.36      0.25     18439\n",
            "weighted avg       0.58      0.40      0.27     18439\n",
            "\n"
          ],
          "name": "stdout"
        }
      ]
    },
    {
      "cell_type": "markdown",
      "metadata": {
        "id": "uyh8tbmdmK39"
      },
      "source": [
        "*   **Resultados con *n_neighbors=2***"
      ]
    },
    {
      "cell_type": "code",
      "metadata": {
        "colab": {
          "base_uri": "https://localhost:8080/"
        },
        "id": "nC6E5Xw_lr2U",
        "outputId": "86adf838-eb93-4ede-fa18-d2e883edabd8"
      },
      "source": [
        "neigh_2 = KNeighborsClassifier(n_neighbors=2)\r\n",
        "\r\n",
        "neigh_2.fit(X_train, Y_train) \r\n",
        "predictions_neigh_2 = neigh_2.predict(X_test) \r\n",
        "\r\n",
        "print (classification_report(Y_test, predictions_neigh_2))"
      ],
      "execution_count": 36,
      "outputs": [
        {
          "output_type": "stream",
          "text": [
            "              precision    recall  f1-score   support\n",
            "\n",
            "          -1       0.48      0.08      0.14      3985\n",
            "           0       0.38      0.95      0.54      6914\n",
            "           1       0.81      0.05      0.09      7540\n",
            "\n",
            "    accuracy                           0.40     18439\n",
            "   macro avg       0.56      0.36      0.26     18439\n",
            "weighted avg       0.58      0.40      0.27     18439\n",
            "\n"
          ],
          "name": "stdout"
        }
      ]
    },
    {
      "cell_type": "markdown",
      "metadata": {
        "id": "rziM_n24mMUM"
      },
      "source": [
        "*   **Resultados con *n_neighbors=4***"
      ]
    },
    {
      "cell_type": "code",
      "metadata": {
        "colab": {
          "base_uri": "https://localhost:8080/"
        },
        "id": "FnwKBL-0mOdL",
        "outputId": "0de570c9-b8be-4316-bafa-626afbaeb34e"
      },
      "source": [
        "neigh_4 = KNeighborsClassifier(n_neighbors=4)\r\n",
        "\r\n",
        "neigh_4.fit(X_train, Y_train) \r\n",
        "predictions_neigh_4 = neigh_4.predict(X_test) \r\n",
        "\r\n",
        "print (classification_report(Y_test, predictions_neigh_4))"
      ],
      "execution_count": 37,
      "outputs": [
        {
          "output_type": "stream",
          "text": [
            "              precision    recall  f1-score   support\n",
            "\n",
            "          -1       0.73      0.05      0.10      3985\n",
            "           0       0.38      0.98      0.55      6914\n",
            "           1       0.81      0.05      0.09      7540\n",
            "\n",
            "    accuracy                           0.40     18439\n",
            "   macro avg       0.64      0.36      0.25     18439\n",
            "weighted avg       0.63      0.40      0.27     18439\n",
            "\n"
          ],
          "name": "stdout"
        }
      ]
    },
    {
      "cell_type": "markdown",
      "metadata": {
        "id": "bpTohYv1siFE"
      },
      "source": [
        "**Valoración de un comentario sobre un personaje**\n",
        "\n"
      ]
    },
    {
      "cell_type": "markdown",
      "metadata": {
        "id": "SMAQignfrt8g"
      },
      "source": [
        "En base a los resultados de los test se decide emplear SVM con *kernel=linear*"
      ]
    },
    {
      "cell_type": "markdown",
      "metadata": {
        "id": "riq2YD2EtDHR"
      },
      "source": [
        "En la siguiente celda se puede introducir uno o varios comentarios para valorar"
      ]
    },
    {
      "cell_type": "code",
      "metadata": {
        "id": "6HdG_87TsoHO"
      },
      "source": [
        "comentarios = []\n",
        "comentarios.append(\"Fan of superheroes in general and Spider-Man in particular\") #Comentario Positivo\n",
        "comentarios.append(\"I hate characters who wear capes\") #Comentario Negativo\n",
        "comentarios.append(\"I play the guitar\") #Comentario Neutro\n",
        "\n",
        "comentarios.append(\"This character makes me feel sad.\") #Comentario sobre A.I.M."
      ],
      "execution_count": 38,
      "outputs": []
    },
    {
      "cell_type": "markdown",
      "metadata": {
        "id": "_giv9ungzVQ7"
      },
      "source": [
        "La siguiente celda valorará los comentarios introducidos"
      ]
    },
    {
      "cell_type": "code",
      "metadata": {
        "colab": {
          "base_uri": "https://localhost:8080/"
        },
        "id": "94AlAyy1tPt6",
        "outputId": "81e3f56a-c22a-432f-ed5d-eb115e008b3b"
      },
      "source": [
        "comentarioData = pd.DataFrame(columns=('clean_comment', 'category'))\n",
        "\n",
        "for comentario in comentarios:\n",
        "  comentarioData = comentarioData.append({'clean_comment' : comentario}, ignore_index=True)\n",
        "\n",
        "ps = PorterStemmer()\n",
        "\n",
        "preprocessedText = []\n",
        "\n",
        "for row in comentarioData.itertuples():\n",
        "    text = word_tokenize(str(row[1]))\n",
        "    stops = set(stopwords.words(\"english\"))\n",
        "    text = [ps.stem(w) for w in text if not w in stops and w.isalnum()]\n",
        "    text = \" \".join(text)\n",
        "    preprocessedText.append(text)\n",
        "\n",
        "preprocessedDataTest = comentarioData\n",
        "preprocessedDataTest['processed_text'] = preprocessedText\n",
        "\n",
        "textsBoWTest= bagOfWordsModel.transform(preprocessedDataTest['processed_text'])\n",
        "\n",
        "X_test_comentario = textsBoWTest #Documentos\n",
        "predictions = svc_linear.predict(X_test_comentario)\n",
        "\n",
        "for i in range(len(predictions)):\n",
        "  if predictions[i] == 1:\n",
        "    print(comentarios[i] + \" -> Comentario positivo\")\n",
        "  elif predictions[i] == 0:\n",
        "    print(comentarios[i] + \" -> Comentario neutro\")\n",
        "  else:\n",
        "    print(comentarios[i] + \" -> Comentario negativo\")"
      ],
      "execution_count": 39,
      "outputs": [
        {
          "output_type": "stream",
          "text": [
            "Fan of superheroes in general and Spider-Man in particular -> Comentario positivo\n",
            "I hate characters who wear capes -> Comentario negativo\n",
            "I play the guitar -> Comentario neutro\n",
            "This character makes me feel sad. -> Comentario negativo\n"
          ],
          "name": "stdout"
        }
      ]
    },
    {
      "cell_type": "markdown",
      "metadata": {
        "id": "aIrgaASonwzl"
      },
      "source": [
        "**Almacenamiento de la información sobre el comentario y su valoración**"
      ]
    },
    {
      "cell_type": "markdown",
      "metadata": {
        "id": "0CreHYU5rX0S"
      },
      "source": [
        "Añadimos el comentario y la valoracion. Se debe tener en cuenta que el sistema de recomendación hace uso de estas valoraciones y los valores deben ser los siguientes:\n",
        "\n",
        "\n",
        "* Buena (0.0)\n",
        "* Neutra o no valoración (0.5)\n",
        "* Mala (1.0)\n",
        "\n",
        "*NOTA: con la informacion almacenada en este dataset ya se puede aplicar el sistema de recomendación a este usuario ficticio \"Pepe\"*"
      ]
    },
    {
      "cell_type": "code",
      "metadata": {
        "colab": {
          "base_uri": "https://localhost:8080/",
          "height": 80
        },
        "id": "0ye3dHdopIKb",
        "outputId": "86be0e7e-4c23-4e0a-ff95-0482c9b267c2"
      },
      "source": [
        "dataframe_user.loc[dataframe_user['name'] == name, 'comentario'] = comentarios[3]\n",
        "\n",
        "if predictions[i] == 1:\n",
        "  v_comentario = 0.0\n",
        "elif predictions[i] == 0:\n",
        "  v_comentario = 0.5\n",
        "else:\n",
        "  v_comentario = 1\n",
        "\n",
        "dataframe_user.loc[dataframe_user['name'] == name, 'valoracion_comentario'] = v_comentario\n",
        "\n",
        "dataframe_user"
      ],
      "execution_count": 40,
      "outputs": [
        {
          "output_type": "execute_result",
          "data": {
            "text/html": [
              "<div>\n",
              "<style scoped>\n",
              "    .dataframe tbody tr th:only-of-type {\n",
              "        vertical-align: middle;\n",
              "    }\n",
              "\n",
              "    .dataframe tbody tr th {\n",
              "        vertical-align: top;\n",
              "    }\n",
              "\n",
              "    .dataframe thead th {\n",
              "        text-align: right;\n",
              "    }\n",
              "</style>\n",
              "<table border=\"1\" class=\"dataframe\">\n",
              "  <thead>\n",
              "    <tr style=\"text-align: right;\">\n",
              "      <th></th>\n",
              "      <th>name</th>\n",
              "      <th>valoracion_directa</th>\n",
              "      <th>comentario</th>\n",
              "      <th>valoracion_comentario</th>\n",
              "    </tr>\n",
              "  </thead>\n",
              "  <tbody>\n",
              "    <tr>\n",
              "      <th>0</th>\n",
              "      <td>A.I.M.</td>\n",
              "      <td>0.0</td>\n",
              "      <td>This character makes me feel sad.</td>\n",
              "      <td>1.0</td>\n",
              "    </tr>\n",
              "  </tbody>\n",
              "</table>\n",
              "</div>"
            ],
            "text/plain": [
              "     name  ...  valoracion_comentario\n",
              "0  A.I.M.  ...                    1.0\n",
              "\n",
              "[1 rows x 4 columns]"
            ]
          },
          "metadata": {
            "tags": []
          },
          "execution_count": 40
        }
      ]
    },
    {
      "cell_type": "markdown",
      "metadata": {
        "id": "Zk5YJj-6rxwM"
      },
      "source": [
        "Por ultimo guardamos el dataset"
      ]
    },
    {
      "cell_type": "code",
      "metadata": {
        "id": "MlotKKMwr1po"
      },
      "source": [
        "dataframe_user.to_csv(\"userdata_\" + nombre_usuario, index=False)"
      ],
      "execution_count": 41,
      "outputs": []
    }
  ]
}