{
  "nbformat": 4,
  "nbformat_minor": 0,
  "metadata": {
    "colab": {
      "name": "MarvelRecomverse: API de Marvel con python.ipynb",
      "provenance": [],
      "collapsed_sections": [],
      "toc_visible": true,
      "include_colab_link": true
    },
    "kernelspec": {
      "display_name": "Python 3",
      "name": "python3"
    }
  },
  "cells": [
    {
      "cell_type": "markdown",
      "metadata": {
        "id": "view-in-github",
        "colab_type": "text"
      },
      "source": [
        "<a href=\"https://colab.research.google.com/github/josemanuelvinhas/MarvelRecomverse/blob/main/MarvelRecomverse_API_de_Marvel_con_python.ipynb\" target=\"_parent\"><img src=\"https://colab.research.google.com/assets/colab-badge.svg\" alt=\"Open In Colab\"/></a>"
      ]
    },
    {
      "cell_type": "markdown",
      "metadata": {
        "id": "JbnuEPKWzFfg"
      },
      "source": [
        "# **1. API de Marvel Comics**\n",
        "\n",
        "La API de Marvel Comics es una herramienta para ayudar a los desarrolladores de todo el mundo a crear sitios web y aplicaciones utilizando datos de los más de 70 años de la era de los cómics Marvel. Se trata de un servicio RESTful que proporciona métodos para acceder a recursos específicos meidante URL. Permite buscar y filtrar conjuntos de recursos según varios criterios. Los resultados se devuelven en formato JSON.\n",
        "\n",
        "Para hacer uso de la API es necesario registrarse, y de esta manera obtener una API Key. Esto se puede hacer desde [Marvel Developer Portal](https://developer.marvel.com/).\n",
        "\n",
        "Una vez que se obtiene la API Key se puede probar la API mediante la herramienta [Interactive API Tester](https://developer.marvel.com/docs)."
      ]
    },
    {
      "cell_type": "markdown",
      "metadata": {
        "id": "tLCwEqQW5VRh"
      },
      "source": [
        "# **2. MarvelRecomverse: Uso de la API con python**\n",
        "\n",
        "La aplicación a desarrollar necesita un dataset de personajes de cómics de Marvel y sus descripciones. Para crear este dataset se hará uso de la API de Marvel usando python."
      ]
    },
    {
      "cell_type": "markdown",
      "metadata": {
        "id": "iMYPn_6JeQWW"
      },
      "source": [
        "Para obtener la información necesaria las peticiones deberán tener las siguientes características:\n",
        "\n",
        "- Tipo: GET\n",
        "- URL: https://gateway.marvel.com/v1/public/characters\n",
        "- Parámetros: \n",
        "  1. *limit* : es el número máximo de personajes que devuelve la consulta (máx. 100)\n",
        "  2. *offset* : debido al límite de personajes que devuelve la consulta, es necesario indicar a partir de qúe personaje queremos que la consulta nos devuelva resultados. Por ejemplo, si existen 300 personajes y queremos obtener los que van del 200 al 300 debemos indicar un *limit=100* y un *offset=200*\n",
        "  3. *ts* : sello de tiempo\n",
        "  4. *apikey* : la clave pública que proporciona Marvel\n",
        "  5. *hash* : un hash de *Sello de Tiempo + Clave Privada + Clave Pública*"
      ]
    },
    {
      "cell_type": "markdown",
      "metadata": {
        "id": "c5aeFTkw975k"
      },
      "source": [
        "**1. Librerías:** se emplearán 4 librerías\n",
        "- *request*: para realizar peticiones \n",
        "- *datetime*: para obtener el Sello de Tiempo\n",
        "- *hashlib*: para realizar el hash requerido\n",
        "- *pandas*: para manejar el dataset\n"
      ]
    },
    {
      "cell_type": "code",
      "metadata": {
        "id": "_tm01G5PvXmK"
      },
      "source": [
        "import requests\n",
        "import datetime\n",
        "import hashlib\n",
        "import pandas"
      ],
      "execution_count": 1,
      "outputs": []
    },
    {
      "cell_type": "markdown",
      "metadata": {
        "id": "EHvAKGtBzD6_"
      },
      "source": [
        "**2. Construyendo la petición**\n",
        "- *Sello de Tiempo*: se obtiene al comienzo del script mediante la librería *datetime*\n",
        "- *API Key*: se proporcionan 2 claves, una publica, que se enviará como parámetro, y otra privada, que se emplea en el Hash.\n",
        "- *Hash*: se obtendrá el *hash* usando el algoritmo md5 y obteniendo el resumen en hexadecimal "
      ]
    },
    {
      "cell_type": "code",
      "metadata": {
        "id": "bbwU1wHAAwwU"
      },
      "source": [
        "timestamp = datetime.datetime.now().strftime('%Y-%m-%d%H:%M:%S')\n",
        "public_api_key = 'd5d4682141673489b856445431f75246'\n",
        "private_api_key = '8687323dce2867e5aab980b8dde10cb7e6f3d360'\n",
        "\n",
        "hash_md5 = hashlib.md5()\n",
        "hash_md5.update(f'{timestamp}{private_api_key}{public_api_key}'.encode('utf-8'))\n",
        "hash = hash_md5.hexdigest()"
      ],
      "execution_count": 2,
      "outputs": []
    },
    {
      "cell_type": "markdown",
      "metadata": {
        "id": "CQOqQgiUMNKU"
      },
      "source": [
        "- *limit*: como el objetivo es obtener todos los personajes este parámetro será el máximo posible (100)\n",
        "- *offset*: como el objetivo es obtener todos los personajes este parámetro comenzará siendo 0 e irá avanzando de 100 en 100 hasta llegar a 1500, ya que hay un poco más de 1400 personajes."
      ]
    },
    {
      "cell_type": "markdown",
      "metadata": {
        "id": "_cNcKrADDX4E"
      },
      "source": [
        "**3. Realizando as consultas**\n",
        "\n",
        "Se desea guardar el nombre y la descripción de cada personaje, para el cual se usarán 2 diccionarios. Se recorrerán los resultados obtenidos en cada petición y los personajes cuya descripción no sea vacía se guardarán.\n",
        "\n",
        "Se empleará la librería *requests* para realizar la petición get con los parámetros deseados."
      ]
    },
    {
      "cell_type": "code",
      "metadata": {
        "id": "2r3l4X1nEV4l",
        "colab": {
          "base_uri": "https://localhost:8080/"
        },
        "outputId": "8d7da21f-c8b3-4905-f3f4-9d31f6989ce8"
      },
      "source": [
        "name = []\n",
        "description = []\n",
        "\n",
        "for i in range(0, 1500, 100):\n",
        "    parametros = {'limit': 100, 'offset': i, 'ts': timestamp, 'apikey': public_api_key, 'hash': hash}\n",
        "    print(\"Consulta a realizar con los siguientes parametros: \",parametros)\n",
        "    respuesta = requests.get('https://gateway.marvel.com:443/v1/public/characters', parametros)\n",
        "    resultados = respuesta.json()\n",
        "    for personaje in resultados['data']['results']:\n",
        "        if (personaje['description'].strip() != \"\"):\n",
        "            name.append(personaje['name'])\n",
        "            description.append(personaje['description'])"
      ],
      "execution_count": 3,
      "outputs": [
        {
          "output_type": "stream",
          "text": [
            "Consulta a realizar con los siguientes parametros:  {'limit': 100, 'offset': 0, 'ts': '2020-11-1914:30:13', 'apikey': 'd5d4682141673489b856445431f75246', 'hash': 'bdf8b4b0aadaa61e713722f16cb07e21'}\n",
            "Consulta a realizar con los siguientes parametros:  {'limit': 100, 'offset': 100, 'ts': '2020-11-1914:30:13', 'apikey': 'd5d4682141673489b856445431f75246', 'hash': 'bdf8b4b0aadaa61e713722f16cb07e21'}\n",
            "Consulta a realizar con los siguientes parametros:  {'limit': 100, 'offset': 200, 'ts': '2020-11-1914:30:13', 'apikey': 'd5d4682141673489b856445431f75246', 'hash': 'bdf8b4b0aadaa61e713722f16cb07e21'}\n",
            "Consulta a realizar con los siguientes parametros:  {'limit': 100, 'offset': 300, 'ts': '2020-11-1914:30:13', 'apikey': 'd5d4682141673489b856445431f75246', 'hash': 'bdf8b4b0aadaa61e713722f16cb07e21'}\n",
            "Consulta a realizar con los siguientes parametros:  {'limit': 100, 'offset': 400, 'ts': '2020-11-1914:30:13', 'apikey': 'd5d4682141673489b856445431f75246', 'hash': 'bdf8b4b0aadaa61e713722f16cb07e21'}\n",
            "Consulta a realizar con los siguientes parametros:  {'limit': 100, 'offset': 500, 'ts': '2020-11-1914:30:13', 'apikey': 'd5d4682141673489b856445431f75246', 'hash': 'bdf8b4b0aadaa61e713722f16cb07e21'}\n",
            "Consulta a realizar con los siguientes parametros:  {'limit': 100, 'offset': 600, 'ts': '2020-11-1914:30:13', 'apikey': 'd5d4682141673489b856445431f75246', 'hash': 'bdf8b4b0aadaa61e713722f16cb07e21'}\n",
            "Consulta a realizar con los siguientes parametros:  {'limit': 100, 'offset': 700, 'ts': '2020-11-1914:30:13', 'apikey': 'd5d4682141673489b856445431f75246', 'hash': 'bdf8b4b0aadaa61e713722f16cb07e21'}\n",
            "Consulta a realizar con los siguientes parametros:  {'limit': 100, 'offset': 800, 'ts': '2020-11-1914:30:13', 'apikey': 'd5d4682141673489b856445431f75246', 'hash': 'bdf8b4b0aadaa61e713722f16cb07e21'}\n",
            "Consulta a realizar con los siguientes parametros:  {'limit': 100, 'offset': 900, 'ts': '2020-11-1914:30:13', 'apikey': 'd5d4682141673489b856445431f75246', 'hash': 'bdf8b4b0aadaa61e713722f16cb07e21'}\n",
            "Consulta a realizar con los siguientes parametros:  {'limit': 100, 'offset': 1000, 'ts': '2020-11-1914:30:13', 'apikey': 'd5d4682141673489b856445431f75246', 'hash': 'bdf8b4b0aadaa61e713722f16cb07e21'}\n",
            "Consulta a realizar con los siguientes parametros:  {'limit': 100, 'offset': 1100, 'ts': '2020-11-1914:30:13', 'apikey': 'd5d4682141673489b856445431f75246', 'hash': 'bdf8b4b0aadaa61e713722f16cb07e21'}\n",
            "Consulta a realizar con los siguientes parametros:  {'limit': 100, 'offset': 1200, 'ts': '2020-11-1914:30:13', 'apikey': 'd5d4682141673489b856445431f75246', 'hash': 'bdf8b4b0aadaa61e713722f16cb07e21'}\n",
            "Consulta a realizar con los siguientes parametros:  {'limit': 100, 'offset': 1300, 'ts': '2020-11-1914:30:13', 'apikey': 'd5d4682141673489b856445431f75246', 'hash': 'bdf8b4b0aadaa61e713722f16cb07e21'}\n",
            "Consulta a realizar con los siguientes parametros:  {'limit': 100, 'offset': 1400, 'ts': '2020-11-1914:30:13', 'apikey': 'd5d4682141673489b856445431f75246', 'hash': 'bdf8b4b0aadaa61e713722f16cb07e21'}\n"
          ],
          "name": "stdout"
        }
      ]
    },
    {
      "cell_type": "markdown",
      "metadata": {
        "id": "zuEwpflNFfay"
      },
      "source": [
        "**4. Almacenando los resultados**\n",
        "\n",
        "Una vez se obtienen los resultados se guardarán en un documento *.csv* haciendo uso de la librería *pandas*.\n",
        "\n",
        "*Nota: se guardarán los datos sin almacenar el índice, ya que se va a hacer uso del archivo usando pandas, que ya añade el índice*"
      ]
    },
    {
      "cell_type": "code",
      "metadata": {
        "id": "xFp7HdfaF16f",
        "colab": {
          "base_uri": "https://localhost:8080/",
          "height": 419
        },
        "outputId": "98fce3c6-9ec3-483e-af76-d478f9a1ff5f"
      },
      "source": [
        "data = {'name': name, 'description': description}\n",
        "dataframe = pandas.DataFrame(data)\n",
        "dataframe.to_csv(\"marvel.csv\", index=False)\n",
        "\n",
        "dataframe"
      ],
      "execution_count": 4,
      "outputs": [
        {
          "output_type": "execute_result",
          "data": {
            "text/html": [
              "<div>\n",
              "<style scoped>\n",
              "    .dataframe tbody tr th:only-of-type {\n",
              "        vertical-align: middle;\n",
              "    }\n",
              "\n",
              "    .dataframe tbody tr th {\n",
              "        vertical-align: top;\n",
              "    }\n",
              "\n",
              "    .dataframe thead th {\n",
              "        text-align: right;\n",
              "    }\n",
              "</style>\n",
              "<table border=\"1\" class=\"dataframe\">\n",
              "  <thead>\n",
              "    <tr style=\"text-align: right;\">\n",
              "      <th></th>\n",
              "      <th>name</th>\n",
              "      <th>description</th>\n",
              "    </tr>\n",
              "  </thead>\n",
              "  <tbody>\n",
              "    <tr>\n",
              "      <th>0</th>\n",
              "      <td>A-Bomb (HAS)</td>\n",
              "      <td>Rick Jones has been Hulk's best bud since day ...</td>\n",
              "    </tr>\n",
              "    <tr>\n",
              "      <th>1</th>\n",
              "      <td>A.I.M.</td>\n",
              "      <td>AIM is a terrorist organization bent on destro...</td>\n",
              "    </tr>\n",
              "    <tr>\n",
              "      <th>2</th>\n",
              "      <td>Abomination (Emil Blonsky)</td>\n",
              "      <td>Formerly known as Emil Blonsky, a spy of Sovie...</td>\n",
              "    </tr>\n",
              "    <tr>\n",
              "      <th>3</th>\n",
              "      <td>Adam Warlock</td>\n",
              "      <td>Adam Warlock is an artificially created human ...</td>\n",
              "    </tr>\n",
              "    <tr>\n",
              "      <th>4</th>\n",
              "      <td>Agent X (Nijo)</td>\n",
              "      <td>Originally a partner of the mind-altering assa...</td>\n",
              "    </tr>\n",
              "    <tr>\n",
              "      <th>...</th>\n",
              "      <td>...</td>\n",
              "      <td>...</td>\n",
              "    </tr>\n",
              "    <tr>\n",
              "      <th>276</th>\n",
              "      <td>Zarek</td>\n",
              "      <td>Zarek is a member of the Kree race with no sup...</td>\n",
              "    </tr>\n",
              "    <tr>\n",
              "      <th>277</th>\n",
              "      <td>Zodiak</td>\n",
              "      <td>Twelve demons merged with Norman Harrison, who...</td>\n",
              "    </tr>\n",
              "    <tr>\n",
              "      <th>278</th>\n",
              "      <td>Zombie (Simon Garth)</td>\n",
              "      <td>War hero Simon Garth was turned into a zombie ...</td>\n",
              "    </tr>\n",
              "    <tr>\n",
              "      <th>279</th>\n",
              "      <td>Zuras</td>\n",
              "      <td>Zuras was once the leader of the Eternals.</td>\n",
              "    </tr>\n",
              "    <tr>\n",
              "      <th>280</th>\n",
              "      <td>Zzzax</td>\n",
              "      <td>A chain reaction in an atomic reactor, a resul...</td>\n",
              "    </tr>\n",
              "  </tbody>\n",
              "</table>\n",
              "<p>281 rows × 2 columns</p>\n",
              "</div>"
            ],
            "text/plain": [
              "                           name                                        description\n",
              "0                  A-Bomb (HAS)  Rick Jones has been Hulk's best bud since day ...\n",
              "1                        A.I.M.  AIM is a terrorist organization bent on destro...\n",
              "2    Abomination (Emil Blonsky)  Formerly known as Emil Blonsky, a spy of Sovie...\n",
              "3                  Adam Warlock  Adam Warlock is an artificially created human ...\n",
              "4                Agent X (Nijo)  Originally a partner of the mind-altering assa...\n",
              "..                          ...                                                ...\n",
              "276                       Zarek  Zarek is a member of the Kree race with no sup...\n",
              "277                      Zodiak  Twelve demons merged with Norman Harrison, who...\n",
              "278        Zombie (Simon Garth)  War hero Simon Garth was turned into a zombie ...\n",
              "279                       Zuras         Zuras was once the leader of the Eternals.\n",
              "280                       Zzzax  A chain reaction in an atomic reactor, a resul...\n",
              "\n",
              "[281 rows x 2 columns]"
            ]
          },
          "metadata": {
            "tags": []
          },
          "execution_count": 4
        }
      ]
    },
    {
      "cell_type": "markdown",
      "metadata": {
        "id": "gdZqscK2Htde"
      },
      "source": [
        "#**3. Añadir, Modificar y Borrar un personaje del dataset**"
      ]
    },
    {
      "cell_type": "markdown",
      "metadata": {
        "id": "DRd-AeG2ICil"
      },
      "source": [
        "Para **añadir** un personaje al final del DataFrame\n",
        "\n",
        "1.   Se cargan los datos del csv\n",
        "2.   Se añade el nuevo personaje con el método *append()*\n",
        "3.   Se guardan los datos\n",
        "\n",
        "Añadir a *Mr. Yomiquesh*:\n"
      ]
    },
    {
      "cell_type": "code",
      "metadata": {
        "id": "fK7mHShqIL3b",
        "colab": {
          "base_uri": "https://localhost:8080/",
          "height": 419
        },
        "outputId": "61062704-8219-4919-f4d5-26e305db2a0c"
      },
      "source": [
        "import pandas as pd\n",
        "\n",
        "originalData = pd.read_csv('marvel.csv')\n",
        "originalData = originalData.append({'name' : 'Mr. Yomiquesh', 'description' : 'Yomiquesh was once the leader of the Eternals. He is strong as iron and as small as an ant. He is a terrorist'}, ignore_index=True)\n",
        "originalData.to_csv(\"marvel_add.csv\", index=False)\n",
        "\n",
        "originalData"
      ],
      "execution_count": 5,
      "outputs": [
        {
          "output_type": "execute_result",
          "data": {
            "text/html": [
              "<div>\n",
              "<style scoped>\n",
              "    .dataframe tbody tr th:only-of-type {\n",
              "        vertical-align: middle;\n",
              "    }\n",
              "\n",
              "    .dataframe tbody tr th {\n",
              "        vertical-align: top;\n",
              "    }\n",
              "\n",
              "    .dataframe thead th {\n",
              "        text-align: right;\n",
              "    }\n",
              "</style>\n",
              "<table border=\"1\" class=\"dataframe\">\n",
              "  <thead>\n",
              "    <tr style=\"text-align: right;\">\n",
              "      <th></th>\n",
              "      <th>name</th>\n",
              "      <th>description</th>\n",
              "    </tr>\n",
              "  </thead>\n",
              "  <tbody>\n",
              "    <tr>\n",
              "      <th>0</th>\n",
              "      <td>A-Bomb (HAS)</td>\n",
              "      <td>Rick Jones has been Hulk's best bud since day ...</td>\n",
              "    </tr>\n",
              "    <tr>\n",
              "      <th>1</th>\n",
              "      <td>A.I.M.</td>\n",
              "      <td>AIM is a terrorist organization bent on destro...</td>\n",
              "    </tr>\n",
              "    <tr>\n",
              "      <th>2</th>\n",
              "      <td>Abomination (Emil Blonsky)</td>\n",
              "      <td>Formerly known as Emil Blonsky, a spy of Sovie...</td>\n",
              "    </tr>\n",
              "    <tr>\n",
              "      <th>3</th>\n",
              "      <td>Adam Warlock</td>\n",
              "      <td>Adam Warlock is an artificially created human ...</td>\n",
              "    </tr>\n",
              "    <tr>\n",
              "      <th>4</th>\n",
              "      <td>Agent X (Nijo)</td>\n",
              "      <td>Originally a partner of the mind-altering assa...</td>\n",
              "    </tr>\n",
              "    <tr>\n",
              "      <th>...</th>\n",
              "      <td>...</td>\n",
              "      <td>...</td>\n",
              "    </tr>\n",
              "    <tr>\n",
              "      <th>277</th>\n",
              "      <td>Zodiak</td>\n",
              "      <td>Twelve demons merged with Norman Harrison, who...</td>\n",
              "    </tr>\n",
              "    <tr>\n",
              "      <th>278</th>\n",
              "      <td>Zombie (Simon Garth)</td>\n",
              "      <td>War hero Simon Garth was turned into a zombie ...</td>\n",
              "    </tr>\n",
              "    <tr>\n",
              "      <th>279</th>\n",
              "      <td>Zuras</td>\n",
              "      <td>Zuras was once the leader of the Eternals.</td>\n",
              "    </tr>\n",
              "    <tr>\n",
              "      <th>280</th>\n",
              "      <td>Zzzax</td>\n",
              "      <td>A chain reaction in an atomic reactor, a resul...</td>\n",
              "    </tr>\n",
              "    <tr>\n",
              "      <th>281</th>\n",
              "      <td>Mr. Yomiquesh</td>\n",
              "      <td>Yomiquesh was once the leader of the Eternals....</td>\n",
              "    </tr>\n",
              "  </tbody>\n",
              "</table>\n",
              "<p>282 rows × 2 columns</p>\n",
              "</div>"
            ],
            "text/plain": [
              "                           name                                        description\n",
              "0                  A-Bomb (HAS)  Rick Jones has been Hulk's best bud since day ...\n",
              "1                        A.I.M.  AIM is a terrorist organization bent on destro...\n",
              "2    Abomination (Emil Blonsky)  Formerly known as Emil Blonsky, a spy of Sovie...\n",
              "3                  Adam Warlock  Adam Warlock is an artificially created human ...\n",
              "4                Agent X (Nijo)  Originally a partner of the mind-altering assa...\n",
              "..                          ...                                                ...\n",
              "277                      Zodiak  Twelve demons merged with Norman Harrison, who...\n",
              "278        Zombie (Simon Garth)  War hero Simon Garth was turned into a zombie ...\n",
              "279                       Zuras         Zuras was once the leader of the Eternals.\n",
              "280                       Zzzax  A chain reaction in an atomic reactor, a resul...\n",
              "281               Mr. Yomiquesh  Yomiquesh was once the leader of the Eternals....\n",
              "\n",
              "[282 rows x 2 columns]"
            ]
          },
          "metadata": {
            "tags": []
          },
          "execution_count": 5
        }
      ]
    },
    {
      "cell_type": "markdown",
      "metadata": {
        "id": "uj-EzaQJK96Z"
      },
      "source": [
        "Para **modificar** un personaje al final del DataFrame\n",
        "\n",
        "1.   Se cargan los datos del csv\n",
        "3.   Se modifica el personaje\n",
        "3.   Se guardan los datos\n",
        "\n",
        "Modificar la descripción de *Mr. Yomiquesh*:"
      ]
    },
    {
      "cell_type": "code",
      "metadata": {
        "id": "pmLYXM3bL9xy",
        "colab": {
          "base_uri": "https://localhost:8080/",
          "height": 419
        },
        "outputId": "675f1304-baee-4e00-8519-991d3664623c"
      },
      "source": [
        "import pandas as pd\n",
        "\n",
        "originalData = pd.read_csv('marvel_add.csv')\n",
        "originalData.loc[originalData['name'] == 'Mr. Yomiquesh', 'description'] = 'Yomiquesh was once the leader of the Eternals.'\n",
        "originalData.to_csv(\"marvel_mod.csv\", index=False)\n",
        "\n",
        "originalData"
      ],
      "execution_count": 6,
      "outputs": [
        {
          "output_type": "execute_result",
          "data": {
            "text/html": [
              "<div>\n",
              "<style scoped>\n",
              "    .dataframe tbody tr th:only-of-type {\n",
              "        vertical-align: middle;\n",
              "    }\n",
              "\n",
              "    .dataframe tbody tr th {\n",
              "        vertical-align: top;\n",
              "    }\n",
              "\n",
              "    .dataframe thead th {\n",
              "        text-align: right;\n",
              "    }\n",
              "</style>\n",
              "<table border=\"1\" class=\"dataframe\">\n",
              "  <thead>\n",
              "    <tr style=\"text-align: right;\">\n",
              "      <th></th>\n",
              "      <th>name</th>\n",
              "      <th>description</th>\n",
              "    </tr>\n",
              "  </thead>\n",
              "  <tbody>\n",
              "    <tr>\n",
              "      <th>0</th>\n",
              "      <td>A-Bomb (HAS)</td>\n",
              "      <td>Rick Jones has been Hulk's best bud since day ...</td>\n",
              "    </tr>\n",
              "    <tr>\n",
              "      <th>1</th>\n",
              "      <td>A.I.M.</td>\n",
              "      <td>AIM is a terrorist organization bent on destro...</td>\n",
              "    </tr>\n",
              "    <tr>\n",
              "      <th>2</th>\n",
              "      <td>Abomination (Emil Blonsky)</td>\n",
              "      <td>Formerly known as Emil Blonsky, a spy of Sovie...</td>\n",
              "    </tr>\n",
              "    <tr>\n",
              "      <th>3</th>\n",
              "      <td>Adam Warlock</td>\n",
              "      <td>Adam Warlock is an artificially created human ...</td>\n",
              "    </tr>\n",
              "    <tr>\n",
              "      <th>4</th>\n",
              "      <td>Agent X (Nijo)</td>\n",
              "      <td>Originally a partner of the mind-altering assa...</td>\n",
              "    </tr>\n",
              "    <tr>\n",
              "      <th>...</th>\n",
              "      <td>...</td>\n",
              "      <td>...</td>\n",
              "    </tr>\n",
              "    <tr>\n",
              "      <th>277</th>\n",
              "      <td>Zodiak</td>\n",
              "      <td>Twelve demons merged with Norman Harrison, who...</td>\n",
              "    </tr>\n",
              "    <tr>\n",
              "      <th>278</th>\n",
              "      <td>Zombie (Simon Garth)</td>\n",
              "      <td>War hero Simon Garth was turned into a zombie ...</td>\n",
              "    </tr>\n",
              "    <tr>\n",
              "      <th>279</th>\n",
              "      <td>Zuras</td>\n",
              "      <td>Zuras was once the leader of the Eternals.</td>\n",
              "    </tr>\n",
              "    <tr>\n",
              "      <th>280</th>\n",
              "      <td>Zzzax</td>\n",
              "      <td>A chain reaction in an atomic reactor, a resul...</td>\n",
              "    </tr>\n",
              "    <tr>\n",
              "      <th>281</th>\n",
              "      <td>Mr. Yomiquesh</td>\n",
              "      <td>Yomiquesh was once the leader of the Eternals.</td>\n",
              "    </tr>\n",
              "  </tbody>\n",
              "</table>\n",
              "<p>282 rows × 2 columns</p>\n",
              "</div>"
            ],
            "text/plain": [
              "                           name                                        description\n",
              "0                  A-Bomb (HAS)  Rick Jones has been Hulk's best bud since day ...\n",
              "1                        A.I.M.  AIM is a terrorist organization bent on destro...\n",
              "2    Abomination (Emil Blonsky)  Formerly known as Emil Blonsky, a spy of Sovie...\n",
              "3                  Adam Warlock  Adam Warlock is an artificially created human ...\n",
              "4                Agent X (Nijo)  Originally a partner of the mind-altering assa...\n",
              "..                          ...                                                ...\n",
              "277                      Zodiak  Twelve demons merged with Norman Harrison, who...\n",
              "278        Zombie (Simon Garth)  War hero Simon Garth was turned into a zombie ...\n",
              "279                       Zuras         Zuras was once the leader of the Eternals.\n",
              "280                       Zzzax  A chain reaction in an atomic reactor, a resul...\n",
              "281               Mr. Yomiquesh     Yomiquesh was once the leader of the Eternals.\n",
              "\n",
              "[282 rows x 2 columns]"
            ]
          },
          "metadata": {
            "tags": []
          },
          "execution_count": 6
        }
      ]
    },
    {
      "cell_type": "markdown",
      "metadata": {
        "id": "TsXJRdroJKPV"
      },
      "source": [
        "Para **borrar** un personaje al final del DataFrame\n",
        "\n",
        "1.   Se cargan los datos del csv\n",
        "2.   Se obtiene el índice del personaje\n",
        "3.   Se borra el personaje\n",
        "3.   Se guardan los datos\n",
        "\n",
        "Eliminar a *Mr. Yomiquesh*:"
      ]
    },
    {
      "cell_type": "code",
      "metadata": {
        "id": "gqSLVBM4JQhs",
        "colab": {
          "base_uri": "https://localhost:8080/",
          "height": 419
        },
        "outputId": "439e6545-2e45-43d8-a673-3b75c7d61033"
      },
      "source": [
        "import pandas as pd\n",
        "\n",
        "originalData = pd.read_csv('marvel_add.csv')\n",
        "indexOfCharacter = originalData[originalData['name']==\"Mr. Yomiquesh\"].index.values[0]\n",
        "originalData = originalData.drop(indexOfCharacter, axis=0)\n",
        "originalData.to_csv(\"marvel_delete.csv\", index=False)\n",
        "\n",
        "originalData"
      ],
      "execution_count": 7,
      "outputs": [
        {
          "output_type": "execute_result",
          "data": {
            "text/html": [
              "<div>\n",
              "<style scoped>\n",
              "    .dataframe tbody tr th:only-of-type {\n",
              "        vertical-align: middle;\n",
              "    }\n",
              "\n",
              "    .dataframe tbody tr th {\n",
              "        vertical-align: top;\n",
              "    }\n",
              "\n",
              "    .dataframe thead th {\n",
              "        text-align: right;\n",
              "    }\n",
              "</style>\n",
              "<table border=\"1\" class=\"dataframe\">\n",
              "  <thead>\n",
              "    <tr style=\"text-align: right;\">\n",
              "      <th></th>\n",
              "      <th>name</th>\n",
              "      <th>description</th>\n",
              "    </tr>\n",
              "  </thead>\n",
              "  <tbody>\n",
              "    <tr>\n",
              "      <th>0</th>\n",
              "      <td>A-Bomb (HAS)</td>\n",
              "      <td>Rick Jones has been Hulk's best bud since day ...</td>\n",
              "    </tr>\n",
              "    <tr>\n",
              "      <th>1</th>\n",
              "      <td>A.I.M.</td>\n",
              "      <td>AIM is a terrorist organization bent on destro...</td>\n",
              "    </tr>\n",
              "    <tr>\n",
              "      <th>2</th>\n",
              "      <td>Abomination (Emil Blonsky)</td>\n",
              "      <td>Formerly known as Emil Blonsky, a spy of Sovie...</td>\n",
              "    </tr>\n",
              "    <tr>\n",
              "      <th>3</th>\n",
              "      <td>Adam Warlock</td>\n",
              "      <td>Adam Warlock is an artificially created human ...</td>\n",
              "    </tr>\n",
              "    <tr>\n",
              "      <th>4</th>\n",
              "      <td>Agent X (Nijo)</td>\n",
              "      <td>Originally a partner of the mind-altering assa...</td>\n",
              "    </tr>\n",
              "    <tr>\n",
              "      <th>...</th>\n",
              "      <td>...</td>\n",
              "      <td>...</td>\n",
              "    </tr>\n",
              "    <tr>\n",
              "      <th>276</th>\n",
              "      <td>Zarek</td>\n",
              "      <td>Zarek is a member of the Kree race with no sup...</td>\n",
              "    </tr>\n",
              "    <tr>\n",
              "      <th>277</th>\n",
              "      <td>Zodiak</td>\n",
              "      <td>Twelve demons merged with Norman Harrison, who...</td>\n",
              "    </tr>\n",
              "    <tr>\n",
              "      <th>278</th>\n",
              "      <td>Zombie (Simon Garth)</td>\n",
              "      <td>War hero Simon Garth was turned into a zombie ...</td>\n",
              "    </tr>\n",
              "    <tr>\n",
              "      <th>279</th>\n",
              "      <td>Zuras</td>\n",
              "      <td>Zuras was once the leader of the Eternals.</td>\n",
              "    </tr>\n",
              "    <tr>\n",
              "      <th>280</th>\n",
              "      <td>Zzzax</td>\n",
              "      <td>A chain reaction in an atomic reactor, a resul...</td>\n",
              "    </tr>\n",
              "  </tbody>\n",
              "</table>\n",
              "<p>281 rows × 2 columns</p>\n",
              "</div>"
            ],
            "text/plain": [
              "                           name                                        description\n",
              "0                  A-Bomb (HAS)  Rick Jones has been Hulk's best bud since day ...\n",
              "1                        A.I.M.  AIM is a terrorist organization bent on destro...\n",
              "2    Abomination (Emil Blonsky)  Formerly known as Emil Blonsky, a spy of Sovie...\n",
              "3                  Adam Warlock  Adam Warlock is an artificially created human ...\n",
              "4                Agent X (Nijo)  Originally a partner of the mind-altering assa...\n",
              "..                          ...                                                ...\n",
              "276                       Zarek  Zarek is a member of the Kree race with no sup...\n",
              "277                      Zodiak  Twelve demons merged with Norman Harrison, who...\n",
              "278        Zombie (Simon Garth)  War hero Simon Garth was turned into a zombie ...\n",
              "279                       Zuras         Zuras was once the leader of the Eternals.\n",
              "280                       Zzzax  A chain reaction in an atomic reactor, a resul...\n",
              "\n",
              "[281 rows x 2 columns]"
            ]
          },
          "metadata": {
            "tags": []
          },
          "execution_count": 7
        }
      ]
    }
  ]
}