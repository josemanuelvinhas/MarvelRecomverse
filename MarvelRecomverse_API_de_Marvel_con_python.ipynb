{
  "nbformat": 4,
  "nbformat_minor": 0,
  "metadata": {
    "colab": {
      "name": "MarvelRecomverse: API de Marvel con python.ipynb",
      "provenance": [],
      "collapsed_sections": [],
      "include_colab_link": true
    },
    "kernelspec": {
      "display_name": "Python 3",
      "name": "python3"
    }
  },
  "cells": [
    {
      "cell_type": "markdown",
      "metadata": {
        "id": "view-in-github",
        "colab_type": "text"
      },
      "source": [
        "<a href=\"https://colab.research.google.com/github/josemanuelvinhas/MarvelRecomverse/blob/main/MarvelRecomverse_API_de_Marvel_con_python.ipynb\" target=\"_parent\"><img src=\"https://colab.research.google.com/assets/colab-badge.svg\" alt=\"Open In Colab\"/></a>"
      ]
    },
    {
      "cell_type": "markdown",
      "metadata": {
        "id": "JbnuEPKWzFfg"
      },
      "source": [
        "# **1. API de Marvel Comics**\n",
        "\n",
        "La API de Marvel Comics es una herramienta para ayudar a los desarrolladores de todo el mundo a crear sitios web y aplicaciones utilizando datos de los más de 70 años de la era de los cómics Marvel. Se trata de un servicio RESTful que proporciona métodos para acceder a recursos específicos meidante URL. Permite buscar y filtrar conjuntos de recursos según varios criterios. Los resultados se devuelven en formato JSON.\n",
        "\n",
        "Para hacer uso de la API es necesario registrarse, y de esta manera obtener una API Key. Esto se puede hacer desde [Marvel Developer Portal](https://developer.marvel.com/).\n",
        "\n",
        "Una vez que se obtiene la API Key se puede probar la API mediante la herramienta [Interactive API Tester](https://developer.marvel.com/docs)."
      ]
    },
    {
      "cell_type": "markdown",
      "metadata": {
        "id": "tLCwEqQW5VRh"
      },
      "source": [
        "# **2. MarvelRecomverse: Uso de la API con python**\n",
        "\n",
        "La aplicación a desarrollar necesita un dataset de personajes de cómics de Marvel y sus descripciones. Para crear este dataset se hará uso de la API de Marvel usando python."
      ]
    },
    {
      "cell_type": "markdown",
      "metadata": {
        "id": "iMYPn_6JeQWW"
      },
      "source": [
        "Para obtener la información necesaria las peticiones deberán tener las siguientes características:\n",
        "\n",
        "- Tipo: GET\n",
        "- URL: https://gateway.marvel.com/v1/public/characters\n",
        "- Parámetros: \n",
        "  1. *limit* : es el número máximo de personajes que devuelve la consulta (máx. 100)\n",
        "  2. *offset* : debido al límite de personajes que devuelve la consulta, es necesario indicar a partir de qúe personaje queremos que la consulta nos devuelva resultados. Por ejemplo, si existen 300 personajes y queremos obtener los que van del 200 al 300 debemos indicar un *limit=100* y un *offset=200*\n",
        "  3. *ts* : sello de tiempo\n",
        "  4. *apikey* : la clave pública que proporciona Marvel\n",
        "  5. *hash* : un hash de *Sello de Tiempo + Clave Privada + Clave Pública*"
      ]
    },
    {
      "cell_type": "markdown",
      "metadata": {
        "id": "c5aeFTkw975k"
      },
      "source": [
        "**1. Librerías:** se emplearán 4 librerías\n",
        "- *request*: para realizar peticiones \n",
        "- *datetime*: para obtener el Sello de Tiempo\n",
        "- *hashlib*: para realizar el hash requerido\n",
        "- *pandas*: para manejar el dataset\n"
      ]
    },
    {
      "cell_type": "code",
      "metadata": {
        "id": "_tm01G5PvXmK"
      },
      "source": [
        "import requests\n",
        "import datetime\n",
        "import hashlib\n",
        "import pandas"
      ],
      "execution_count": 2,
      "outputs": []
    },
    {
      "cell_type": "markdown",
      "metadata": {
        "id": "EHvAKGtBzD6_"
      },
      "source": [
        "**2. Construyendo la petición**\n",
        "- *Sello de Tiempo*: se obtiene al comienzo del script mediante la librería *datetime*\n",
        "- *API Key*: se proporcionan 2 claves, una publica, que se enviará como parámetro, y otra privada, que se emplea en el Hash.\n",
        "- *Hash*: se obtendrá el *hash* usando el algoritmo md5 y obteniendo el resumen en hexadecimal "
      ]
    },
    {
      "cell_type": "code",
      "metadata": {
        "id": "bbwU1wHAAwwU"
      },
      "source": [
        "timestamp = datetime.datetime.now().strftime('%Y-%m-%d%H:%M:%S')\n",
        "public_api_key = 'd5d4682141673489b856445431f75246'\n",
        "private_api_key = '8687323dce2867e5aab980b8dde10cb7e6f3d360'\n",
        "\n",
        "hash_md5 = hashlib.md5()\n",
        "hash_md5.update(f'{timestamp}{private_api_key}{public_api_key}'.encode('utf-8'))\n",
        "hash = hash_md5.hexdigest()"
      ],
      "execution_count": 3,
      "outputs": []
    },
    {
      "cell_type": "markdown",
      "metadata": {
        "id": "CQOqQgiUMNKU"
      },
      "source": [
        "- *limit*: como el objetivo es obtener todos los personajes este parámetro será el máximo posible (100)\n",
        "- *offset*: como el objetivo es obtener todos los personajes este parámetro comenzará siendo 0 e irá avanzando de 100 en 100 hasta llegar a 1500, ya que hay un poco más de 1400 personajes."
      ]
    },
    {
      "cell_type": "markdown",
      "metadata": {
        "id": "_cNcKrADDX4E"
      },
      "source": [
        "**3. Realizando as consultas**\n",
        "\n",
        "Se desea guardar el nombre y la descripción de cada personaje, para el cual se usarán 2 diccionarios. Se recorrerán los resultados obtenidos en cada petición y los personajes cuya descripción no sea vacía se guardarán.\n",
        "\n",
        "Se empleará la librería *requests* para realizar la petición get con los parámetros deseados."
      ]
    },
    {
      "cell_type": "code",
      "metadata": {
        "id": "2r3l4X1nEV4l",
        "colab": {
          "base_uri": "https://localhost:8080/"
        },
        "outputId": "58a9a10a-0e43-464b-d2a1-216027914bba"
      },
      "source": [
        "name = []\n",
        "description = []\n",
        "\n",
        "for i in range(0, 1500, 100):\n",
        "    parametros = {'limit': 100, 'offset': i, 'ts': timestamp, 'apikey': public_api_key, 'hash': hash}\n",
        "    print(\"Consulta a realizar con los siguientes parametros: \",parametros)\n",
        "    respuesta = requests.get('https://gateway.marvel.com:443/v1/public/characters', parametros)\n",
        "    resultados = respuesta.json()\n",
        "    for personaje in resultados['data']['results']:\n",
        "        if (personaje['description'].strip() != \"\"):\n",
        "            name.append(personaje['name'])\n",
        "            description.append(personaje['description'])"
      ],
      "execution_count": 4,
      "outputs": [
        {
          "output_type": "stream",
          "text": [
            "Consulta a realizar con los siguientes parametros:  {'limit': 100, 'offset': 0, 'ts': '2020-11-1911:52:33', 'apikey': 'd5d4682141673489b856445431f75246', 'hash': 'e48403e73c808a1e1ab59986201a7170'}\n",
            "Consulta a realizar con los siguientes parametros:  {'limit': 100, 'offset': 100, 'ts': '2020-11-1911:52:33', 'apikey': 'd5d4682141673489b856445431f75246', 'hash': 'e48403e73c808a1e1ab59986201a7170'}\n",
            "Consulta a realizar con los siguientes parametros:  {'limit': 100, 'offset': 200, 'ts': '2020-11-1911:52:33', 'apikey': 'd5d4682141673489b856445431f75246', 'hash': 'e48403e73c808a1e1ab59986201a7170'}\n",
            "Consulta a realizar con los siguientes parametros:  {'limit': 100, 'offset': 300, 'ts': '2020-11-1911:52:33', 'apikey': 'd5d4682141673489b856445431f75246', 'hash': 'e48403e73c808a1e1ab59986201a7170'}\n",
            "Consulta a realizar con los siguientes parametros:  {'limit': 100, 'offset': 400, 'ts': '2020-11-1911:52:33', 'apikey': 'd5d4682141673489b856445431f75246', 'hash': 'e48403e73c808a1e1ab59986201a7170'}\n",
            "Consulta a realizar con los siguientes parametros:  {'limit': 100, 'offset': 500, 'ts': '2020-11-1911:52:33', 'apikey': 'd5d4682141673489b856445431f75246', 'hash': 'e48403e73c808a1e1ab59986201a7170'}\n",
            "Consulta a realizar con los siguientes parametros:  {'limit': 100, 'offset': 600, 'ts': '2020-11-1911:52:33', 'apikey': 'd5d4682141673489b856445431f75246', 'hash': 'e48403e73c808a1e1ab59986201a7170'}\n",
            "Consulta a realizar con los siguientes parametros:  {'limit': 100, 'offset': 700, 'ts': '2020-11-1911:52:33', 'apikey': 'd5d4682141673489b856445431f75246', 'hash': 'e48403e73c808a1e1ab59986201a7170'}\n",
            "Consulta a realizar con los siguientes parametros:  {'limit': 100, 'offset': 800, 'ts': '2020-11-1911:52:33', 'apikey': 'd5d4682141673489b856445431f75246', 'hash': 'e48403e73c808a1e1ab59986201a7170'}\n",
            "Consulta a realizar con los siguientes parametros:  {'limit': 100, 'offset': 900, 'ts': '2020-11-1911:52:33', 'apikey': 'd5d4682141673489b856445431f75246', 'hash': 'e48403e73c808a1e1ab59986201a7170'}\n",
            "Consulta a realizar con los siguientes parametros:  {'limit': 100, 'offset': 1000, 'ts': '2020-11-1911:52:33', 'apikey': 'd5d4682141673489b856445431f75246', 'hash': 'e48403e73c808a1e1ab59986201a7170'}\n",
            "Consulta a realizar con los siguientes parametros:  {'limit': 100, 'offset': 1100, 'ts': '2020-11-1911:52:33', 'apikey': 'd5d4682141673489b856445431f75246', 'hash': 'e48403e73c808a1e1ab59986201a7170'}\n",
            "Consulta a realizar con los siguientes parametros:  {'limit': 100, 'offset': 1200, 'ts': '2020-11-1911:52:33', 'apikey': 'd5d4682141673489b856445431f75246', 'hash': 'e48403e73c808a1e1ab59986201a7170'}\n",
            "Consulta a realizar con los siguientes parametros:  {'limit': 100, 'offset': 1300, 'ts': '2020-11-1911:52:33', 'apikey': 'd5d4682141673489b856445431f75246', 'hash': 'e48403e73c808a1e1ab59986201a7170'}\n",
            "Consulta a realizar con los siguientes parametros:  {'limit': 100, 'offset': 1400, 'ts': '2020-11-1911:52:33', 'apikey': 'd5d4682141673489b856445431f75246', 'hash': 'e48403e73c808a1e1ab59986201a7170'}\n"
          ],
          "name": "stdout"
        }
      ]
    },
    {
      "cell_type": "markdown",
      "metadata": {
        "id": "zuEwpflNFfay"
      },
      "source": [
        "**4. Almacenando los resultados**\n",
        "\n",
        "Una vez se obtienen los resultados se guardarán en un documento *.csv* haciendo uso de la librería *pandas*.\n",
        "\n",
        "*Nota: se guardarán los datos sin almacenar el índice, ya que se va a hacer uso del archivo usando pandas, que ya añade el índice*"
      ]
    },
    {
      "cell_type": "code",
      "metadata": {
        "id": "xFp7HdfaF16f"
      },
      "source": [
        "data = {'name': name, 'description': description}\n",
        "dataframe = pandas.DataFrame(data)\n",
        "dataframe.to_csv(\"marvel.csv\", index=False)"
      ],
      "execution_count": 13,
      "outputs": []
    },
    {
      "cell_type": "markdown",
      "metadata": {
        "id": "f9NGK9x2W0Q1"
      },
      "source": [
        "#**3. Preprocesado del dataset**\n",
        "\n",
        "Para poder trabajar con los datos se deberá realizar un preprocesado de las descripciones."
      ]
    },
    {
      "cell_type": "markdown",
      "metadata": {
        "id": "uGvIkJ9EYr6m"
      },
      "source": [
        "El dataset con el que se trabaja contiene una colección de 281 personajes. Cada uno tiene dos campos:\n",
        "\n",
        "1.   *name*: nombre del personaje\n",
        "2.   *description*: descripcion del personaje\n",
        "\n",
        "Se hará uso de la librería *pandas* para el preprocesado. A continuación se carga el csv con los datos\n"
      ]
    },
    {
      "cell_type": "code",
      "metadata": {
        "id": "zEu5A0usY2u1",
        "colab": {
          "base_uri": "https://localhost:8080/",
          "height": 419
        },
        "outputId": "d8d42f2a-d460-486a-dc25-018d355ef4b2"
      },
      "source": [
        "import pandas as pd\n",
        "\n",
        "originalData = pd.read_csv('marvel.csv')\n",
        "originalData"
      ],
      "execution_count": 14,
      "outputs": [
        {
          "output_type": "execute_result",
          "data": {
            "text/html": [
              "<div>\n",
              "<style scoped>\n",
              "    .dataframe tbody tr th:only-of-type {\n",
              "        vertical-align: middle;\n",
              "    }\n",
              "\n",
              "    .dataframe tbody tr th {\n",
              "        vertical-align: top;\n",
              "    }\n",
              "\n",
              "    .dataframe thead th {\n",
              "        text-align: right;\n",
              "    }\n",
              "</style>\n",
              "<table border=\"1\" class=\"dataframe\">\n",
              "  <thead>\n",
              "    <tr style=\"text-align: right;\">\n",
              "      <th></th>\n",
              "      <th>name</th>\n",
              "      <th>description</th>\n",
              "    </tr>\n",
              "  </thead>\n",
              "  <tbody>\n",
              "    <tr>\n",
              "      <th>0</th>\n",
              "      <td>A-Bomb (HAS)</td>\n",
              "      <td>Rick Jones has been Hulk's best bud since day ...</td>\n",
              "    </tr>\n",
              "    <tr>\n",
              "      <th>1</th>\n",
              "      <td>A.I.M.</td>\n",
              "      <td>AIM is a terrorist organization bent on destro...</td>\n",
              "    </tr>\n",
              "    <tr>\n",
              "      <th>2</th>\n",
              "      <td>Abomination (Emil Blonsky)</td>\n",
              "      <td>Formerly known as Emil Blonsky, a spy of Sovie...</td>\n",
              "    </tr>\n",
              "    <tr>\n",
              "      <th>3</th>\n",
              "      <td>Adam Warlock</td>\n",
              "      <td>Adam Warlock is an artificially created human ...</td>\n",
              "    </tr>\n",
              "    <tr>\n",
              "      <th>4</th>\n",
              "      <td>Agent X (Nijo)</td>\n",
              "      <td>Originally a partner of the mind-altering assa...</td>\n",
              "    </tr>\n",
              "    <tr>\n",
              "      <th>...</th>\n",
              "      <td>...</td>\n",
              "      <td>...</td>\n",
              "    </tr>\n",
              "    <tr>\n",
              "      <th>276</th>\n",
              "      <td>Zarek</td>\n",
              "      <td>Zarek is a member of the Kree race with no sup...</td>\n",
              "    </tr>\n",
              "    <tr>\n",
              "      <th>277</th>\n",
              "      <td>Zodiak</td>\n",
              "      <td>Twelve demons merged with Norman Harrison, who...</td>\n",
              "    </tr>\n",
              "    <tr>\n",
              "      <th>278</th>\n",
              "      <td>Zombie (Simon Garth)</td>\n",
              "      <td>War hero Simon Garth was turned into a zombie ...</td>\n",
              "    </tr>\n",
              "    <tr>\n",
              "      <th>279</th>\n",
              "      <td>Zuras</td>\n",
              "      <td>Zuras was once the leader of the Eternals.</td>\n",
              "    </tr>\n",
              "    <tr>\n",
              "      <th>280</th>\n",
              "      <td>Zzzax</td>\n",
              "      <td>A chain reaction in an atomic reactor, a resul...</td>\n",
              "    </tr>\n",
              "  </tbody>\n",
              "</table>\n",
              "<p>281 rows × 2 columns</p>\n",
              "</div>"
            ],
            "text/plain": [
              "                           name                                        description\n",
              "0                  A-Bomb (HAS)  Rick Jones has been Hulk's best bud since day ...\n",
              "1                        A.I.M.  AIM is a terrorist organization bent on destro...\n",
              "2    Abomination (Emil Blonsky)  Formerly known as Emil Blonsky, a spy of Sovie...\n",
              "3                  Adam Warlock  Adam Warlock is an artificially created human ...\n",
              "4                Agent X (Nijo)  Originally a partner of the mind-altering assa...\n",
              "..                          ...                                                ...\n",
              "276                       Zarek  Zarek is a member of the Kree race with no sup...\n",
              "277                      Zodiak  Twelve demons merged with Norman Harrison, who...\n",
              "278        Zombie (Simon Garth)  War hero Simon Garth was turned into a zombie ...\n",
              "279                       Zuras         Zuras was once the leader of the Eternals.\n",
              "280                       Zzzax  A chain reaction in an atomic reactor, a resul...\n",
              "\n",
              "[281 rows x 2 columns]"
            ]
          },
          "metadata": {
            "tags": []
          },
          "execution_count": 14
        }
      ]
    },
    {
      "cell_type": "markdown",
      "metadata": {
        "id": "DjR6ElxnayRM"
      },
      "source": [
        "A continuación se llevará a cabo el preprocesado, en la que se usarán 3 técnicas:\n",
        "\n",
        "1.   ***Tokenization***: división del texto en palabras \n",
        "2.   Eliminación de ***stopwords***\n",
        "3. ***Stemmization***: permite la obtención de la raíz de cada palabra sin que el resultado sea una palabra real."
      ]
    },
    {
      "cell_type": "code",
      "metadata": {
        "id": "S7JGI2P_cbWk",
        "colab": {
          "base_uri": "https://localhost:8080/",
          "height": 487
        },
        "outputId": "70038f14-4da2-4513-c534-193679db2436"
      },
      "source": [
        "from nltk.tokenize import word_tokenize \n",
        "from nltk.corpus import stopwords\n",
        "from nltk.stem import PorterStemmer\n",
        "\n",
        "import nltk\n",
        "nltk.download('punkt')\n",
        "nltk.download('stopwords')\n",
        "\n",
        "ps = PorterStemmer()\n",
        "\n",
        "preprocessedText = []\n",
        "\n",
        "for row in originalData.itertuples():\n",
        "    text = word_tokenize(row[2]) ## indice de la columna que contiene la descripcion\n",
        "    ## Remove stop words\n",
        "    stops = set(stopwords.words(\"english\"))\n",
        "    text = [ps.stem(w) for w in text if not w in stops and w.isalnum()]\n",
        "    text = \" \".join(text)\n",
        "    \n",
        "    preprocessedText.append(text)\n",
        "\n",
        "preprocessedData = originalData\n",
        "preprocessedData['processed_text'] = preprocessedText\n",
        "\n",
        "preprocessedData"
      ],
      "execution_count": 9,
      "outputs": [
        {
          "output_type": "stream",
          "text": [
            "[nltk_data] Downloading package punkt to /root/nltk_data...\n",
            "[nltk_data]   Unzipping tokenizers/punkt.zip.\n",
            "[nltk_data] Downloading package stopwords to /root/nltk_data...\n",
            "[nltk_data]   Unzipping corpora/stopwords.zip.\n"
          ],
          "name": "stdout"
        },
        {
          "output_type": "execute_result",
          "data": {
            "text/html": [
              "<div>\n",
              "<style scoped>\n",
              "    .dataframe tbody tr th:only-of-type {\n",
              "        vertical-align: middle;\n",
              "    }\n",
              "\n",
              "    .dataframe tbody tr th {\n",
              "        vertical-align: top;\n",
              "    }\n",
              "\n",
              "    .dataframe thead th {\n",
              "        text-align: right;\n",
              "    }\n",
              "</style>\n",
              "<table border=\"1\" class=\"dataframe\">\n",
              "  <thead>\n",
              "    <tr style=\"text-align: right;\">\n",
              "      <th></th>\n",
              "      <th>number</th>\n",
              "      <th>name</th>\n",
              "      <th>description</th>\n",
              "      <th>processed_text</th>\n",
              "    </tr>\n",
              "  </thead>\n",
              "  <tbody>\n",
              "    <tr>\n",
              "      <th>0</th>\n",
              "      <td>281</td>\n",
              "      <td>A-Bomb (HAS)</td>\n",
              "      <td>Rick Jones has been Hulk's best bud since day ...</td>\n",
              "      <td>ha</td>\n",
              "    </tr>\n",
              "    <tr>\n",
              "      <th>1</th>\n",
              "      <td>281</td>\n",
              "      <td>A.I.M.</td>\n",
              "      <td>AIM is a terrorist organization bent on destro...</td>\n",
              "      <td></td>\n",
              "    </tr>\n",
              "    <tr>\n",
              "      <th>2</th>\n",
              "      <td>281</td>\n",
              "      <td>Abomination (Emil Blonsky)</td>\n",
              "      <td>Formerly known as Emil Blonsky, a spy of Sovie...</td>\n",
              "      <td>abomin emil blonski</td>\n",
              "    </tr>\n",
              "    <tr>\n",
              "      <th>3</th>\n",
              "      <td>281</td>\n",
              "      <td>Adam Warlock</td>\n",
              "      <td>Adam Warlock is an artificially created human ...</td>\n",
              "      <td>adam warlock</td>\n",
              "    </tr>\n",
              "    <tr>\n",
              "      <th>4</th>\n",
              "      <td>281</td>\n",
              "      <td>Agent X (Nijo)</td>\n",
              "      <td>Originally a partner of the mind-altering assa...</td>\n",
              "      <td>agent X nijo</td>\n",
              "    </tr>\n",
              "    <tr>\n",
              "      <th>...</th>\n",
              "      <td>...</td>\n",
              "      <td>...</td>\n",
              "      <td>...</td>\n",
              "      <td>...</td>\n",
              "    </tr>\n",
              "    <tr>\n",
              "      <th>276</th>\n",
              "      <td>281</td>\n",
              "      <td>Zarek</td>\n",
              "      <td>Zarek is a member of the Kree race with no sup...</td>\n",
              "      <td>zarek</td>\n",
              "    </tr>\n",
              "    <tr>\n",
              "      <th>277</th>\n",
              "      <td>281</td>\n",
              "      <td>Zodiak</td>\n",
              "      <td>Twelve demons merged with Norman Harrison, who...</td>\n",
              "      <td>zodiak</td>\n",
              "    </tr>\n",
              "    <tr>\n",
              "      <th>278</th>\n",
              "      <td>281</td>\n",
              "      <td>Zombie (Simon Garth)</td>\n",
              "      <td>War hero Simon Garth was turned into a zombie ...</td>\n",
              "      <td>zombi simon garth</td>\n",
              "    </tr>\n",
              "    <tr>\n",
              "      <th>279</th>\n",
              "      <td>281</td>\n",
              "      <td>Zuras</td>\n",
              "      <td>Zuras was once the leader of the Eternals.</td>\n",
              "      <td>zura</td>\n",
              "    </tr>\n",
              "    <tr>\n",
              "      <th>280</th>\n",
              "      <td>281</td>\n",
              "      <td>Zzzax</td>\n",
              "      <td>A chain reaction in an atomic reactor, a resul...</td>\n",
              "      <td>zzzax</td>\n",
              "    </tr>\n",
              "  </tbody>\n",
              "</table>\n",
              "<p>281 rows × 4 columns</p>\n",
              "</div>"
            ],
            "text/plain": [
              "     number  ...       processed_text\n",
              "0       281  ...                   ha\n",
              "1       281  ...                     \n",
              "2       281  ...  abomin emil blonski\n",
              "3       281  ...         adam warlock\n",
              "4       281  ...         agent X nijo\n",
              "..      ...  ...                  ...\n",
              "276     281  ...                zarek\n",
              "277     281  ...               zodiak\n",
              "278     281  ...    zombi simon garth\n",
              "279     281  ...                 zura\n",
              "280     281  ...                zzzax\n",
              "\n",
              "[281 rows x 4 columns]"
            ]
          },
          "metadata": {
            "tags": []
          },
          "execution_count": 9
        }
      ]
    },
    {
      "cell_type": "markdown",
      "metadata": {
        "id": "xC1FaiVbekx0"
      },
      "source": [
        "#**4. Creación de la bolsa de palabras (BoW) con TF-IDF**"
      ]
    },
    {
      "cell_type": "markdown",
      "metadata": {
        "id": "DMTTBR8TfFmd"
      },
      "source": [
        "Se parte de los datos almacenados en \"preprocessedData\", en donde para cada personaje existe un campo 'preprocessed_text' que contiene la descripción preprocesada.\n",
        "\n",
        "El objetivo es transformar todos los textos de sinopsis en vectores de frecuencias (Bag of words), aplicando además la ponderación TF-IDF para los valores de dichas frecuencias.\n",
        "\n",
        "El paquete sklearn ofrece una clase llamada *TfidfVectorizer* que crea automáticamente la matriz compuesta por todos los vectores de frecuencias ponderados a partir de un array de textos (preprocessedData['processed_text'])\n",
        "\n",
        "Si se quiere emplear la bolsa de palabras sin ponderación TF-IDF puede usarse la clase *CountVectorized* del mismo paquete"
      ]
    },
    {
      "cell_type": "code",
      "metadata": {
        "id": "NME2qKMRhxhu",
        "colab": {
          "base_uri": "https://localhost:8080/"
        },
        "outputId": "ae0858e0-2b8d-4752-a354-b2e30d2b58fb"
      },
      "source": [
        "from sklearn.feature_extraction.text import TfidfVectorizer\n",
        "\n",
        "bagOfWordsModel = TfidfVectorizer()\n",
        "bagOfWordsModel.fit(preprocessedData['processed_text'])\n",
        "textsBoW= bagOfWordsModel.transform(preprocessedData['processed_text'])\n",
        "print(\"Finished\")"
      ],
      "execution_count": 10,
      "outputs": [
        {
          "output_type": "stream",
          "text": [
            "Finished\n"
          ],
          "name": "stdout"
        }
      ]
    },
    {
      "cell_type": "code",
      "metadata": {
        "id": "IJD_Baauh4I1",
        "colab": {
          "base_uri": "https://localhost:8080/"
        },
        "outputId": "1736ff15-a9de-414d-8fc6-a741c1f54ba7"
      },
      "source": [
        "textsBoW.shape"
      ],
      "execution_count": null,
      "outputs": [
        {
          "output_type": "execute_result",
          "data": {
            "text/plain": [
              "(281, 2283)"
            ]
          },
          "metadata": {
            "tags": []
          },
          "execution_count": 37
        }
      ]
    },
    {
      "cell_type": "code",
      "metadata": {
        "id": "mj2IJzFWh6mj",
        "colab": {
          "base_uri": "https://localhost:8080/"
        },
        "outputId": "042156fa-046e-4269-8d14-37bbdd09b3ca"
      },
      "source": [
        "print(textsBoW)"
      ],
      "execution_count": null,
      "outputs": [
        {
          "output_type": "stream",
          "text": [
            "  (0, 2137)\t0.130889104582123\n",
            "  (0, 2058)\t0.14217279372193212\n",
            "  (0, 2004)\t0.22205823661448335\n",
            "  (0, 1974)\t0.22205823661448335\n",
            "  (0, 1894)\t0.1961840975559547\n",
            "  (0, 1790)\t0.1961840975559547\n",
            "  (0, 1779)\t0.1752944840330487\n",
            "  (0, 1634)\t0.22205823661448335\n",
            "  (0, 1505)\t0.10190245579244313\n",
            "  (0, 1404)\t0.11629865466340347\n",
            "  (0, 1174)\t0.16198034620346324\n",
            "  (0, 1086)\t0.22205823661448335\n",
            "  (0, 968)\t0.1468449451157794\n",
            "  (0, 840)\t0.20692283552679946\n",
            "  (0, 816)\t0.17030995849742606\n",
            "  (0, 797)\t0.14942034497452006\n",
            "  (0, 695)\t0.1752944840330487\n",
            "  (0, 647)\t0.16198034620346324\n",
            "  (0, 537)\t0.1878544852619919\n",
            "  (0, 496)\t0.1878544852619919\n",
            "  (0, 475)\t0.22205823661448335\n",
            "  (0, 284)\t0.20692283552679946\n",
            "  (0, 251)\t0.22205823661448335\n",
            "  (0, 242)\t0.1878544852619919\n",
            "  (0, 214)\t0.1752944840330487\n",
            "  :\t:\n",
            "  (278, 818)\t0.30506443106319997\n",
            "  (278, 81)\t0.2225292018497309\n",
            "  (279, 2282)\t0.6554139206650713\n",
            "  (279, 1148)\t0.49150479114816825\n",
            "  (279, 669)\t0.5734593559066198\n",
            "  (280, 1993)\t0.22286926032113236\n",
            "  (280, 1726)\t0.25226282639126546\n",
            "  (280, 1662)\t0.25226282639126546\n",
            "  (280, 1623)\t0.2134066455942286\n",
            "  (280, 1577)\t0.25226282639126546\n",
            "  (280, 1576)\t0.25226282639126546\n",
            "  (280, 1346)\t0.23506869247776788\n",
            "  (280, 970)\t0.159087426424004\n",
            "  (280, 868)\t0.19913822007758497\n",
            "  (280, 775)\t0.16974465400745184\n",
            "  (280, 695)\t0.19913822007758497\n",
            "  (280, 647)\t0.18401307952409543\n",
            "  (280, 620)\t0.25226282639126546\n",
            "  (280, 456)\t0.16408212818086607\n",
            "  (280, 340)\t0.25226282639126546\n",
            "  (280, 255)\t0.22286926032113236\n",
            "  (280, 158)\t0.25226282639126546\n",
            "  (280, 157)\t0.23506869247776788\n",
            "  (280, 22)\t0.22286926032113236\n",
            "  (280, 17)\t0.23506869247776788\n"
          ],
          "name": "stdout"
        }
      ]
    },
    {
      "cell_type": "code",
      "metadata": {
        "id": "mN43uXK-h_tf"
      },
      "source": [
        "bagOfWordsModel.get_feature_names()"
      ],
      "execution_count": null,
      "outputs": []
    },
    {
      "cell_type": "code",
      "metadata": {
        "id": "L09Hmv3LiIKP",
        "colab": {
          "base_uri": "https://localhost:8080/",
          "height": 35
        },
        "outputId": "84200293-580a-40d0-8746-05d729a40a15"
      },
      "source": [
        "bagOfWordsModel.get_feature_names()[1005]"
      ],
      "execution_count": null,
      "outputs": [
        {
          "output_type": "execute_result",
          "data": {
            "application/vnd.google.colaboratory.intrinsic+json": {
              "type": "string"
            },
            "text/plain": [
              "'incid'"
            ]
          },
          "metadata": {
            "tags": []
          },
          "execution_count": 77
        }
      ]
    },
    {
      "cell_type": "markdown",
      "metadata": {
        "id": "HsWZiUoMiaQL"
      },
      "source": [
        "#**5. Búsqueda de los personajes más similares a una persona**"
      ]
    },
    {
      "cell_type": "markdown",
      "metadata": {
        "id": "Wu6Omh-2vYGH"
      },
      "source": [
        "Para realizar este proceso hay que realizar todo el proceso anterior incluyendo a la persona con su descripción.\n",
        "\n"
      ]
    },
    {
      "cell_type": "code",
      "metadata": {
        "id": "gR8VNUWuVpv9"
      },
      "source": [
        "nombre = \"Pepe\" #Introducir nombre\n",
        "descripcion = \"Pepe was once the leader of the Eternals. He is strong as iron and as small as an ant. He is a terrorist\" #Descripcion"
      ],
      "execution_count": 15,
      "outputs": []
    },
    {
      "cell_type": "code",
      "metadata": {
        "id": "Ak2_zptvxak-",
        "colab": {
          "base_uri": "https://localhost:8080/",
          "height": 419
        },
        "outputId": "224153bb-1c50-4a33-934d-7cb6d77dc209"
      },
      "source": [
        "import pandas as pd\n",
        "\n",
        "originalData = pd.read_csv('marvel.csv')\n",
        "originalData = originalData.append({'name' : nombre, 'description' : descripcion}, ignore_index=True)\n",
        "originalData"
      ],
      "execution_count": 16,
      "outputs": [
        {
          "output_type": "execute_result",
          "data": {
            "text/html": [
              "<div>\n",
              "<style scoped>\n",
              "    .dataframe tbody tr th:only-of-type {\n",
              "        vertical-align: middle;\n",
              "    }\n",
              "\n",
              "    .dataframe tbody tr th {\n",
              "        vertical-align: top;\n",
              "    }\n",
              "\n",
              "    .dataframe thead th {\n",
              "        text-align: right;\n",
              "    }\n",
              "</style>\n",
              "<table border=\"1\" class=\"dataframe\">\n",
              "  <thead>\n",
              "    <tr style=\"text-align: right;\">\n",
              "      <th></th>\n",
              "      <th>name</th>\n",
              "      <th>description</th>\n",
              "    </tr>\n",
              "  </thead>\n",
              "  <tbody>\n",
              "    <tr>\n",
              "      <th>0</th>\n",
              "      <td>A-Bomb (HAS)</td>\n",
              "      <td>Rick Jones has been Hulk's best bud since day ...</td>\n",
              "    </tr>\n",
              "    <tr>\n",
              "      <th>1</th>\n",
              "      <td>A.I.M.</td>\n",
              "      <td>AIM is a terrorist organization bent on destro...</td>\n",
              "    </tr>\n",
              "    <tr>\n",
              "      <th>2</th>\n",
              "      <td>Abomination (Emil Blonsky)</td>\n",
              "      <td>Formerly known as Emil Blonsky, a spy of Sovie...</td>\n",
              "    </tr>\n",
              "    <tr>\n",
              "      <th>3</th>\n",
              "      <td>Adam Warlock</td>\n",
              "      <td>Adam Warlock is an artificially created human ...</td>\n",
              "    </tr>\n",
              "    <tr>\n",
              "      <th>4</th>\n",
              "      <td>Agent X (Nijo)</td>\n",
              "      <td>Originally a partner of the mind-altering assa...</td>\n",
              "    </tr>\n",
              "    <tr>\n",
              "      <th>...</th>\n",
              "      <td>...</td>\n",
              "      <td>...</td>\n",
              "    </tr>\n",
              "    <tr>\n",
              "      <th>277</th>\n",
              "      <td>Zodiak</td>\n",
              "      <td>Twelve demons merged with Norman Harrison, who...</td>\n",
              "    </tr>\n",
              "    <tr>\n",
              "      <th>278</th>\n",
              "      <td>Zombie (Simon Garth)</td>\n",
              "      <td>War hero Simon Garth was turned into a zombie ...</td>\n",
              "    </tr>\n",
              "    <tr>\n",
              "      <th>279</th>\n",
              "      <td>Zuras</td>\n",
              "      <td>Zuras was once the leader of the Eternals.</td>\n",
              "    </tr>\n",
              "    <tr>\n",
              "      <th>280</th>\n",
              "      <td>Zzzax</td>\n",
              "      <td>A chain reaction in an atomic reactor, a resul...</td>\n",
              "    </tr>\n",
              "    <tr>\n",
              "      <th>281</th>\n",
              "      <td>Pepe</td>\n",
              "      <td>Pepe was once the leader of the Eternals. He i...</td>\n",
              "    </tr>\n",
              "  </tbody>\n",
              "</table>\n",
              "<p>282 rows × 2 columns</p>\n",
              "</div>"
            ],
            "text/plain": [
              "                           name                                        description\n",
              "0                  A-Bomb (HAS)  Rick Jones has been Hulk's best bud since day ...\n",
              "1                        A.I.M.  AIM is a terrorist organization bent on destro...\n",
              "2    Abomination (Emil Blonsky)  Formerly known as Emil Blonsky, a spy of Sovie...\n",
              "3                  Adam Warlock  Adam Warlock is an artificially created human ...\n",
              "4                Agent X (Nijo)  Originally a partner of the mind-altering assa...\n",
              "..                          ...                                                ...\n",
              "277                      Zodiak  Twelve demons merged with Norman Harrison, who...\n",
              "278        Zombie (Simon Garth)  War hero Simon Garth was turned into a zombie ...\n",
              "279                       Zuras         Zuras was once the leader of the Eternals.\n",
              "280                       Zzzax  A chain reaction in an atomic reactor, a resul...\n",
              "281                        Pepe  Pepe was once the leader of the Eternals. He i...\n",
              "\n",
              "[282 rows x 2 columns]"
            ]
          },
          "metadata": {
            "tags": []
          },
          "execution_count": 16
        }
      ]
    },
    {
      "cell_type": "code",
      "metadata": {
        "id": "F8PlufFe01oq",
        "colab": {
          "base_uri": "https://localhost:8080/",
          "height": 487
        },
        "outputId": "300170ab-cb17-422e-946d-ce3d05321e7f"
      },
      "source": [
        "from nltk.tokenize import word_tokenize \n",
        "from nltk.corpus import stopwords\n",
        "from nltk.stem import PorterStemmer\n",
        "\n",
        "import nltk\n",
        "nltk.download('punkt')\n",
        "nltk.download('stopwords')\n",
        "\n",
        "ps = PorterStemmer()\n",
        "\n",
        "preprocessedText = []\n",
        "\n",
        "for row in originalData.itertuples():\n",
        "    text = word_tokenize(row[2]) ## indice de la columna que contiene la descripcion\n",
        "    ## Remove stop words\n",
        "    stops = set(stopwords.words(\"english\"))\n",
        "    text = [ps.stem(w) for w in text if not w in stops and w.isalnum()]\n",
        "    text = \" \".join(text)\n",
        "    \n",
        "    preprocessedText.append(text)\n",
        "\n",
        "preprocessedData = originalData\n",
        "preprocessedData['processed_text'] = preprocessedText\n",
        "\n",
        "preprocessedData"
      ],
      "execution_count": 17,
      "outputs": [
        {
          "output_type": "stream",
          "text": [
            "[nltk_data] Downloading package punkt to /root/nltk_data...\n",
            "[nltk_data]   Package punkt is already up-to-date!\n",
            "[nltk_data] Downloading package stopwords to /root/nltk_data...\n",
            "[nltk_data]   Package stopwords is already up-to-date!\n"
          ],
          "name": "stdout"
        },
        {
          "output_type": "execute_result",
          "data": {
            "text/html": [
              "<div>\n",
              "<style scoped>\n",
              "    .dataframe tbody tr th:only-of-type {\n",
              "        vertical-align: middle;\n",
              "    }\n",
              "\n",
              "    .dataframe tbody tr th {\n",
              "        vertical-align: top;\n",
              "    }\n",
              "\n",
              "    .dataframe thead th {\n",
              "        text-align: right;\n",
              "    }\n",
              "</style>\n",
              "<table border=\"1\" class=\"dataframe\">\n",
              "  <thead>\n",
              "    <tr style=\"text-align: right;\">\n",
              "      <th></th>\n",
              "      <th>name</th>\n",
              "      <th>description</th>\n",
              "      <th>processed_text</th>\n",
              "    </tr>\n",
              "  </thead>\n",
              "  <tbody>\n",
              "    <tr>\n",
              "      <th>0</th>\n",
              "      <td>A-Bomb (HAS)</td>\n",
              "      <td>Rick Jones has been Hulk's best bud since day ...</td>\n",
              "      <td>rick jone hulk best bud sinc day one friend te...</td>\n",
              "    </tr>\n",
              "    <tr>\n",
              "      <th>1</th>\n",
              "      <td>A.I.M.</td>\n",
              "      <td>AIM is a terrorist organization bent on destro...</td>\n",
              "      <td>aim terrorist organ bent destroy world</td>\n",
              "    </tr>\n",
              "    <tr>\n",
              "      <th>2</th>\n",
              "      <td>Abomination (Emil Blonsky)</td>\n",
              "      <td>Formerly known as Emil Blonsky, a spy of Sovie...</td>\n",
              "      <td>formerli known emil blonski spi soviet yugosla...</td>\n",
              "    </tr>\n",
              "    <tr>\n",
              "      <th>3</th>\n",
              "      <td>Adam Warlock</td>\n",
              "      <td>Adam Warlock is an artificially created human ...</td>\n",
              "      <td>adam warlock artifici creat human born cocoon ...</td>\n",
              "    </tr>\n",
              "    <tr>\n",
              "      <th>4</th>\n",
              "      <td>Agent X (Nijo)</td>\n",
              "      <td>Originally a partner of the mind-altering assa...</td>\n",
              "      <td>origin partner assassin black swan nijo spi de...</td>\n",
              "    </tr>\n",
              "    <tr>\n",
              "      <th>...</th>\n",
              "      <td>...</td>\n",
              "      <td>...</td>\n",
              "      <td>...</td>\n",
              "    </tr>\n",
              "    <tr>\n",
              "      <th>277</th>\n",
              "      <td>Zodiak</td>\n",
              "      <td>Twelve demons merged with Norman Harrison, who...</td>\n",
              "      <td>twelv demon merg norman harrison soon adopt gu...</td>\n",
              "    </tr>\n",
              "    <tr>\n",
              "      <th>278</th>\n",
              "      <td>Zombie (Simon Garth)</td>\n",
              "      <td>War hero Simon Garth was turned into a zombie ...</td>\n",
              "      <td>war hero simon garth turn zombi secretari layl...</td>\n",
              "    </tr>\n",
              "    <tr>\n",
              "      <th>279</th>\n",
              "      <td>Zuras</td>\n",
              "      <td>Zuras was once the leader of the Eternals.</td>\n",
              "      <td>zura leader etern</td>\n",
              "    </tr>\n",
              "    <tr>\n",
              "      <th>280</th>\n",
              "      <td>Zzzax</td>\n",
              "      <td>A chain reaction in an atomic reactor, a resul...</td>\n",
              "      <td>A chain reaction atom reactor result terrorist...</td>\n",
              "    </tr>\n",
              "    <tr>\n",
              "      <th>281</th>\n",
              "      <td>Pepe</td>\n",
              "      <td>Pepe was once the leader of the Eternals. He i...</td>\n",
              "      <td>pepe leader etern He strong iron small ant He ...</td>\n",
              "    </tr>\n",
              "  </tbody>\n",
              "</table>\n",
              "<p>282 rows × 3 columns</p>\n",
              "</div>"
            ],
            "text/plain": [
              "                           name  ...                                     processed_text\n",
              "0                  A-Bomb (HAS)  ...  rick jone hulk best bud sinc day one friend te...\n",
              "1                        A.I.M.  ...             aim terrorist organ bent destroy world\n",
              "2    Abomination (Emil Blonsky)  ...  formerli known emil blonski spi soviet yugosla...\n",
              "3                  Adam Warlock  ...  adam warlock artifici creat human born cocoon ...\n",
              "4                Agent X (Nijo)  ...  origin partner assassin black swan nijo spi de...\n",
              "..                          ...  ...                                                ...\n",
              "277                      Zodiak  ...  twelv demon merg norman harrison soon adopt gu...\n",
              "278        Zombie (Simon Garth)  ...  war hero simon garth turn zombi secretari layl...\n",
              "279                       Zuras  ...                                  zura leader etern\n",
              "280                       Zzzax  ...  A chain reaction atom reactor result terrorist...\n",
              "281                        Pepe  ...  pepe leader etern He strong iron small ant He ...\n",
              "\n",
              "[282 rows x 3 columns]"
            ]
          },
          "metadata": {
            "tags": []
          },
          "execution_count": 17
        }
      ]
    },
    {
      "cell_type": "code",
      "metadata": {
        "id": "crNAlGRH032K"
      },
      "source": [
        "from sklearn.feature_extraction.text import TfidfVectorizer\n",
        "\n",
        "bagOfWordsModel = TfidfVectorizer()\n",
        "bagOfWordsModel.fit(preprocessedData['processed_text'])\n",
        "textsBoW= bagOfWordsModel.transform(preprocessedData['processed_text'])"
      ],
      "execution_count": 18,
      "outputs": []
    },
    {
      "cell_type": "markdown",
      "metadata": {
        "id": "3IeRcKCOyrRZ"
      },
      "source": [
        "A continuación se crea una matriz N x N (N= número de personajes) en donde el valor de la posición matriz[ i , j ] indique la distancia que existe entre el personaje i y el personaje j. "
      ]
    },
    {
      "cell_type": "code",
      "metadata": {
        "id": "UPSwZKgPzF4O"
      },
      "source": [
        "from sklearn.metrics import pairwise_distances\n",
        "\n",
        "distance_matrix= pairwise_distances(textsBoW,textsBoW ,metric='cosine')\n"
      ],
      "execution_count": 19,
      "outputs": []
    },
    {
      "cell_type": "markdown",
      "metadata": {
        "id": "NcNdTdLmzI8X"
      },
      "source": [
        "Ahora basta con obtener el índice de la persona introducida y las distancias con el resto de personajes"
      ]
    },
    {
      "cell_type": "code",
      "metadata": {
        "id": "xgTUQOwSzYdu",
        "colab": {
          "base_uri": "https://localhost:8080/"
        },
        "outputId": "1795fb6a-1a76-4fdd-e6cb-40170ff663c4"
      },
      "source": [
        "indexOfTitle = preprocessedData[preprocessedData['name']==nombre].index.values[0]\n",
        "indexOfTitle\n",
        "\n",
        "distance_scores = list(enumerate(distance_matrix[indexOfTitle]))\n",
        "distance_scores"
      ],
      "execution_count": 20,
      "outputs": [
        {
          "output_type": "execute_result",
          "data": {
            "text/plain": [
              "[(0, 0.9429037594051554),\n",
              " (1, 0.8737492680194615),\n",
              " (2, 1.0),\n",
              " (3, 1.0),\n",
              " (4, 1.0),\n",
              " (5, 0.9566567344748318),\n",
              " (6, 1.0),\n",
              " (7, 1.0),\n",
              " (8, 0.9481970831793141),\n",
              " (9, 1.0),\n",
              " (10, 0.9421206203190599),\n",
              " (11, 1.0),\n",
              " (12, 1.0),\n",
              " (13, 1.0),\n",
              " (14, 1.0),\n",
              " (15, 1.0),\n",
              " (16, 1.0),\n",
              " (17, 1.0),\n",
              " (18, 1.0),\n",
              " (19, 0.8838856415313219),\n",
              " (20, 1.0),\n",
              " (21, 1.0),\n",
              " (22, 1.0),\n",
              " (23, 1.0),\n",
              " (24, 1.0),\n",
              " (25, 1.0),\n",
              " (26, 1.0),\n",
              " (27, 1.0),\n",
              " (28, 1.0),\n",
              " (29, 1.0),\n",
              " (30, 1.0),\n",
              " (31, 1.0),\n",
              " (32, 1.0),\n",
              " (33, 1.0),\n",
              " (34, 1.0),\n",
              " (35, 1.0),\n",
              " (36, 1.0),\n",
              " (37, 1.0),\n",
              " (38, 0.9299958674731036),\n",
              " (39, 1.0),\n",
              " (40, 0.9478446467461085),\n",
              " (41, 0.9549177211043653),\n",
              " (42, 0.9189019686961419),\n",
              " (43, 0.9223008745731874),\n",
              " (44, 1.0),\n",
              " (45, 1.0),\n",
              " (46, 1.0),\n",
              " (47, 0.9511172137781917),\n",
              " (48, 1.0),\n",
              " (49, 1.0),\n",
              " (50, 0.9514025527164229),\n",
              " (51, 1.0),\n",
              " (52, 1.0),\n",
              " (53, 1.0),\n",
              " (54, 1.0),\n",
              " (55, 1.0),\n",
              " (56, 1.0),\n",
              " (57, 0.9497235166279826),\n",
              " (58, 0.9343482964519906),\n",
              " (59, 1.0),\n",
              " (60, 1.0),\n",
              " (61, 1.0),\n",
              " (62, 1.0),\n",
              " (63, 1.0),\n",
              " (64, 1.0),\n",
              " (65, 1.0),\n",
              " (66, 1.0),\n",
              " (67, 1.0),\n",
              " (68, 1.0),\n",
              " (69, 1.0),\n",
              " (70, 0.9261745123469376),\n",
              " (71, 0.9006089724959818),\n",
              " (72, 1.0),\n",
              " (73, 1.0),\n",
              " (74, 1.0),\n",
              " (75, 1.0),\n",
              " (76, 1.0),\n",
              " (77, 1.0),\n",
              " (78, 1.0),\n",
              " (79, 1.0),\n",
              " (80, 1.0),\n",
              " (81, 0.9456947338532178),\n",
              " (82, 1.0),\n",
              " (83, 1.0),\n",
              " (84, 1.0),\n",
              " (85, 1.0),\n",
              " (86, 1.0),\n",
              " (87, 1.0),\n",
              " (88, 1.0),\n",
              " (89, 1.0),\n",
              " (90, 1.0),\n",
              " (91, 1.0),\n",
              " (92, 1.0),\n",
              " (93, 1.0),\n",
              " (94, 1.0),\n",
              " (95, 1.0),\n",
              " (96, 1.0),\n",
              " (97, 1.0),\n",
              " (98, 1.0),\n",
              " (99, 1.0),\n",
              " (100, 1.0),\n",
              " (101, 0.9411151438454797),\n",
              " (102, 1.0),\n",
              " (103, 1.0),\n",
              " (104, 1.0),\n",
              " (105, 1.0),\n",
              " (106, 1.0),\n",
              " (107, 1.0),\n",
              " (108, 1.0),\n",
              " (109, 1.0),\n",
              " (110, 1.0),\n",
              " (111, 1.0),\n",
              " (112, 1.0),\n",
              " (113, 1.0),\n",
              " (114, 1.0),\n",
              " (115, 1.0),\n",
              " (116, 1.0),\n",
              " (117, 1.0),\n",
              " (118, 1.0),\n",
              " (119, 1.0),\n",
              " (120, 1.0),\n",
              " (121, 1.0),\n",
              " (122, 0.9534922697984229),\n",
              " (123, 1.0),\n",
              " (124, 1.0),\n",
              " (125, 1.0),\n",
              " (126, 0.9089324712744773),\n",
              " (127, 1.0),\n",
              " (128, 1.0),\n",
              " (129, 1.0),\n",
              " (130, 1.0),\n",
              " (131, 1.0),\n",
              " (132, 1.0),\n",
              " (133, 1.0),\n",
              " (134, 1.0),\n",
              " (135, 1.0),\n",
              " (136, 0.9529566705122121),\n",
              " (137, 1.0),\n",
              " (138, 1.0),\n",
              " (139, 1.0),\n",
              " (140, 0.9353501019861358),\n",
              " (141, 1.0),\n",
              " (142, 1.0),\n",
              " (143, 1.0),\n",
              " (144, 1.0),\n",
              " (145, 1.0),\n",
              " (146, 1.0),\n",
              " (147, 1.0),\n",
              " (148, 1.0),\n",
              " (149, 1.0),\n",
              " (150, 1.0),\n",
              " (151, 1.0),\n",
              " (152, 1.0),\n",
              " (153, 0.9434001866332543),\n",
              " (154, 1.0),\n",
              " (155, 1.0),\n",
              " (156, 1.0),\n",
              " (157, 1.0),\n",
              " (158, 1.0),\n",
              " (159, 1.0),\n",
              " (160, 1.0),\n",
              " (161, 1.0),\n",
              " (162, 1.0),\n",
              " (163, 1.0),\n",
              " (164, 1.0),\n",
              " (165, 1.0),\n",
              " (166, 1.0),\n",
              " (167, 1.0),\n",
              " (168, 1.0),\n",
              " (169, 1.0),\n",
              " (170, 0.8481911415562455),\n",
              " (171, 0.8000775160378006),\n",
              " (172, 1.0),\n",
              " (173, 1.0),\n",
              " (174, 0.927804124283846),\n",
              " (175, 1.0),\n",
              " (176, 0.8685070563769115),\n",
              " (177, 0.9208233862525436),\n",
              " (178, 1.0),\n",
              " (179, 1.0),\n",
              " (180, 0.9311798620576808),\n",
              " (181, 1.0),\n",
              " (182, 1.0),\n",
              " (183, 1.0),\n",
              " (184, 1.0),\n",
              " (185, 1.0),\n",
              " (186, 1.0),\n",
              " (187, 1.0),\n",
              " (188, 1.0),\n",
              " (189, 1.0),\n",
              " (190, 1.0),\n",
              " (191, 1.0),\n",
              " (192, 1.0),\n",
              " (193, 1.0),\n",
              " (194, 1.0),\n",
              " (195, 1.0),\n",
              " (196, 1.0),\n",
              " (197, 1.0),\n",
              " (198, 1.0),\n",
              " (199, 1.0),\n",
              " (200, 1.0),\n",
              " (201, 1.0),\n",
              " (202, 1.0),\n",
              " (203, 1.0),\n",
              " (204, 1.0),\n",
              " (205, 1.0),\n",
              " (206, 1.0),\n",
              " (207, 1.0),\n",
              " (208, 1.0),\n",
              " (209, 1.0),\n",
              " (210, 1.0),\n",
              " (211, 0.9573268303684124),\n",
              " (212, 1.0),\n",
              " (213, 1.0),\n",
              " (214, 1.0),\n",
              " (215, 1.0),\n",
              " (216, 0.929035759891847),\n",
              " (217, 1.0),\n",
              " (218, 1.0),\n",
              " (219, 1.0),\n",
              " (220, 0.9380952999448944),\n",
              " (221, 1.0),\n",
              " (222, 1.0),\n",
              " (223, 1.0),\n",
              " (224, 1.0),\n",
              " (225, 1.0),\n",
              " (226, 1.0),\n",
              " (227, 1.0),\n",
              " (228, 1.0),\n",
              " (229, 1.0),\n",
              " (230, 1.0),\n",
              " (231, 1.0),\n",
              " (232, 1.0),\n",
              " (233, 1.0),\n",
              " (234, 1.0),\n",
              " (235, 1.0),\n",
              " (236, 1.0),\n",
              " (237, 1.0),\n",
              " (238, 1.0),\n",
              " (239, 1.0),\n",
              " (240, 1.0),\n",
              " (241, 1.0),\n",
              " (242, 1.0),\n",
              " (243, 1.0),\n",
              " (244, 1.0),\n",
              " (245, 1.0),\n",
              " (246, 1.0),\n",
              " (247, 1.0),\n",
              " (248, 1.0),\n",
              " (249, 1.0),\n",
              " (250, 1.0),\n",
              " (251, 1.0),\n",
              " (252, 1.0),\n",
              " (253, 0.9680501546723466),\n",
              " (254, 1.0),\n",
              " (255, 1.0),\n",
              " (256, 1.0),\n",
              " (257, 1.0),\n",
              " (258, 1.0),\n",
              " (259, 1.0),\n",
              " (260, 1.0),\n",
              " (261, 1.0),\n",
              " (262, 1.0),\n",
              " (263, 1.0),\n",
              " (264, 1.0),\n",
              " (265, 1.0),\n",
              " (266, 1.0),\n",
              " (267, 1.0),\n",
              " (268, 1.0),\n",
              " (269, 1.0),\n",
              " (270, 1.0),\n",
              " (271, 1.0),\n",
              " (272, 0.9420145462520628),\n",
              " (273, 1.0),\n",
              " (274, 1.0),\n",
              " (275, 1.0),\n",
              " (276, 1.0),\n",
              " (277, 1.0),\n",
              " (278, 1.0),\n",
              " (279, 0.720027498092748),\n",
              " (280, 0.9351049394360071),\n",
              " (281, 0.0)]"
            ]
          },
          "metadata": {
            "tags": []
          },
          "execution_count": 20
        }
      ]
    },
    {
      "cell_type": "markdown",
      "metadata": {
        "id": "RxgpoduS1l20"
      },
      "source": [
        "Una vez tenemos las distancias, únicamente debemos ordenarlas, quedarnos con las más cortas y mostrarlas de forma legible"
      ]
    },
    {
      "cell_type": "code",
      "metadata": {
        "id": "3Gw4yP-111oI",
        "colab": {
          "base_uri": "https://localhost:8080/"
        },
        "outputId": "a7d65710-7e27-49ca-9f6f-0a5ef255b3d3"
      },
      "source": [
        "ordered_scores = sorted(distance_scores, key=lambda x: x[1])\n",
        "top_scores = ordered_scores[1:11]\n",
        "top_indexes = [i[0] for i in top_scores]\n",
        "preprocessedData['name'].iloc[top_indexes]"
      ],
      "execution_count": 21,
      "outputs": [
        {
          "output_type": "execute_result",
          "data": {
            "text/plain": [
              "279                                 Zuras\n",
              "171                                 Thena\n",
              "170                      The Leader (HAS)\n",
              "176                            Thor (MAA)\n",
              "1                                  A.I.M.\n",
              "19     Captain America/Steve Rogers (MAA)\n",
              "71                            Shadow King\n",
              "126                                Sprite\n",
              "42              Iron Man/Tony Stark (MAA)\n",
              "177                       Thor (Ultimate)\n",
              "Name: name, dtype: object"
            ]
          },
          "metadata": {
            "tags": []
          },
          "execution_count": 21
        }
      ]
    },
    {
      "cell_type": "markdown",
      "metadata": {
        "id": "EDfTQZ-YYix4"
      },
      "source": [
        "**Búsqueda basada en Descripción + Valoración Comentarios + Valoración Directa (Likes) + Valoración Media Comentarios**\n",
        "\n",
        "Ponderación:\n",
        "\n",
        "* Descripción (70%): se basa en el parecido entre la descripción que tenga el usuario y la descripción de cada personaje\n",
        "* Valoración Comentarios (7.5%): se basa en la valoración del comentario textual que realice el usuario a un personaje. Estos valores son extraídos del subsistema de valoración. Puede ser:\n",
        "  * Buena (0)\n",
        "  * Neutra o no valoración (0.5)\n",
        "  * Mala (1)\n",
        "* Valoración Directa por Likes (15%)\n",
        "  * Like (0)\n",
        "  * Dislike (1)\n",
        "  * Nnguna (0.5)\n",
        "* Valoración Media Comentarios (7.5%): se trata de la media de las valoraciones de comentarios de todos los usuarios sobre un personaje. Puede ser un valor entre 0 y 1.\n"
      ]
    },
    {
      "cell_type": "markdown",
      "metadata": {
        "id": "jH_pPcfxZrY9"
      },
      "source": [
        "Para probar esta parte del sistema simularemos tener los datos de las valoraciones de los comentarios y las valoraciones directas.\n",
        "\n",
        "A continuación se generan aleatoriamente las valoraciones:\n",
        "\n",
        "* 0  es valoración positiva\n",
        "* 0.5 es valoración neutra (o no valoración)\n",
        "* 1 es valoración negativa"
      ]
    },
    {
      "cell_type": "code",
      "metadata": {
        "colab": {
          "base_uri": "https://localhost:8080/",
          "height": 419
        },
        "id": "hmv0Dty1Zpm6",
        "outputId": "61508bcf-b188-472a-9a33-8604867762ab"
      },
      "source": [
        "from random import choice, randint\n",
        "\n",
        "valoracion_comentario = []\n",
        "valoracion_directa = []\n",
        "valoracion_media = []\n",
        "\n",
        "for i in range(0,len(preprocessedData)):\n",
        "  valoracion_comentario.append(choice([0.0, 0.5, 1.0]))\n",
        "  valoracion_directa.append(choice([0.0, 0.5, 1.0]))\n",
        "  valoracion_media.append(randint(0.0,100.0)/100.0)\n",
        "\n",
        "preprocessedData['valoracion_comentario'] = valoracion_comentario\n",
        "preprocessedData['valoracion_directa'] = valoracion_directa\n",
        "preprocessedData['valoracion_media'] = valoracion_media\n",
        "\n",
        "preprocessedData"
      ],
      "execution_count": 50,
      "outputs": [
        {
          "output_type": "execute_result",
          "data": {
            "text/html": [
              "<div>\n",
              "<style scoped>\n",
              "    .dataframe tbody tr th:only-of-type {\n",
              "        vertical-align: middle;\n",
              "    }\n",
              "\n",
              "    .dataframe tbody tr th {\n",
              "        vertical-align: top;\n",
              "    }\n",
              "\n",
              "    .dataframe thead th {\n",
              "        text-align: right;\n",
              "    }\n",
              "</style>\n",
              "<table border=\"1\" class=\"dataframe\">\n",
              "  <thead>\n",
              "    <tr style=\"text-align: right;\">\n",
              "      <th></th>\n",
              "      <th>name</th>\n",
              "      <th>description</th>\n",
              "      <th>processed_text</th>\n",
              "      <th>valoracion_comentario</th>\n",
              "      <th>valoracion_directa</th>\n",
              "      <th>valoracion_media</th>\n",
              "    </tr>\n",
              "  </thead>\n",
              "  <tbody>\n",
              "    <tr>\n",
              "      <th>0</th>\n",
              "      <td>A-Bomb (HAS)</td>\n",
              "      <td>Rick Jones has been Hulk's best bud since day ...</td>\n",
              "      <td>rick jone hulk best bud sinc day one friend te...</td>\n",
              "      <td>0.0</td>\n",
              "      <td>0.5</td>\n",
              "      <td>0.05</td>\n",
              "    </tr>\n",
              "    <tr>\n",
              "      <th>1</th>\n",
              "      <td>A.I.M.</td>\n",
              "      <td>AIM is a terrorist organization bent on destro...</td>\n",
              "      <td>aim terrorist organ bent destroy world</td>\n",
              "      <td>1.0</td>\n",
              "      <td>1.0</td>\n",
              "      <td>0.17</td>\n",
              "    </tr>\n",
              "    <tr>\n",
              "      <th>2</th>\n",
              "      <td>Abomination (Emil Blonsky)</td>\n",
              "      <td>Formerly known as Emil Blonsky, a spy of Sovie...</td>\n",
              "      <td>formerli known emil blonski spi soviet yugosla...</td>\n",
              "      <td>0.5</td>\n",
              "      <td>0.0</td>\n",
              "      <td>0.92</td>\n",
              "    </tr>\n",
              "    <tr>\n",
              "      <th>3</th>\n",
              "      <td>Adam Warlock</td>\n",
              "      <td>Adam Warlock is an artificially created human ...</td>\n",
              "      <td>adam warlock artifici creat human born cocoon ...</td>\n",
              "      <td>0.5</td>\n",
              "      <td>0.5</td>\n",
              "      <td>0.87</td>\n",
              "    </tr>\n",
              "    <tr>\n",
              "      <th>4</th>\n",
              "      <td>Agent X (Nijo)</td>\n",
              "      <td>Originally a partner of the mind-altering assa...</td>\n",
              "      <td>origin partner assassin black swan nijo spi de...</td>\n",
              "      <td>0.0</td>\n",
              "      <td>1.0</td>\n",
              "      <td>0.54</td>\n",
              "    </tr>\n",
              "    <tr>\n",
              "      <th>...</th>\n",
              "      <td>...</td>\n",
              "      <td>...</td>\n",
              "      <td>...</td>\n",
              "      <td>...</td>\n",
              "      <td>...</td>\n",
              "      <td>...</td>\n",
              "    </tr>\n",
              "    <tr>\n",
              "      <th>277</th>\n",
              "      <td>Zodiak</td>\n",
              "      <td>Twelve demons merged with Norman Harrison, who...</td>\n",
              "      <td>twelv demon merg norman harrison soon adopt gu...</td>\n",
              "      <td>0.5</td>\n",
              "      <td>1.0</td>\n",
              "      <td>0.41</td>\n",
              "    </tr>\n",
              "    <tr>\n",
              "      <th>278</th>\n",
              "      <td>Zombie (Simon Garth)</td>\n",
              "      <td>War hero Simon Garth was turned into a zombie ...</td>\n",
              "      <td>war hero simon garth turn zombi secretari layl...</td>\n",
              "      <td>0.0</td>\n",
              "      <td>0.5</td>\n",
              "      <td>0.02</td>\n",
              "    </tr>\n",
              "    <tr>\n",
              "      <th>279</th>\n",
              "      <td>Zuras</td>\n",
              "      <td>Zuras was once the leader of the Eternals.</td>\n",
              "      <td>zura leader etern</td>\n",
              "      <td>1.0</td>\n",
              "      <td>1.0</td>\n",
              "      <td>0.96</td>\n",
              "    </tr>\n",
              "    <tr>\n",
              "      <th>280</th>\n",
              "      <td>Zzzax</td>\n",
              "      <td>A chain reaction in an atomic reactor, a resul...</td>\n",
              "      <td>A chain reaction atom reactor result terrorist...</td>\n",
              "      <td>0.5</td>\n",
              "      <td>0.0</td>\n",
              "      <td>0.95</td>\n",
              "    </tr>\n",
              "    <tr>\n",
              "      <th>281</th>\n",
              "      <td>Pepe</td>\n",
              "      <td>Pepe was once the leader of the Eternals. He i...</td>\n",
              "      <td>pepe leader etern He strong iron small ant He ...</td>\n",
              "      <td>1.0</td>\n",
              "      <td>1.0</td>\n",
              "      <td>0.92</td>\n",
              "    </tr>\n",
              "  </tbody>\n",
              "</table>\n",
              "<p>282 rows × 6 columns</p>\n",
              "</div>"
            ],
            "text/plain": [
              "                           name  ... valoracion_media\n",
              "0                  A-Bomb (HAS)  ...             0.05\n",
              "1                        A.I.M.  ...             0.17\n",
              "2    Abomination (Emil Blonsky)  ...             0.92\n",
              "3                  Adam Warlock  ...             0.87\n",
              "4                Agent X (Nijo)  ...             0.54\n",
              "..                          ...  ...              ...\n",
              "277                      Zodiak  ...             0.41\n",
              "278        Zombie (Simon Garth)  ...             0.02\n",
              "279                       Zuras  ...             0.96\n",
              "280                       Zzzax  ...             0.95\n",
              "281                        Pepe  ...             0.92\n",
              "\n",
              "[282 rows x 6 columns]"
            ]
          },
          "metadata": {
            "tags": []
          },
          "execution_count": 50
        }
      ]
    },
    {
      "cell_type": "markdown",
      "metadata": {
        "id": "t3sEz5rscK9z"
      },
      "source": [
        "A continuación calculamos las distancias teniendo en cuenta la ponderación"
      ]
    },
    {
      "cell_type": "code",
      "metadata": {
        "colab": {
          "base_uri": "https://localhost:8080/"
        },
        "id": "knirAu62cP9p",
        "outputId": "c65e1fad-b3dc-44aa-e262-8c0dedae7b4f"
      },
      "source": [
        "distance_scores_final = []\n",
        "\n",
        "for i in range(len(distance_matrix[indexOfTitle])):\n",
        "  valoracion = distance_matrix[indexOfTitle][i]*0.7 + preprocessedData['valoracion_comentario'][i]*0.075 + preprocessedData['valoracion_directa'][i]*0.15 + preprocessedData['valoracion_media'][i]*0.075\n",
        "  distance_scores_final.append((i,valoracion))\n",
        "\n",
        "distance_scores_final"
      ],
      "execution_count": 51,
      "outputs": [
        {
          "output_type": "execute_result",
          "data": {
            "text/plain": [
              "[(0, 0.7387826315836087),\n",
              " (1, 0.849374487613623),\n",
              " (2, 0.8065),\n",
              " (3, 0.8777499999999999),\n",
              " (4, 0.8905),\n",
              " (5, 0.7911597141323822),\n",
              " (6, 0.9504999999999999),\n",
              " (7, 0.7397499999999999),\n",
              " (8, 0.9224879582255199),\n",
              " (9, 0.8109999999999999),\n",
              " (10, 0.8529844342233419),\n",
              " (11, 0.8949999999999999),\n",
              " (12, 0.9564999999999999),\n",
              " (13, 0.91525),\n",
              " (14, 0.9167499999999998),\n",
              " (15, 0.8709999999999999),\n",
              " (16, 0.7772499999999999),\n",
              " (17, 0.8229999999999998),\n",
              " (18, 0.7427499999999999),\n",
              " (19, 0.6967199490719252),\n",
              " (20, 0.8679999999999999),\n",
              " (21, 0.90625),\n",
              " (22, 0.90625),\n",
              " (23, 0.76825),\n",
              " (24, 0.7922499999999999),\n",
              " (25, 0.7929999999999999),\n",
              " (26, 0.8567499999999999),\n",
              " (27, 0.94),\n",
              " (28, 0.8994999999999999),\n",
              " (29, 0.72475),\n",
              " (30, 0.85975),\n",
              " (31, 0.8724999999999998),\n",
              " (32, 0.7404999999999999),\n",
              " (33, 0.8469999999999999),\n",
              " (34, 0.7705),\n",
              " (35, 0.8334999999999999),\n",
              " (36, 0.868),\n",
              " (37, 0.835),\n",
              " (38, 0.8197471072311724),\n",
              " (39, 0.9279999999999999),\n",
              " (40, 0.9154912527222759),\n",
              " (41, 0.6706924047730557),\n",
              " (42, 0.8644813780872994),\n",
              " (43, 0.6928606122012312),\n",
              " (44, 0.79375),\n",
              " (45, 0.9189999999999999),\n",
              " (46, 0.7194999999999999),\n",
              " (47, 0.7715320496447341),\n",
              " (48, 0.9572499999999999),\n",
              " (49, 0.87625),\n",
              " (50, 0.748481786901496),\n",
              " (51, 0.9234999999999999),\n",
              " (52, 0.8529999999999999),\n",
              " (53, 0.8544999999999999),\n",
              " (54, 0.8897499999999999),\n",
              " (55, 0.8807499999999999),\n",
              " (56, 0.814),\n",
              " (57, 0.7398064616395877),\n",
              " (58, 0.7635438075163933),\n",
              " (59, 0.9175),\n",
              " (60, 0.9767499999999999),\n",
              " (61, 0.8282499999999999),\n",
              " (62, 0.8604999999999999),\n",
              " (63, 0.71575),\n",
              " (64, 0.7855),\n",
              " (65, 0.7569999999999999),\n",
              " (66, 0.8469999999999999),\n",
              " (67, 0.8042499999999999),\n",
              " (68, 0.90625),\n",
              " (69, 0.88),\n",
              " (70, 0.8050721586428562),\n",
              " (71, 0.6746762807471872),\n",
              " (72, 0.7974999999999999),\n",
              " (73, 0.823),\n",
              " (74, 0.8237499999999999),\n",
              " (75, 0.8544999999999999),\n",
              " (76, 0.8364999999999999),\n",
              " (77, 0.86275),\n",
              " (78, 0.8875),\n",
              " (79, 0.78175),\n",
              " (80, 0.817),\n",
              " (81, 0.8607363136972523),\n",
              " (82, 0.7869999999999999),\n",
              " (83, 0.8664999999999999),\n",
              " (84, 0.8724999999999999),\n",
              " (85, 0.8814999999999998),\n",
              " (86, 0.9309999999999999),\n",
              " (87, 0.8829999999999999),\n",
              " (88, 0.8192499999999999),\n",
              " (89, 0.8439999999999999),\n",
              " (90, 0.8049999999999999),\n",
              " (91, 0.7839999999999999),\n",
              " (92, 0.8875),\n",
              " (93, 0.7555),\n",
              " (94, 0.95275),\n",
              " (95, 0.9804999999999999),\n",
              " (96, 0.751),\n",
              " (97, 0.8829999999999999),\n",
              " (98, 0.8184999999999999),\n",
              " (99, 0.8477499999999999),\n",
              " (100, 0.90625),\n",
              " (101, 0.8305306006918358),\n",
              " (102, 0.8417499999999999),\n",
              " (103, 0.9984999999999999),\n",
              " (104, 0.9512499999999999),\n",
              " (105, 0.907),\n",
              " (106, 0.7697499999999999),\n",
              " (107, 0.9654999999999999),\n",
              " (108, 0.8859999999999999),\n",
              " (109, 0.7779999999999999),\n",
              " (110, 0.8274999999999999),\n",
              " (111, 0.8087499999999999),\n",
              " (112, 0.8394999999999999),\n",
              " (113, 0.8379999999999999),\n",
              " (114, 0.94975),\n",
              " (115, 0.7052499999999999),\n",
              " (116, 0.9055),\n",
              " (117, 0.7929999999999999),\n",
              " (118, 0.748),\n",
              " (119, 0.72325),\n",
              " (120, 0.94675),\n",
              " (121, 0.7809999999999999),\n",
              " (122, 0.765694588858896),\n",
              " (123, 0.748),\n",
              " (124, 0.78775),\n",
              " (125, 0.8875),\n",
              " (126, 0.8950027298921341),\n",
              " (127, 0.8845),\n",
              " (128, 0.91675),\n",
              " (129, 0.90775),\n",
              " (130, 0.74125),\n",
              " (131, 0.9024999999999999),\n",
              " (132, 0.7974999999999999),\n",
              " (133, 0.8589999999999999),\n",
              " (134, 0.8109999999999999),\n",
              " (135, 0.8867499999999999),\n",
              " (136, 0.8718196693585484),\n",
              " (137, 0.766),\n",
              " (138, 0.8387499999999999),\n",
              " (139, 0.8477499999999999),\n",
              " (140, 0.746995071390295),\n",
              " (141, 0.96175),\n",
              " (142, 0.7547499999999999),\n",
              " (143, 0.9707499999999999),\n",
              " (144, 0.7855),\n",
              " (145, 0.92575),\n",
              " (146, 0.8965),\n",
              " (147, 0.7659999999999999),\n",
              " (148, 0.94675),\n",
              " (149, 0.7659999999999999),\n",
              " (150, 0.9849999999999999),\n",
              " (151, 0.7914999999999999),\n",
              " (152, 0.90925),\n",
              " (153, 0.687380130643278),\n",
              " (154, 0.883),\n",
              " (155, 0.9999999999999999),\n",
              " (156, 0.91975),\n",
              " (157, 0.8072499999999999),\n",
              " (158, 0.7675),\n",
              " (159, 0.8777499999999999),\n",
              " (160, 0.8537499999999999),\n",
              " (161, 0.72775),\n",
              " (162, 0.8237499999999999),\n",
              " (163, 0.8132499999999999),\n",
              " (164, 0.9302499999999999),\n",
              " (165, 0.8957499999999999),\n",
              " (166, 0.7689999999999999),\n",
              " (167, 0.9512499999999999),\n",
              " (168, 0.7607499999999999),\n",
              " (169, 0.86725),\n",
              " (170, 0.7294837990893718),\n",
              " (171, 0.6313042612264603),\n",
              " (172, 0.8049999999999999),\n",
              " (173, 0.8274999999999999),\n",
              " (174, 0.8414628869986921),\n",
              " (175, 0.8124999999999999),\n",
              " (176, 0.610204939463838),\n",
              " (177, 0.7750763703767805),\n",
              " (178, 0.9557499999999999),\n",
              " (179, 0.95575),\n",
              " (180, 0.7298259034403765),\n",
              " (181, 0.8034999999999999),\n",
              " (182, 0.8109999999999999),\n",
              " (183, 0.943),\n",
              " (184, 0.9107499999999998),\n",
              " (185, 0.7427499999999999),\n",
              " (186, 0.8334999999999999),\n",
              " (187, 0.901),\n",
              " (188, 0.9414999999999999),\n",
              " (189, 0.9017499999999999),\n",
              " (190, 0.8612499999999998),\n",
              " (191, 0.8499999999999999),\n",
              " (192, 0.8237499999999999),\n",
              " (193, 0.7854999999999999),\n",
              " (194, 0.7719999999999999),\n",
              " (195, 0.7802499999999999),\n",
              " (196, 0.9887499999999999),\n",
              " (197, 0.97225),\n",
              " (198, 0.7449999999999999),\n",
              " (199, 0.8499999999999999),\n",
              " (200, 0.71275),\n",
              " (201, 0.8522499999999998),\n",
              " (202, 0.95875),\n",
              " (203, 0.7607499999999999),\n",
              " (204, 0.84925),\n",
              " (205, 0.8432499999999998),\n",
              " (206, 0.8244999999999999),\n",
              " (207, 0.7914999999999999),\n",
              " (208, 0.7585),\n",
              " (209, 0.9542499999999999),\n",
              " (210, 0.8124999999999999),\n",
              " (211, 0.8786287812578886),\n",
              " (212, 0.8072499999999999),\n",
              " (213, 0.7659999999999999),\n",
              " (214, 0.7577499999999999),\n",
              " (215, 0.9182499999999999),\n",
              " (216, 0.9023250319242928),\n",
              " (217, 0.7892499999999999),\n",
              " (218, 0.9197499999999998),\n",
              " (219, 0.85075),\n",
              " (220, 0.673916709961426),\n",
              " (221, 0.721),\n",
              " (222, 0.7547499999999999),\n",
              " (223, 0.8589999999999999),\n",
              " (224, 0.949),\n",
              " (225, 0.8394999999999999),\n",
              " (226, 0.7915),\n",
              " (227, 0.7735),\n",
              " (228, 0.892),\n",
              " (229, 0.7337499999999999),\n",
              " (230, 0.7757499999999999),\n",
              " (231, 0.80275),\n",
              " (232, 0.94675),\n",
              " (233, 0.8679999999999999),\n",
              " (234, 0.7022499999999999),\n",
              " (235, 0.7457499999999999),\n",
              " (236, 0.8432499999999998),\n",
              " (237, 0.9744999999999999),\n",
              " (238, 0.8867499999999998),\n",
              " (239, 0.955),\n",
              " (240, 0.8402499999999999),\n",
              " (241, 0.89125),\n",
              " (242, 0.8874999999999998),\n",
              " (243, 0.8814999999999998),\n",
              " (244, 0.961),\n",
              " (245, 0.8769999999999999),\n",
              " (246, 0.92425),\n",
              " (247, 0.913),\n",
              " (248, 0.7142499999999999),\n",
              " (249, 0.7719999999999999),\n",
              " (250, 0.93175),\n",
              " (251, 0.9602499999999999),\n",
              " (252, 0.9339999999999999),\n",
              " (253, 0.7758851082706425),\n",
              " (254, 0.9414999999999999),\n",
              " (255, 0.78475),\n",
              " (256, 0.7869999999999999),\n",
              " (257, 0.7509999999999999),\n",
              " (258, 0.84625),\n",
              " (259, 0.7735),\n",
              " (260, 0.9159999999999999),\n",
              " (261, 0.9062499999999999),\n",
              " (262, 0.8237499999999999),\n",
              " (263, 0.7974999999999999),\n",
              " (264, 0.8649999999999999),\n",
              " (265, 0.8132499999999999),\n",
              " (266, 0.8514999999999998),\n",
              " (267, 0.8357499999999999),\n",
              " (268, 0.9512499999999999),\n",
              " (269, 0.8785),\n",
              " (270, 0.874),\n",
              " (271, 0.9984999999999999),\n",
              " (272, 0.8094101823764438),\n",
              " (273, 0.9099999999999999),\n",
              " (274, 0.76),\n",
              " (275, 0.7705),\n",
              " (276, 0.7839999999999999),\n",
              " (277, 0.9182499999999999),\n",
              " (278, 0.7764999999999999),\n",
              " (279, 0.8010192486649235),\n",
              " (280, 0.7633234576052049),\n",
              " (281, 0.294)]"
            ]
          },
          "metadata": {
            "tags": []
          },
          "execution_count": 51
        }
      ]
    },
    {
      "cell_type": "markdown",
      "metadata": {
        "id": "PpjPk0mYj2cB"
      },
      "source": [
        "A continuación nos quedamos con los personajes más aprecidos"
      ]
    },
    {
      "cell_type": "code",
      "metadata": {
        "colab": {
          "base_uri": "https://localhost:8080/"
        },
        "id": "fXbDIbEJj6It",
        "outputId": "d4bd8980-ab83-4668-ce50-1f045f1e8573"
      },
      "source": [
        "ordered_scores_final = sorted(distance_scores_final, key=lambda x: x[1])\n",
        "top_scores_final = ordered_scores_final[1:11]\n",
        "top_indexes_final = [i[0] for i in top_scores_final]\n",
        "preprocessedData['name'].iloc[top_indexes_final]"
      ],
      "execution_count": 52,
      "outputs": [
        {
          "output_type": "execute_result",
          "data": {
            "text/plain": [
              "176                            Thor (MAA)\n",
              "171                                 Thena\n",
              "41                               Iron Man\n",
              "220                                 Vapor\n",
              "71                            Shadow King\n",
              "153                  Supreme Intelligence\n",
              "43            Iron Patriot (James Rhodes)\n",
              "19     Captain America/Steve Rogers (MAA)\n",
              "234                                Vision\n",
              "115                            Spider-Man\n",
              "Name: name, dtype: object"
            ]
          },
          "metadata": {
            "tags": []
          },
          "execution_count": 52
        }
      ]
    },
    {
      "cell_type": "markdown",
      "metadata": {
        "id": "w3kRkH69ksT3"
      },
      "source": [
        "Si comparamos estas lista con la que se obtuvo previamente se puede apreciar como las ponderaciones afectaron al resultado final"
      ]
    },
    {
      "cell_type": "code",
      "metadata": {
        "colab": {
          "base_uri": "https://localhost:8080/"
        },
        "id": "nckxTKMdkzOu",
        "outputId": "5de9f75b-4f84-46fc-bb2e-865b1e84ac94"
      },
      "source": [
        "preprocessedData['name'].iloc[top_indexes]"
      ],
      "execution_count": 48,
      "outputs": [
        {
          "output_type": "execute_result",
          "data": {
            "text/plain": [
              "279                                 Zuras\n",
              "171                                 Thena\n",
              "170                      The Leader (HAS)\n",
              "176                            Thor (MAA)\n",
              "1                                  A.I.M.\n",
              "19     Captain America/Steve Rogers (MAA)\n",
              "71                            Shadow King\n",
              "126                                Sprite\n",
              "42              Iron Man/Tony Stark (MAA)\n",
              "177                       Thor (Ultimate)\n",
              "Name: name, dtype: object"
            ]
          },
          "metadata": {
            "tags": []
          },
          "execution_count": 48
        }
      ]
    },
    {
      "cell_type": "markdown",
      "metadata": {
        "id": "gdZqscK2Htde"
      },
      "source": [
        "#**6. Añadir, Modificar y Borrar un personaje del dataset**"
      ]
    },
    {
      "cell_type": "markdown",
      "metadata": {
        "id": "DRd-AeG2ICil"
      },
      "source": [
        "Para **añadir** un personaje al final del DataFrame\n",
        "\n",
        "1.   Se cargan los datos del csv\n",
        "2.   Se añade el nuevo personaje con el método *append()*\n",
        "3.   Se guardan los datos\n",
        "\n",
        "Añadir a *Mr. Yomiquesh*:\n"
      ]
    },
    {
      "cell_type": "code",
      "metadata": {
        "id": "fK7mHShqIL3b",
        "colab": {
          "base_uri": "https://localhost:8080/",
          "height": 419
        },
        "outputId": "c3491916-9337-4a0d-d8fa-126a52ac6c00"
      },
      "source": [
        "import pandas as pd\n",
        "\n",
        "originalData = pd.read_csv('marvel.csv')\n",
        "originalData = originalData.append({'name' : 'Mr. Yomiquesh', 'description' : 'Yomiquesh was once the leader of the Eternals. He is strong as iron and as small as an ant. He is a terrorist'}, ignore_index=True)\n",
        "originalData.to_csv(\"marvel_add.csv\", index=False)\n",
        "\n",
        "originalData"
      ],
      "execution_count": null,
      "outputs": [
        {
          "output_type": "execute_result",
          "data": {
            "text/html": [
              "<div>\n",
              "<style scoped>\n",
              "    .dataframe tbody tr th:only-of-type {\n",
              "        vertical-align: middle;\n",
              "    }\n",
              "\n",
              "    .dataframe tbody tr th {\n",
              "        vertical-align: top;\n",
              "    }\n",
              "\n",
              "    .dataframe thead th {\n",
              "        text-align: right;\n",
              "    }\n",
              "</style>\n",
              "<table border=\"1\" class=\"dataframe\">\n",
              "  <thead>\n",
              "    <tr style=\"text-align: right;\">\n",
              "      <th></th>\n",
              "      <th>name</th>\n",
              "      <th>description</th>\n",
              "    </tr>\n",
              "  </thead>\n",
              "  <tbody>\n",
              "    <tr>\n",
              "      <th>0</th>\n",
              "      <td>A-Bomb (HAS)</td>\n",
              "      <td>Rick Jones has been Hulk's best bud since day ...</td>\n",
              "    </tr>\n",
              "    <tr>\n",
              "      <th>1</th>\n",
              "      <td>A.I.M.</td>\n",
              "      <td>AIM is a terrorist organization bent on destro...</td>\n",
              "    </tr>\n",
              "    <tr>\n",
              "      <th>2</th>\n",
              "      <td>Abomination (Emil Blonsky)</td>\n",
              "      <td>Formerly known as Emil Blonsky, a spy of Sovie...</td>\n",
              "    </tr>\n",
              "    <tr>\n",
              "      <th>3</th>\n",
              "      <td>Adam Warlock</td>\n",
              "      <td>Adam Warlock is an artificially created human ...</td>\n",
              "    </tr>\n",
              "    <tr>\n",
              "      <th>4</th>\n",
              "      <td>Agent X (Nijo)</td>\n",
              "      <td>Originally a partner of the mind-altering assa...</td>\n",
              "    </tr>\n",
              "    <tr>\n",
              "      <th>...</th>\n",
              "      <td>...</td>\n",
              "      <td>...</td>\n",
              "    </tr>\n",
              "    <tr>\n",
              "      <th>277</th>\n",
              "      <td>Zodiak</td>\n",
              "      <td>Twelve demons merged with Norman Harrison, who...</td>\n",
              "    </tr>\n",
              "    <tr>\n",
              "      <th>278</th>\n",
              "      <td>Zombie (Simon Garth)</td>\n",
              "      <td>War hero Simon Garth was turned into a zombie ...</td>\n",
              "    </tr>\n",
              "    <tr>\n",
              "      <th>279</th>\n",
              "      <td>Zuras</td>\n",
              "      <td>Zuras was once the leader of the Eternals.</td>\n",
              "    </tr>\n",
              "    <tr>\n",
              "      <th>280</th>\n",
              "      <td>Zzzax</td>\n",
              "      <td>A chain reaction in an atomic reactor, a resul...</td>\n",
              "    </tr>\n",
              "    <tr>\n",
              "      <th>281</th>\n",
              "      <td>Mr. Yomiquesh</td>\n",
              "      <td>Yomiquesh was once the leader of the Eternals....</td>\n",
              "    </tr>\n",
              "  </tbody>\n",
              "</table>\n",
              "<p>282 rows × 2 columns</p>\n",
              "</div>"
            ],
            "text/plain": [
              "                           name                                        description\n",
              "0                  A-Bomb (HAS)  Rick Jones has been Hulk's best bud since day ...\n",
              "1                        A.I.M.  AIM is a terrorist organization bent on destro...\n",
              "2    Abomination (Emil Blonsky)  Formerly known as Emil Blonsky, a spy of Sovie...\n",
              "3                  Adam Warlock  Adam Warlock is an artificially created human ...\n",
              "4                Agent X (Nijo)  Originally a partner of the mind-altering assa...\n",
              "..                          ...                                                ...\n",
              "277                      Zodiak  Twelve demons merged with Norman Harrison, who...\n",
              "278        Zombie (Simon Garth)  War hero Simon Garth was turned into a zombie ...\n",
              "279                       Zuras         Zuras was once the leader of the Eternals.\n",
              "280                       Zzzax  A chain reaction in an atomic reactor, a resul...\n",
              "281               Mr. Yomiquesh  Yomiquesh was once the leader of the Eternals....\n",
              "\n",
              "[282 rows x 2 columns]"
            ]
          },
          "metadata": {
            "tags": []
          },
          "execution_count": 87
        }
      ]
    },
    {
      "cell_type": "markdown",
      "metadata": {
        "id": "uj-EzaQJK96Z"
      },
      "source": [
        "Para **modificar** un personaje al final del DataFrame\n",
        "\n",
        "1.   Se cargan los datos del csv\n",
        "3.   Se modifica el personaje\n",
        "3.   Se guardan los datos\n",
        "\n",
        "Modificar la descripción de *Mr. Yomiquesh*:"
      ]
    },
    {
      "cell_type": "code",
      "metadata": {
        "id": "pmLYXM3bL9xy",
        "colab": {
          "base_uri": "https://localhost:8080/",
          "height": 419
        },
        "outputId": "d20faf80-a8a0-4a22-9455-2bc6dee794e1"
      },
      "source": [
        "import pandas as pd\n",
        "\n",
        "originalData = pd.read_csv('marvel_add.csv')\n",
        "originalData.loc[originalData['name'] == 'Mr. Yomiquesh', 'description'] = 'Yomiquesh was once the leader of the Eternals.'\n",
        "originalData.to_csv(\"marvel_mod.csv\", index=False)\n",
        "\n",
        "originalData"
      ],
      "execution_count": null,
      "outputs": [
        {
          "output_type": "execute_result",
          "data": {
            "text/html": [
              "<div>\n",
              "<style scoped>\n",
              "    .dataframe tbody tr th:only-of-type {\n",
              "        vertical-align: middle;\n",
              "    }\n",
              "\n",
              "    .dataframe tbody tr th {\n",
              "        vertical-align: top;\n",
              "    }\n",
              "\n",
              "    .dataframe thead th {\n",
              "        text-align: right;\n",
              "    }\n",
              "</style>\n",
              "<table border=\"1\" class=\"dataframe\">\n",
              "  <thead>\n",
              "    <tr style=\"text-align: right;\">\n",
              "      <th></th>\n",
              "      <th>name</th>\n",
              "      <th>description</th>\n",
              "    </tr>\n",
              "  </thead>\n",
              "  <tbody>\n",
              "    <tr>\n",
              "      <th>0</th>\n",
              "      <td>A-Bomb (HAS)</td>\n",
              "      <td>Rick Jones has been Hulk's best bud since day ...</td>\n",
              "    </tr>\n",
              "    <tr>\n",
              "      <th>1</th>\n",
              "      <td>A.I.M.</td>\n",
              "      <td>AIM is a terrorist organization bent on destro...</td>\n",
              "    </tr>\n",
              "    <tr>\n",
              "      <th>2</th>\n",
              "      <td>Abomination (Emil Blonsky)</td>\n",
              "      <td>Formerly known as Emil Blonsky, a spy of Sovie...</td>\n",
              "    </tr>\n",
              "    <tr>\n",
              "      <th>3</th>\n",
              "      <td>Adam Warlock</td>\n",
              "      <td>Adam Warlock is an artificially created human ...</td>\n",
              "    </tr>\n",
              "    <tr>\n",
              "      <th>4</th>\n",
              "      <td>Agent X (Nijo)</td>\n",
              "      <td>Originally a partner of the mind-altering assa...</td>\n",
              "    </tr>\n",
              "    <tr>\n",
              "      <th>...</th>\n",
              "      <td>...</td>\n",
              "      <td>...</td>\n",
              "    </tr>\n",
              "    <tr>\n",
              "      <th>277</th>\n",
              "      <td>Zodiak</td>\n",
              "      <td>Twelve demons merged with Norman Harrison, who...</td>\n",
              "    </tr>\n",
              "    <tr>\n",
              "      <th>278</th>\n",
              "      <td>Zombie (Simon Garth)</td>\n",
              "      <td>War hero Simon Garth was turned into a zombie ...</td>\n",
              "    </tr>\n",
              "    <tr>\n",
              "      <th>279</th>\n",
              "      <td>Zuras</td>\n",
              "      <td>Zuras was once the leader of the Eternals.</td>\n",
              "    </tr>\n",
              "    <tr>\n",
              "      <th>280</th>\n",
              "      <td>Zzzax</td>\n",
              "      <td>A chain reaction in an atomic reactor, a resul...</td>\n",
              "    </tr>\n",
              "    <tr>\n",
              "      <th>281</th>\n",
              "      <td>Mr. Yomiquesh</td>\n",
              "      <td>Yomiquesh was once the leader of the Eternals.</td>\n",
              "    </tr>\n",
              "  </tbody>\n",
              "</table>\n",
              "<p>282 rows × 2 columns</p>\n",
              "</div>"
            ],
            "text/plain": [
              "                           name                                        description\n",
              "0                  A-Bomb (HAS)  Rick Jones has been Hulk's best bud since day ...\n",
              "1                        A.I.M.  AIM is a terrorist organization bent on destro...\n",
              "2    Abomination (Emil Blonsky)  Formerly known as Emil Blonsky, a spy of Sovie...\n",
              "3                  Adam Warlock  Adam Warlock is an artificially created human ...\n",
              "4                Agent X (Nijo)  Originally a partner of the mind-altering assa...\n",
              "..                          ...                                                ...\n",
              "277                      Zodiak  Twelve demons merged with Norman Harrison, who...\n",
              "278        Zombie (Simon Garth)  War hero Simon Garth was turned into a zombie ...\n",
              "279                       Zuras         Zuras was once the leader of the Eternals.\n",
              "280                       Zzzax  A chain reaction in an atomic reactor, a resul...\n",
              "281               Mr. Yomiquesh     Yomiquesh was once the leader of the Eternals.\n",
              "\n",
              "[282 rows x 2 columns]"
            ]
          },
          "metadata": {
            "tags": []
          },
          "execution_count": 100
        }
      ]
    },
    {
      "cell_type": "markdown",
      "metadata": {
        "id": "TsXJRdroJKPV"
      },
      "source": [
        "Para **borrar** un personaje al final del DataFrame\n",
        "\n",
        "1.   Se cargan los datos del csv\n",
        "2.   Se obtiene el índice del personaje\n",
        "3.   Se borra el personaje\n",
        "3.   Se guardan los datos\n",
        "\n",
        "Eliminar a *Mr. Yomiquesh*:"
      ]
    },
    {
      "cell_type": "code",
      "metadata": {
        "id": "gqSLVBM4JQhs",
        "colab": {
          "base_uri": "https://localhost:8080/",
          "height": 419
        },
        "outputId": "cf667529-5b54-46b3-cc95-ad149790bcc7"
      },
      "source": [
        "import pandas as pd\n",
        "\n",
        "originalData = pd.read_csv('marvel_add.csv')\n",
        "indexOfCharacter = originalData[originalData['name']==\"Mr. Yomiquesh\"].index.values[0]\n",
        "originalData = originalData.drop(indexOfCharacter, axis=0)\n",
        "originalData.to_csv(\"marvel_delete.csv\", index=False)\n",
        "\n",
        "originalData"
      ],
      "execution_count": null,
      "outputs": [
        {
          "output_type": "execute_result",
          "data": {
            "text/html": [
              "<div>\n",
              "<style scoped>\n",
              "    .dataframe tbody tr th:only-of-type {\n",
              "        vertical-align: middle;\n",
              "    }\n",
              "\n",
              "    .dataframe tbody tr th {\n",
              "        vertical-align: top;\n",
              "    }\n",
              "\n",
              "    .dataframe thead th {\n",
              "        text-align: right;\n",
              "    }\n",
              "</style>\n",
              "<table border=\"1\" class=\"dataframe\">\n",
              "  <thead>\n",
              "    <tr style=\"text-align: right;\">\n",
              "      <th></th>\n",
              "      <th>name</th>\n",
              "      <th>description</th>\n",
              "    </tr>\n",
              "  </thead>\n",
              "  <tbody>\n",
              "    <tr>\n",
              "      <th>0</th>\n",
              "      <td>A-Bomb (HAS)</td>\n",
              "      <td>Rick Jones has been Hulk's best bud since day ...</td>\n",
              "    </tr>\n",
              "    <tr>\n",
              "      <th>1</th>\n",
              "      <td>A.I.M.</td>\n",
              "      <td>AIM is a terrorist organization bent on destro...</td>\n",
              "    </tr>\n",
              "    <tr>\n",
              "      <th>2</th>\n",
              "      <td>Abomination (Emil Blonsky)</td>\n",
              "      <td>Formerly known as Emil Blonsky, a spy of Sovie...</td>\n",
              "    </tr>\n",
              "    <tr>\n",
              "      <th>3</th>\n",
              "      <td>Adam Warlock</td>\n",
              "      <td>Adam Warlock is an artificially created human ...</td>\n",
              "    </tr>\n",
              "    <tr>\n",
              "      <th>4</th>\n",
              "      <td>Agent X (Nijo)</td>\n",
              "      <td>Originally a partner of the mind-altering assa...</td>\n",
              "    </tr>\n",
              "    <tr>\n",
              "      <th>...</th>\n",
              "      <td>...</td>\n",
              "      <td>...</td>\n",
              "    </tr>\n",
              "    <tr>\n",
              "      <th>276</th>\n",
              "      <td>Zarek</td>\n",
              "      <td>Zarek is a member of the Kree race with no sup...</td>\n",
              "    </tr>\n",
              "    <tr>\n",
              "      <th>277</th>\n",
              "      <td>Zodiak</td>\n",
              "      <td>Twelve demons merged with Norman Harrison, who...</td>\n",
              "    </tr>\n",
              "    <tr>\n",
              "      <th>278</th>\n",
              "      <td>Zombie (Simon Garth)</td>\n",
              "      <td>War hero Simon Garth was turned into a zombie ...</td>\n",
              "    </tr>\n",
              "    <tr>\n",
              "      <th>279</th>\n",
              "      <td>Zuras</td>\n",
              "      <td>Zuras was once the leader of the Eternals.</td>\n",
              "    </tr>\n",
              "    <tr>\n",
              "      <th>280</th>\n",
              "      <td>Zzzax</td>\n",
              "      <td>A chain reaction in an atomic reactor, a resul...</td>\n",
              "    </tr>\n",
              "  </tbody>\n",
              "</table>\n",
              "<p>281 rows × 2 columns</p>\n",
              "</div>"
            ],
            "text/plain": [
              "                           name                                        description\n",
              "0                  A-Bomb (HAS)  Rick Jones has been Hulk's best bud since day ...\n",
              "1                        A.I.M.  AIM is a terrorist organization bent on destro...\n",
              "2    Abomination (Emil Blonsky)  Formerly known as Emil Blonsky, a spy of Sovie...\n",
              "3                  Adam Warlock  Adam Warlock is an artificially created human ...\n",
              "4                Agent X (Nijo)  Originally a partner of the mind-altering assa...\n",
              "..                          ...                                                ...\n",
              "276                       Zarek  Zarek is a member of the Kree race with no sup...\n",
              "277                      Zodiak  Twelve demons merged with Norman Harrison, who...\n",
              "278        Zombie (Simon Garth)  War hero Simon Garth was turned into a zombie ...\n",
              "279                       Zuras         Zuras was once the leader of the Eternals.\n",
              "280                       Zzzax  A chain reaction in an atomic reactor, a resul...\n",
              "\n",
              "[281 rows x 2 columns]"
            ]
          },
          "metadata": {
            "tags": []
          },
          "execution_count": 86
        }
      ]
    }
  ]
}